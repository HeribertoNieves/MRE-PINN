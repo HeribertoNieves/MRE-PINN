{
 "cells": [
  {
   "cell_type": "code",
   "execution_count": 1,
   "metadata": {},
   "outputs": [
    {
     "name": "stdout",
     "output_type": "stream",
     "text": [
      "v016.ib.bridges2.psc.edu\n",
      "/ocean/projects/asc170022p/mtragoza/mre-pinn/notebooks\n"
     ]
    }
   ],
   "source": [
    "%matplotlib notebook\n",
    "%load_ext autoreload\n",
    "%autoreload 1\n",
    "!hostname\n",
    "!pwd"
   ]
  },
  {
   "cell_type": "code",
   "execution_count": 2,
   "metadata": {},
   "outputs": [
    {
     "name": "stderr",
     "output_type": "stream",
     "text": [
      "Using backend: pytorch\n",
      "\n"
     ]
    },
    {
     "data": {
      "text/plain": [
       "True"
      ]
     },
     "execution_count": 2,
     "metadata": {},
     "output_type": "execute_result"
    }
   ],
   "source": [
    "import sys, os, pathlib\n",
    "import numpy as np\n",
    "import xarray as xr\n",
    "import torch\n",
    "import matplotlib.pyplot as plt\n",
    "import seaborn as sns\n",
    "\n",
    "os.environ['DDEBACKEND'] = 'pytorch'\n",
    "import deepxde\n",
    "\n",
    "sys.path.append('..')\n",
    "%aimport mre_pinn\n",
    "\n",
    "torch.cuda.is_available()"
   ]
  },
  {
   "cell_type": "code",
   "execution_count": 3,
   "metadata": {
    "scrolled": false
   },
   "outputs": [
    {
     "name": "stdout",
     "output_type": "stream",
     "text": [
      "Downloading https://bioqic-apps.charite.de/DownloadSamples?file=phantom_unwrapped_dejittered.mat\n",
      "Loading ../data/BIOQIC/downloads/phantom_unwrapped_dejittered.mat\n",
      "    __header__: <class 'bytes'>\n",
      "    __version__: <class 'str'>\n",
      "    __globals__: <class 'list'>\n",
      "    info: <class 'numpy.ndarray'> (1, 1) [('dx_m', 'O'), ('dy_m', 'O'), ('dz_m', 'O'), ('frequencies_Hz', 'O'), ('index_description', 'O'), ('size', 'O')]\n",
      "    magnitude: <class 'numpy.ndarray'> (80, 128, 25, 8, 3, 8) uint16\n",
      "    phase_unwrap_noipd: <class 'numpy.ndarray'> (80, 128, 25, 8, 3, 8) float64\n",
      "<xarray.Dataset>\n",
      "Dimensions:    (frequency: 8, t: 8, x: 128, y: 80, z: 25, component: 3)\n",
      "Coordinates:\n",
      "  * frequency  (frequency) int64 30 40 50 60 70 80 90 100\n",
      "  * t          (t) int64 0 1 2 3 4 5 6 7\n",
      "  * x          (x) float64 0.0 0.0015 0.003 0.0045 ... 0.186 0.1875 0.189 0.1905\n",
      "  * y          (y) float64 0.0 0.0015 0.003 0.0045 ... 0.114 0.1155 0.117 0.1185\n",
      "  * z          (z) float64 0.0 0.0015 0.003 0.0045 ... 0.0315 0.033 0.0345 0.036\n",
      "  * component  (component) <U1 'z' 'x' 'y'\n",
      "Data variables:\n",
      "    wave       (frequency, t, x, y, z, component) float64 -0.6366 ... -3.561\n",
      "    anat       (frequency, t, x, y, z, component) uint16 0 0 0 0 ... 41 33 13 78\n",
      "Segmenting spatial regions\n",
      "Creating ground truth elastogram\n",
      "Preprocessing wave image\n",
      "Writing ../data/BIOQIC/phantom/30/anat.nc\n",
      "Writing ../data/BIOQIC/phantom/30/anat_mask.nc\n",
      "Writing ../data/BIOQIC/phantom/30/wave.nc\n",
      "Writing ../data/BIOQIC/phantom/30/mre.nc\n",
      "Writing ../data/BIOQIC/phantom/30/mre_mask.nc\n",
      "Writing ../data/BIOQIC/phantom/40/anat.nc\n",
      "Writing ../data/BIOQIC/phantom/40/anat_mask.nc\n",
      "Writing ../data/BIOQIC/phantom/40/wave.nc\n",
      "Writing ../data/BIOQIC/phantom/40/mre.nc\n",
      "Writing ../data/BIOQIC/phantom/40/mre_mask.nc\n",
      "Writing ../data/BIOQIC/phantom/50/anat.nc\n",
      "Writing ../data/BIOQIC/phantom/50/anat_mask.nc\n",
      "Writing ../data/BIOQIC/phantom/50/wave.nc\n",
      "Writing ../data/BIOQIC/phantom/50/mre.nc\n",
      "Writing ../data/BIOQIC/phantom/50/mre_mask.nc\n",
      "Writing ../data/BIOQIC/phantom/60/anat.nc\n",
      "Writing ../data/BIOQIC/phantom/60/anat_mask.nc\n",
      "Writing ../data/BIOQIC/phantom/60/wave.nc\n",
      "Writing ../data/BIOQIC/phantom/60/mre.nc\n",
      "Writing ../data/BIOQIC/phantom/60/mre_mask.nc\n",
      "Writing ../data/BIOQIC/phantom/70/anat.nc\n",
      "Writing ../data/BIOQIC/phantom/70/anat_mask.nc\n",
      "Writing ../data/BIOQIC/phantom/70/wave.nc\n",
      "Writing ../data/BIOQIC/phantom/70/mre.nc\n",
      "Writing ../data/BIOQIC/phantom/70/mre_mask.nc\n",
      "Writing ../data/BIOQIC/phantom/80/anat.nc\n",
      "Writing ../data/BIOQIC/phantom/80/anat_mask.nc\n",
      "Writing ../data/BIOQIC/phantom/80/wave.nc\n",
      "Writing ../data/BIOQIC/phantom/80/mre.nc\n",
      "Writing ../data/BIOQIC/phantom/80/mre_mask.nc\n",
      "Writing ../data/BIOQIC/phantom/90/anat.nc\n",
      "Writing ../data/BIOQIC/phantom/90/anat_mask.nc\n",
      "Writing ../data/BIOQIC/phantom/90/wave.nc\n",
      "Writing ../data/BIOQIC/phantom/90/mre.nc\n",
      "Writing ../data/BIOQIC/phantom/90/mre_mask.nc\n",
      "Writing ../data/BIOQIC/phantom/100/anat.nc\n",
      "Writing ../data/BIOQIC/phantom/100/anat_mask.nc\n",
      "Writing ../data/BIOQIC/phantom/100/wave.nc\n",
      "Writing ../data/BIOQIC/phantom/100/mre.nc\n",
      "Writing ../data/BIOQIC/phantom/100/mre_mask.nc\n"
     ]
    }
   ],
   "source": [
    "%autoreload\n",
    "bioqic = mre_pinn.data.BIOQICPhantom('../data/BIOQIC/downloads')\n",
    "bioqic.download()\n",
    "bioqic.load_mat()\n",
    "bioqic.preprocess()\n",
    "dataset = bioqic.to_dataset()\n",
    "dataset.save_xarrays('../data/BIOQIC/phantom')"
   ]
  },
  {
   "cell_type": "code",
   "execution_count": null,
   "metadata": {},
   "outputs": [],
   "source": [
    "%autoreload\n",
    "dataset = mre_pinn.data.MREDataset.load_xarrays('../data/BIOQIC/phantom', anat=True)"
   ]
  },
  {
   "cell_type": "code",
   "execution_count": null,
   "metadata": {},
   "outputs": [],
   "source": [
    "%autoreload\n",
    "dataset[0].metadata"
   ]
  },
  {
   "cell_type": "code",
   "execution_count": null,
   "metadata": {},
   "outputs": [],
   "source": [
    "%autoreload\n",
    "dataset[0].describe()"
   ]
  },
  {
   "cell_type": "code",
   "execution_count": null,
   "metadata": {},
   "outputs": [],
   "source": [
    "%autoreload\n",
    "dataset[0].eval_baseline(frequency=dataset[0].wave.frequency.item(), polar=True)"
   ]
  },
  {
   "cell_type": "code",
   "execution_count": null,
   "metadata": {},
   "outputs": [],
   "source": [
    "dataset[0].view('mre', 'base', ax_height=2, col='part', polar=False)"
   ]
  },
  {
   "cell_type": "code",
   "execution_count": null,
   "metadata": {},
   "outputs": [],
   "source": [
    "%autoreload\n",
    "\n",
    "# initialize the PDE, geometry, and boundary conditions\n",
    "pde = mre_pinn.pde.WaveEquation.from_name('helmholtz', detach=True)\n",
    "geom = deepxde.geometry.Hypercube(x.min(axis=0), x.max(axis=0) + 1e-5)\n",
    "#geom = deepxde.geometry.PointCloud(x)\n",
    "bc = mre_pinn.fields.VectorFieldBC(x, u)"
   ]
  },
  {
   "cell_type": "code",
   "execution_count": null,
   "metadata": {},
   "outputs": [],
   "source": [
    "%autoreload\n",
    "\n",
    "# define model architecture\n",
    "\n",
    "net = mre_pinn.model.MREPINN(\n",
    "    input=x,\n",
    "    outputs=[u, mu],\n",
    "    omega0=16,\n",
    "    n_layers=5,\n",
    "    n_hidden=128,\n",
    "    activ_fn='t',\n",
    "    parallel=True,\n",
    "    dense=True,\n",
    "    dtype=torch.float32\n",
    ")\n",
    "\n",
    "net"
   ]
  },
  {
   "cell_type": "code",
   "execution_count": null,
   "metadata": {},
   "outputs": [],
   "source": [
    "model = mre_pinn.training.MREPINNModel(\n",
    "    net, pde, geom, bc,\n",
    "    batch_size=80,\n",
    "    num_domain=128 - 80,\n",
    "    num_boundary=0,\n",
    "    train_distribution='pseudo', # NOT using anchors currently!\n",
    "    anchors=None\n",
    ")"
   ]
  },
  {
   "cell_type": "code",
   "execution_count": null,
   "metadata": {
    "scrolled": false
   },
   "outputs": [],
   "source": [
    "# descriptive statistics\n",
    "\n",
    "%autoreload\n",
    "\n",
    "kws = dict(axis=0, keepdims=True)\n",
    "\n",
    "# standardize input to [-1, 1]\n",
    "x_loc = x.mean(**kws)\n",
    "x_scale = (x.max(**kws) - x.min(**kws)) / 2\n",
    "print('x', x_loc, x_scale)\n",
    "\n",
    "# avoid division by zero\n",
    "x_scale[x_scale == 0] = 1\n",
    "x_s = (x - x_loc) / x_scale\n",
    "\n",
    "# test forward pass\n",
    "u_pred, lu_pred, mu_pred, f_trac, f_body = model.predict(x, batch_size=128)\n",
    "pde_res = f_trac + f_body\n",
    "\n",
    "u_pred = u_pred.detach().cpu().numpy()\n",
    "lu_pred = lu_pred.detach().cpu().numpy()\n",
    "mu_pred = mu_pred.detach().cpu().numpy()\n",
    "\n",
    "# normalize outputs via mean and std\n",
    "u_loc = u.mean(**kws)\n",
    "u_scale = u.std(**kws)\n",
    "print('u', u_loc, u_scale)\n",
    "\n",
    "u_s = (u - u_loc) / u_scale\n",
    "u_pred_s = (u_pred - u_loc) / u_scale\n",
    "\n",
    "mu_loc = mu.mean(**kws)\n",
    "mu_scale = mu.std(**kws)\n",
    "print('mu', mu_loc, mu_scale)\n",
    "\n",
    "mu_s = (mu - mu_loc) / mu_scale\n",
    "mu_pred_s = (mu_pred - mu_loc) / mu_scale\n",
    "\n",
    "# compute laplacian statistics\n",
    "lu_loc = lu_pred.mean(**kws)\n",
    "lu_scale = lu_pred.std(**kws)\n",
    "print('lu', lu_loc, lu_scale)\n",
    "\n",
    "# display input and output distributions\n",
    "\n",
    "def hex_to_rgb(h):\n",
    "    return tuple(int(h[i:i+2], 16) for i in (0, 2, 4))\n",
    "\n",
    "def plot_hist(ax, a, xlabel, hue=None):\n",
    "    if np.iscomplexobj(a):\n",
    "        a = mre_pinn.utils.as_real(a)\n",
    "    bin_width = (a.max() - a.min()) / 20\n",
    "    for a, hue in zip(a.T, hue):\n",
    "        bins = np.arange(a.min(), a.max() + bin_width, bin_width)\n",
    "        color = next(ax._get_lines.prop_cycler)[\"color\"]\n",
    "        ax.hist(a, bins=bins, label=hue, edgecolor='0.2', fc=color + '80')\n",
    "    ax.set_xlabel(xlabel)\n",
    "    ax.legend(frameon=True, edgecolor='0.2')\n",
    "\n",
    "fig, axes = plt.subplots(6, 2, figsize=(8, 10))\n",
    "\n",
    "ndim = len(data.u.field.spatial_dims)\n",
    "x_hues = ['$\\omega$', '$x$', '$y$', '$z$'][:ndim+1]\n",
    "plot_hist(axes[0,0], x,   hue=x_hues, xlabel='x')\n",
    "plot_hist(axes[0,1], x_s, hue=x_hues, xlabel='x_s')\n",
    "\n",
    "u_hues = ['$u_z$', '$u_y$', '$u_x$'][:ndim]\n",
    "u_hues = [p.format(h) for h in u_hues for p in ['Re[{}]', 'Im[{}]']]\n",
    "plot_hist(axes[1,0], u_pred,   hue=u_hues, xlabel='u_pred')\n",
    "plot_hist(axes[1,1], u_pred_s, hue=u_hues, xlabel='u_pred_s')\n",
    "\n",
    "plot_hist(axes[2,0], u,   hue=u_hues, xlabel='u_true')\n",
    "plot_hist(axes[2,1], u_s, hue=u_hues, xlabel='u_true_s')\n",
    "\n",
    "mu_hues = ['Re[$\\mu$]', 'Im[$\\mu$]']\n",
    "plot_hist(axes[3,0], mu_pred,   hue=mu_hues, xlabel='mu_pred')\n",
    "plot_hist(axes[3,1], mu_pred_s, hue=mu_hues, xlabel='mu_pred_s')\n",
    "\n",
    "plot_hist(axes[4,0], mu,   hue=mu_hues, xlabel='mu_true')\n",
    "plot_hist(axes[4,1], mu_s, hue=mu_hues, xlabel='mu_true_s')\n",
    "\n",
    "lu_hues = ['$\\\\nabla^2 u_z$', '$\\\\nabla^2 u_y$', '$\\nabla^2 u_x$'][:ndim]\n",
    "#lu_hues = [p.format(h) for h in lu_hues for p in ['Re[{}]', 'Im[{}]']]\n",
    "plot_hist(axes[5,0], lu_pred, hue=lu_hues, xlabel='lu_pred')\n",
    "\n",
    "fig.tight_layout()"
   ]
  },
  {
   "cell_type": "code",
   "execution_count": null,
   "metadata": {
    "scrolled": false
   },
   "outputs": [],
   "source": [
    "%autoreload\n",
    "\n",
    "model.compile(\n",
    "    optimizer='adam',\n",
    "    lr=1e-4,\n",
    "    loss_weights=[1e-8, 1],\n",
    "    loss=mre_pinn.training.normalized_l2_loss_fn(u)\n",
    ")\n",
    "deepxde.display.training_display = mre_pinn.training.SummaryDisplay()\n",
    "callbacks = [\n",
    "    mre_pinn.training.TestEvaluation(test_data, batch_size=128, test_every=100, save_every=1000, interact=True),\n",
    "    mre_pinn.training.PDEResampler(period=1),\n",
    "]\n",
    "\n",
    "try:\n",
    "    model.train(100000, display_every=10, callbacks=callbacks)\n",
    "except KeyboardInterrupt as e:\n",
    "    print('Interrupt', file=sys.stderr)"
   ]
  },
  {
   "cell_type": "code",
   "execution_count": null,
   "metadata": {
    "scrolled": false
   },
   "outputs": [],
   "source": [
    "%autoreload\n",
    "test_eval = mre_pinn.training.TestEvaluation(data, batch_size=128, plot=False, view=True, interact=True)\n",
    "test_eval.model = model\n",
    "test_eval.test_evaluate(data)"
   ]
  },
  {
   "cell_type": "code",
   "execution_count": null,
   "metadata": {},
   "outputs": [],
   "source": []
  }
 ],
 "metadata": {
  "kernelspec": {
   "display_name": "MRE-PINN",
   "language": "python",
   "name": "mre-pinn"
  },
  "language_info": {
   "codemirror_mode": {
    "name": "ipython",
    "version": 3
   },
   "file_extension": ".py",
   "mimetype": "text/x-python",
   "name": "python",
   "nbconvert_exporter": "python",
   "pygments_lexer": "ipython3",
   "version": "3.10.6"
  }
 },
 "nbformat": 4,
 "nbformat_minor": 4
}
