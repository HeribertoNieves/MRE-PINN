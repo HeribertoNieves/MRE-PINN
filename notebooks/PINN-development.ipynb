{
 "cells": [
  {
   "cell_type": "code",
   "execution_count": 1,
   "metadata": {},
   "outputs": [
    {
     "data": {
      "text/plain": [
       "'/ocean/projects/asc170022p/mtragoza/MRE-PINN'"
      ]
     },
     "execution_count": 1,
     "metadata": {},
     "output_type": "execute_result"
    }
   ],
   "source": [
    "%pwd"
   ]
  },
  {
   "cell_type": "code",
   "execution_count": 11,
   "metadata": {},
   "outputs": [
    {
     "name": "stdout",
     "output_type": "stream",
     "text": [
      "The autoreload extension is already loaded. To reload it, use:\n",
      "  %reload_ext autoreload\n"
     ]
    }
   ],
   "source": [
    "%load_ext autoreload\n",
    "%autoreload 1\n",
    "%matplotlib notebook"
   ]
  },
  {
   "cell_type": "code",
   "execution_count": 12,
   "metadata": {},
   "outputs": [],
   "source": [
    "import sys, os\n",
    "os.environ['DDEBACKEND'] = 'pytorch'\n",
    "import numpy as np\n",
    "import matplotlib.pyplot as plt\n",
    "\n",
    "%aimport mre_pinn"
   ]
  },
  {
   "cell_type": "code",
   "execution_count": 14,
   "metadata": {},
   "outputs": [
    {
     "name": "stderr",
     "output_type": "stream",
     "text": [
      "/ocean/projects/asc170022p/mtragoza/.conda/envs/MRE-PINN/lib/python3.8/site-packages/deepxde/backend/pytorch/tensor.py:64: UserWarning: Casting complex values to real discards the imaginary part (Triggered internally at  /opt/conda/conda-bld/pytorch_1646755853042/work/aten/src/ATen/native/Copy.cpp:239.)\n",
      "  return torch.as_tensor(data, dtype=dtype)\n"
     ]
    }
   ],
   "source": [
    "%autoreload\n",
    "wave_file = 'data/wave_sim/steady_state_wave.npy'\n",
    "wave_image = mre_pinn.ImagePointSet(wave_file)"
   ]
  },
  {
   "cell_type": "code",
   "execution_count": 18,
   "metadata": {},
   "outputs": [
    {
     "data": {
      "text/plain": [
       "<mre_pinn.data.ImagePointSet at 0x152b7489deb0>"
      ]
     },
     "execution_count": 18,
     "metadata": {},
     "output_type": "execute_result"
    }
   ],
   "source": [
    "wave_image"
   ]
  },
  {
   "cell_type": "code",
   "execution_count": 54,
   "metadata": {},
   "outputs": [
    {
     "data": {
      "text/plain": [
       "Parallel(\n",
       "  (0): ComplexFFN(\n",
       "    (0): Linear(in_features=2, out_features=4, bias=True)\n",
       "  )\n",
       "  (1): ComplexFFN(\n",
       "    (0): Linear(in_features=2, out_features=2, bias=True)\n",
       "  )\n",
       ")"
      ]
     },
     "execution_count": 54,
     "metadata": {},
     "output_type": "execute_result"
    }
   ],
   "source": [
    "import torch\n",
    "import deepxde\n",
    "\n",
    "dtype = deepxde.config.real(torch)\n",
    "\n",
    "\n",
    "def as_complex(t):\n",
    "    real, imag = t[:,::2], t[:,1::2]\n",
    "    return torch.complex(real, imag)\n",
    "\n",
    "\n",
    "class ComplexFFN(torch.nn.ModuleList):\n",
    "    \n",
    "    def __init__(self, n_input, n_layers, n_hidden, n_output, activ_fn):\n",
    "        \n",
    "        modules = []\n",
    "        for i in range(n_layers):\n",
    "            is_first_layer = (i == 0)\n",
    "            is_last_layer = (i == n_layers - 1)\n",
    "            linear = torch.nn.Linear(\n",
    "                n_input if is_first_layer else n_hidden,\n",
    "                n_output*2 if is_last_layer else n_hidden\n",
    "            )\n",
    "            modules.append(linear)\n",
    "    \n",
    "        self.activ_fn = activ_fn\n",
    "        super().__init__(modules)\n",
    "        \n",
    "    def forward(self, input):\n",
    "        \n",
    "        for i, module in enumerate(self):\n",
    "            if i < len(self) - 1:\n",
    "                input = self.activ_fn(module(input))\n",
    "            else:\n",
    "                output = as_complex(module(input))\n",
    "        return output\n",
    "\n",
    "\n",
    "class Parallel(torch.nn.ModuleList):\n",
    "    \n",
    "    def forward(self, input):\n",
    "        outputs = [module(input) for module in self]\n",
    "        return torch.cat(outputs, dim=1)\n",
    "\n",
    "\n",
    "u_net  = ComplexFFN(n_input=2, n_layers=1, n_hidden=3, activ_fn=torch.sin, n_output=2)\n",
    "mu_net = ComplexFFN(n_input=2, n_layers=1, n_hidden=3, activ_fn=torch.sin, n_output=1)\n",
    "\n",
    "Parallel([u_net, mu_net]) #(torch.eye(2))"
   ]
  },
  {
   "cell_type": "code",
   "execution_count": 49,
   "metadata": {},
   "outputs": [
    {
     "data": {
      "text/plain": [
       "(array([0, 2, 4, 6]), array([1, 3, 5, 7]))"
      ]
     },
     "execution_count": 49,
     "metadata": {},
     "output_type": "execute_result"
    }
   ],
   "source": [
    "t = np.arange(8)\n",
    "t[0::2], t[1::2]"
   ]
  },
  {
   "cell_type": "code",
   "execution_count": null,
   "metadata": {},
   "outputs": [],
   "source": []
  }
 ],
 "metadata": {
  "kernelspec": {
   "display_name": "MRE-PINN",
   "language": "python",
   "name": "mre-pinn"
  },
  "language_info": {
   "codemirror_mode": {
    "name": "ipython",
    "version": 3
   },
   "file_extension": ".py",
   "mimetype": "text/x-python",
   "name": "python",
   "nbconvert_exporter": "python",
   "pygments_lexer": "ipython3",
   "version": "3.8.13"
  }
 },
 "nbformat": 4,
 "nbformat_minor": 4
}
