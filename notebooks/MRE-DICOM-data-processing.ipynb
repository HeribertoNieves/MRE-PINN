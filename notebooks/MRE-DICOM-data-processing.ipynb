{
 "cells": [
  {
   "cell_type": "code",
   "execution_count": 1,
   "metadata": {},
   "outputs": [
    {
     "name": "stdout",
     "output_type": "stream",
     "text": [
      "dv001.ib.bridges2.psc.edu\n",
      "/ocean/projects/asc170022p/mtragoza/mre-pinn/notebooks\n"
     ]
    }
   ],
   "source": [
    "%matplotlib notebook\n",
    "%load_ext autoreload\n",
    "%autoreload 1\n",
    "!hostname\n",
    "!pwd"
   ]
  },
  {
   "cell_type": "code",
   "execution_count": 2,
   "metadata": {},
   "outputs": [
    {
     "name": "stderr",
     "output_type": "stream",
     "text": [
      "Using backend: pytorch\n",
      "\n"
     ]
    },
    {
     "data": {
      "text/plain": [
       "True"
      ]
     },
     "execution_count": 2,
     "metadata": {},
     "output_type": "execute_result"
    }
   ],
   "source": [
    "import sys, os, tqdm\n",
    "import numpy as np\n",
    "import xarray as xr\n",
    "import torch\n",
    "\n",
    "os.environ['DDEBACKEND'] = 'pytorch'\n",
    "import deepxde\n",
    "\n",
    "sys.path.append('..')\n",
    "%aimport mre_pinn\n",
    "\n",
    "sys.path.append('../../mre_ai')\n",
    "#import mre_ai.mre_datasets\n",
    "\n",
    "torch.cuda.is_available()"
   ]
  },
  {
   "cell_type": "markdown",
   "metadata": {},
   "source": [
    "## Process images for a single patient\n",
    "\n",
    "- load SITK images from NIFIT files\n",
    "- perform filtering/inpainting on wave image\n",
    "- register images wrt anatomical image\n",
    "- load segmentation model\n",
    "- perform image segmentation\n",
    "- convert images to xarray Dataset"
   ]
  },
  {
   "cell_type": "code",
   "execution_count": 26,
   "metadata": {},
   "outputs": [],
   "source": [
    "%autoreload\n",
    "patient = mre_pinn.data.Patient(\n",
    "    nifti_dir='/ocean/projects/asc170022p/shared/Data/MRE/MRE_DICOM_7-31-19/NIFTI',\n",
    "    patient_id='0006',\n",
    "    xarray_dir='../data/NAFLD/'\n",
    ")"
   ]
  },
  {
   "cell_type": "markdown",
   "metadata": {},
   "source": [
    "## Process images for a patient cohort"
   ]
  },
  {
   "cell_type": "code",
   "execution_count": 92,
   "metadata": {
    "scrolled": true
   },
   "outputs": [
    {
     "name": "stdout",
     "output_type": "stream",
     "text": [
      "/ocean/projects/asc170022p/shared/Data/MRE/MRE_DICOM_10-09-19/NIFTI/0822 is missing sequences {'mre_raw', 'mre', 't2', 'wave'}\n",
      "/ocean/projects/asc170022p/shared/Data/MRE/MRE_DICOM_10-09-19/NIFTI/0830 is missing sequences {'wave'}\n",
      "/ocean/projects/asc170022p/shared/Data/MRE/MRE_DICOM_10-09-19/NIFTI/0838 is missing sequences {'wave'}\n",
      "/ocean/projects/asc170022p/shared/Data/MRE/MRE_DICOM_10-09-19/NIFTI/0846 is missing sequences {'wave'}\n",
      "/ocean/projects/asc170022p/shared/Data/MRE/MRE_DICOM_10-09-19/NIFTI/0850 is missing sequences {'mre_raw', 'mre', 't2', 'wave'}\n",
      "/ocean/projects/asc170022p/shared/Data/MRE/MRE_DICOM_10-09-19/NIFTI/0854 is missing sequences {'t1_pre_fat', 't1_pre_water', 't2', 'wave', 't1_pre_in', 't1_pre_out'}\n",
      "/ocean/projects/asc170022p/shared/Data/MRE/MRE_DICOM_10-09-19/NIFTI/0859 is missing sequences {'wave'}\n",
      "/ocean/projects/asc170022p/shared/Data/MRE/MRE_DICOM_10-09-19/NIFTI/0860 is missing sequences {'wave'}\n",
      "/ocean/projects/asc170022p/shared/Data/MRE/MRE_DICOM_10-09-19/NIFTI/0872 is missing sequences {'wave'}\n",
      "/ocean/projects/asc170022p/shared/Data/MRE/MRE_DICOM_10-09-19/NIFTI/0890 is missing sequences {'wave'}\n",
      "/ocean/projects/asc170022p/shared/Data/MRE/MRE_DICOM_10-09-19/NIFTI/0894 is missing sequences {'t1_pre_water', 't1_pre_out', 't1_pre_in', 't1_pre_fat'}\n",
      "/ocean/projects/asc170022p/shared/Data/MRE/MRE_DICOM_10-09-19/NIFTI/0903 is missing sequences {'t1_pre_fat', 't1_pre_water', 't2', 't1_pre_in', 't1_pre_out'}\n",
      "/ocean/projects/asc170022p/shared/Data/MRE/MRE_DICOM_10-09-19/NIFTI/0910 is missing sequences {'t2'}\n",
      "/ocean/projects/asc170022p/shared/Data/MRE/MRE_DICOM_10-09-19/NIFTI/0917 is missing sequences {'mre_raw', 't1_pre_fat', 'mre', 't2', 't1_pre_in', 'wave', 't1_pre_out'}\n",
      "/ocean/projects/asc170022p/shared/Data/MRE/MRE_DICOM_10-09-19/NIFTI/1002 is missing sequences {'t2'}\n",
      "/ocean/projects/asc170022p/shared/Data/MRE/MRE_DICOM_10-09-19/NIFTI/1082 is missing sequences {'t2'}\n",
      "/ocean/projects/asc170022p/shared/Data/MRE/MRE_DICOM_10-09-19/NIFTI/1105 is missing sequences {'t1_pre_fat', 't1_pre_water', 't2', 't1_pre_in', 't1_pre_out'}\n",
      "/ocean/projects/asc170022p/shared/Data/MRE/MRE_DICOM_10-09-19/NIFTI/1155 is missing sequences {'t2'}\n",
      "/ocean/projects/asc170022p/shared/Data/MRE/MRE_DICOM_10-09-19/NIFTI/1156 is missing sequences {'t2'}\n",
      "/ocean/projects/asc170022p/shared/Data/MRE/MRE_DICOM_10-09-19/NIFTI/1171 is missing sequences {'wave'}\n",
      "/ocean/projects/asc170022p/shared/Data/MRE/MRE_DICOM_10-09-19/NIFTI/1192 is missing sequences {'t1_pre_water', 't1_pre_out', 't1_pre_in', 't1_pre_fat'}\n",
      "/ocean/projects/asc170022p/shared/Data/MRE/MRE_DICOM_10-09-19/NIFTI/1214 is missing sequences {'t1_pre_water', 't1_pre_out', 't1_pre_in', 't1_pre_fat'}\n",
      "/ocean/projects/asc170022p/shared/Data/MRE/MRE_DICOM_10-09-19/NIFTI/1274 is missing sequences {'wave'}\n",
      "/ocean/projects/asc170022p/shared/Data/MRE/MRE_DICOM_10-09-19/NIFTI/1292 is missing sequences {'t1_pre_fat', 't1_pre_water', 't2', 't1_pre_in', 't1_pre_out'}\n",
      "/ocean/projects/asc170022p/shared/Data/MRE/MRE_DICOM_10-09-19/NIFTI/1302 is missing sequences {'t2'}\n",
      "/ocean/projects/asc170022p/shared/Data/MRE/MRE_DICOM_10-09-19/NIFTI/1318 is missing sequences {'t1_pre_water', 't1_pre_out', 't1_pre_in', 't1_pre_fat'}\n",
      "/ocean/projects/asc170022p/shared/Data/MRE/MRE_DICOM_10-09-19/NIFTI/1474 is missing sequences {'wave'}\n",
      "/ocean/projects/asc170022p/shared/Data/MRE/MRE_DICOM_10-09-19/NIFTI/1479 is missing sequences {'t1_pre_fat', 't1_pre_water', 'wave', 't1_pre_in', 't1_pre_out'}\n",
      "/ocean/projects/asc170022p/shared/Data/MRE/MRE_DICOM_10-09-19/NIFTI/1481 is missing sequences {'wave'}\n",
      "/ocean/projects/asc170022p/shared/Data/MRE/MRE_DICOM_10-09-19/NIFTI/1483 is missing sequences {'wave'}\n",
      "/ocean/projects/asc170022p/shared/Data/MRE/MRE_DICOM_10-09-19/NIFTI/1490 is missing sequences {'wave'}\n",
      "/ocean/projects/asc170022p/shared/Data/MRE/MRE_DICOM_10-09-19/NIFTI/1491 is missing sequences {'wave'}\n",
      "/ocean/projects/asc170022p/shared/Data/MRE/MRE_DICOM_10-09-19/NIFTI/1495 is missing sequences {'wave'}\n",
      "/ocean/projects/asc170022p/shared/Data/MRE/MRE_DICOM_10-09-19/NIFTI/1504 is missing sequences {'wave'}\n",
      "/ocean/projects/asc170022p/shared/Data/MRE/MRE_DICOM_10-09-19/NIFTI/1514 is missing sequences {'wave'}\n",
      "/ocean/projects/asc170022p/shared/Data/MRE/MRE_DICOM_10-09-19/NIFTI/1515 is missing sequences {'wave'}\n",
      "/ocean/projects/asc170022p/shared/Data/MRE/MRE_DICOM_10-09-19/NIFTI/1519 is missing sequences {'wave'}\n",
      "/ocean/projects/asc170022p/shared/Data/MRE/MRE_DICOM_10-09-19/NIFTI/1523 is missing sequences {'mre_raw', 't1_pre_fat', 't1_pre_water', 'mre', 't1_pre_in', 'wave', 't1_pre_out'}\n",
      "/ocean/projects/asc170022p/shared/Data/MRE/MRE_DICOM_10-09-19/NIFTI/1526 is missing sequences {'wave'}\n",
      "/ocean/projects/asc170022p/shared/Data/MRE/MRE_DICOM_10-09-19/NIFTI/1529 is missing sequences {'wave'}\n",
      "/ocean/projects/asc170022p/shared/Data/MRE/MRE_DICOM_10-09-19/NIFTI/1530 is missing sequences {'wave'}\n",
      "/ocean/projects/asc170022p/shared/Data/MRE/MRE_DICOM_10-09-19/NIFTI/1541 is missing sequences {'wave'}\n",
      "/ocean/projects/asc170022p/shared/Data/MRE/MRE_DICOM_10-09-19/NIFTI/1545 is missing sequences {'wave'}\n",
      "/ocean/projects/asc170022p/shared/Data/MRE/MRE_DICOM_10-09-19/NIFTI/1550 is missing sequences {'wave'}\n",
      "/ocean/projects/asc170022p/shared/Data/MRE/MRE_DICOM_10-09-19/NIFTI/1551 is missing sequences {'wave'}\n",
      "/ocean/projects/asc170022p/shared/Data/MRE/MRE_DICOM_10-09-19/NIFTI/1554 is missing sequences {'wave'}\n",
      "/ocean/projects/asc170022p/shared/Data/MRE/MRE_DICOM_10-09-19/NIFTI/1560 is missing sequences {'wave'}\n",
      "/ocean/projects/asc170022p/shared/Data/MRE/MRE_DICOM_10-09-19/NIFTI/1561 is missing sequences {'wave'}\n",
      "/ocean/projects/asc170022p/shared/Data/MRE/MRE_DICOM_10-09-19/NIFTI/1562 is missing sequences {'t2', 'wave'}\n",
      "/ocean/projects/asc170022p/shared/Data/MRE/MRE_DICOM_10-09-19/NIFTI/1574 is missing sequences {'wave'}\n",
      "/ocean/projects/asc170022p/shared/Data/MRE/MRE_DICOM_10-09-19/NIFTI/1577 is missing sequences {'wave'}\n",
      "/ocean/projects/asc170022p/shared/Data/MRE/MRE_DICOM_10-09-19/NIFTI/1578 is missing sequences {'wave'}\n",
      "/ocean/projects/asc170022p/shared/Data/MRE/MRE_DICOM_10-09-19/NIFTI/1579 is missing sequences {'wave'}\n",
      "/ocean/projects/asc170022p/shared/Data/MRE/MRE_DICOM_10-09-19/NIFTI/1586 is missing sequences {'wave'}\n",
      "/ocean/projects/asc170022p/shared/Data/MRE/MRE_DICOM_10-09-19/NIFTI/1590 is missing sequences {'wave'}\n",
      "/ocean/projects/asc170022p/shared/Data/MRE/MRE_DICOM_10-09-19/NIFTI/1595 is missing sequences {'wave'}\n",
      "/ocean/projects/asc170022p/shared/Data/MRE/MRE_DICOM_10-09-19/NIFTI/1598 is missing sequences {'wave'}\n",
      "/ocean/projects/asc170022p/shared/Data/MRE/MRE_DICOM_10-09-19/NIFTI/1603 is missing sequences {'wave'}\n",
      "/ocean/projects/asc170022p/shared/Data/MRE/MRE_DICOM_10-09-19/NIFTI/1604 is missing sequences {'wave'}\n",
      "/ocean/projects/asc170022p/shared/Data/MRE/MRE_DICOM_10-09-19/NIFTI/1612 is missing sequences {'t1_pre_fat', 't1_pre_water', 'wave', 't1_pre_in', 't1_pre_out'}\n",
      "/ocean/projects/asc170022p/shared/Data/MRE/MRE_DICOM_10-09-19/NIFTI/1642 is missing sequences {'wave'}\n",
      "/ocean/projects/asc170022p/shared/Data/MRE/MRE_DICOM_10-09-19/NIFTI/1667 is missing sequences {'wave'}\n",
      "/ocean/projects/asc170022p/shared/Data/MRE/MRE_DICOM_10-22-19/NIFTI/1342 is missing sequences {'t1_pre_water', 't1_pre_out', 't1_pre_in', 't1_pre_fat'}\n",
      "/ocean/projects/asc170022p/shared/Data/MRE/MRE_DICOM_10-22-19/NIFTI/1362 is missing sequences {'t1_pre_water', 't1_pre_out', 't1_pre_in', 't1_pre_fat'}\n",
      "/ocean/projects/asc170022p/shared/Data/MRE/MRE_DICOM_10-22-19/NIFTI/1423 is missing sequences {'t1_pre_fat', 't1_pre_water', 't2', 't1_pre_in', 't1_pre_out'}\n",
      "/ocean/projects/asc170022p/shared/Data/MRE/MRE_DICOM_10-22-19/NIFTI/1425 is missing sequences {'t2'}\n",
      "/ocean/projects/asc170022p/shared/Data/MRE/MRE_DICOM_10-22-19/NIFTI/1440 is missing sequences {'t1_pre_fat', 't1_pre_water', 't2', 't1_pre_in', 't1_pre_out'}\n",
      "/ocean/projects/asc170022p/shared/Data/MRE/MRE_DICOM_10-22-19/NIFTI/1473 is missing sequences {'t1_pre_water', 't1_pre_out', 't1_pre_in', 't1_pre_fat'}\n",
      "/ocean/projects/asc170022p/shared/Data/MRE/MRE_DICOM_7-31-19/NIFTI/0014 is missing sequences {'t2'}\n",
      "/ocean/projects/asc170022p/shared/Data/MRE/MRE_DICOM_7-31-19/NIFTI/0015 is missing sequences {'mre_raw', 'mre', 't2', 'wave', 't1_pre_out'}\n",
      "/ocean/projects/asc170022p/shared/Data/MRE/MRE_DICOM_7-31-19/NIFTI/0021 is missing sequences {'mre_raw', 'mre', 't2', 'wave', 't1_pre_in', 't1_pre_out'}\n",
      "/ocean/projects/asc170022p/shared/Data/MRE/MRE_DICOM_7-31-19/NIFTI/0026 is missing sequences {'t1_pre_water', 't1_pre_out', 't1_pre_in', 't1_pre_fat'}\n",
      "/ocean/projects/asc170022p/shared/Data/MRE/MRE_DICOM_7-31-19/NIFTI/0041 is missing sequences {'t1_pre_water', 't1_pre_out', 't1_pre_in', 't1_pre_fat'}\n",
      "/ocean/projects/asc170022p/shared/Data/MRE/MRE_DICOM_7-31-19/NIFTI/0079 is missing sequences {'mre_raw', 'mre', 't2', 'wave'}\n",
      "/ocean/projects/asc170022p/shared/Data/MRE/MRE_DICOM_7-31-19/NIFTI/0094 is missing sequences {'t1_pre_fat', 't1_pre_water', 't2', 't1_pre_in', 't1_pre_out'}\n",
      "/ocean/projects/asc170022p/shared/Data/MRE/MRE_DICOM_7-31-19/NIFTI/0123 is missing sequences {'wave'}\n",
      "/ocean/projects/asc170022p/shared/Data/MRE/MRE_DICOM_7-31-19/NIFTI/0167 is missing sequences {'mre_raw', 'mre', 'wave'}\n",
      "/ocean/projects/asc170022p/shared/Data/MRE/MRE_DICOM_7-31-19/NIFTI/0199 is missing sequences {'t1_pre_fat', 't1_pre_water', 'mre', 'wave', 't1_pre_in', 't1_pre_out'}\n",
      "/ocean/projects/asc170022p/shared/Data/MRE/MRE_DICOM_7-31-19/NIFTI/0213 is missing sequences {'mre_raw', 'mre', 't2', 'wave'}\n",
      "/ocean/projects/asc170022p/shared/Data/MRE/MRE_DICOM_7-31-19/NIFTI/0314 is missing sequences {'t1_pre_water', 't1_pre_out', 't1_pre_in', 't1_pre_fat'}\n",
      "/ocean/projects/asc170022p/shared/Data/MRE/MRE_DICOM_7-31-19/NIFTI/0332 is missing sequences {'t1_pre_water', 't1_pre_out', 't1_pre_in', 't1_pre_fat'}\n",
      "/ocean/projects/asc170022p/shared/Data/MRE/MRE_DICOM_7-31-19/NIFTI/0424 is missing sequences {'t2'}\n",
      "/ocean/projects/asc170022p/shared/Data/MRE/MRE_DICOM_7-31-19/NIFTI/0435 is missing sequences {'t1_pre_fat', 't1_pre_water', 'mre', 'wave', 't1_pre_in', 't1_pre_out'}\n",
      "/ocean/projects/asc170022p/shared/Data/MRE/MRE_DICOM_7-31-19/NIFTI/0450 is missing sequences {'mre', 'wave'}\n",
      "/ocean/projects/asc170022p/shared/Data/MRE/MRE_DICOM_7-31-19/NIFTI/2012 is missing sequences {'mre_raw', 'mre', 't2', 'wave'}\n",
      "/ocean/projects/asc170022p/shared/Data/MRE/MRE_DICOM_7-31-19/NIFTI/2013 is missing sequences {'t1_pre_fat', 't1_pre_water', 'wave', 't1_pre_in', 't1_pre_out'}\n",
      "/ocean/projects/asc170022p/shared/Data/MRE/MRE_DICOM_7-31-19/NIFTI/2032 is missing sequences {'t1_pre_water', 't1_pre_out', 't1_pre_in', 't1_pre_fat'}\n",
      "/ocean/projects/asc170022p/shared/Data/MRE/MRE_DICOM_7-31-19/NIFTI/2033 is missing sequences {'wave'}\n",
      "/ocean/projects/asc170022p/shared/Data/MRE/MRE_DICOM_7-31-19/NIFTI/2052 is missing sequences {'wave'}\n",
      "/ocean/projects/asc170022p/shared/Data/MRE/MRE_DICOM_7-31-19/NIFTI/CASE 1^1 is missing sequences {'t2'}\n",
      "/ocean/projects/asc170022p/shared/Data/MRE/MRE_DICOM_7-31-19/NIFTI/CASE 2^2 is missing sequences {'t2', 'mre', 'wave'}\n",
      "/ocean/projects/asc170022p/shared/Data/MRE/MRE_DICOM_9-12-19/NIFTI/0440 is missing sequences {'t1_pre_water', 't1_pre_out', 't1_pre_in', 't1_pre_fat'}\n",
      "/ocean/projects/asc170022p/shared/Data/MRE/MRE_DICOM_9-12-19/NIFTI/0453 is missing sequences {'t2'}\n",
      "/ocean/projects/asc170022p/shared/Data/MRE/MRE_DICOM_9-12-19/NIFTI/0488 is missing sequences {'t1_pre_fat', 't1_pre_water', 't2', 't1_pre_in', 't1_pre_out'}\n",
      "/ocean/projects/asc170022p/shared/Data/MRE/MRE_DICOM_9-12-19/NIFTI/0618 is missing sequences {'mre_raw', 'mre', 't2', 'wave'}\n",
      "/ocean/projects/asc170022p/shared/Data/MRE/MRE_DICOM_9-12-19/NIFTI/0649 is missing sequences {'t1_pre_water', 't1_pre_out', 't1_pre_in', 't1_pre_fat'}\n",
      "/ocean/projects/asc170022p/shared/Data/MRE/MRE_DICOM_9-12-19/NIFTI/0673 is missing sequences {'t1_pre_fat', 't1_pre_water', 't2', 't1_pre_in', 't1_pre_out'}\n",
      "/ocean/projects/asc170022p/shared/Data/MRE/MRE_DICOM_9-12-19/NIFTI/0684 is missing sequences {'mre_raw', 'mre', 't2', 'wave'}\n",
      "/ocean/projects/asc170022p/shared/Data/MRE/MRE_DICOM_9-12-19/NIFTI/0770 is missing sequences {'t1_pre_water', 't1_pre_out', 't1_pre_in', 't1_pre_fat'}\n",
      "/ocean/projects/asc170022p/shared/Data/MRE/MRE_DICOM_9-12-19/NIFTI/1682 is missing sequences {'t1_pre_fat', 't1_pre_water', 't2', 't1_pre_in', 't1_pre_out'}\n",
      "/ocean/projects/asc170022p/shared/Data/MRE/MRE_DICOM_9-12-19/NIFTI/1749 is missing sequences {'t2', 'wave'}\n",
      "/ocean/projects/asc170022p/shared/Data/MRE/MRE_DICOM_9-12-19/NIFTI/1783 is missing sequences {'wave'}\n",
      "/ocean/projects/asc170022p/shared/Data/MRE/MRE_DICOM_9-12-19/NIFTI/1821 is missing sequences {'wave'}\n",
      "/ocean/projects/asc170022p/shared/Data/MRE/MRE_DICOM_9-12-19/NIFTI/1844 is missing sequences {'wave'}\n",
      "/ocean/projects/asc170022p/shared/Data/MRE/MRE_DICOM_9-12-19/NIFTI/1867 is missing sequences {'wave'}\n",
      "/ocean/projects/asc170022p/shared/Data/MRE/MRE_DICOM_9-12-19/NIFTI/1927 is missing sequences {'t1_pre_water', 't1_pre_out', 't1_pre_in', 't1_pre_fat'}\n",
      "/ocean/projects/asc170022p/shared/Data/MRE/MRE_DICOM_9-12-19/NIFTI/1930 is missing sequences {'t1_pre_fat', 't1_pre_water', 't2', 'wave', 't1_pre_in', 't1_pre_out'}\n",
      "/ocean/projects/asc170022p/shared/Data/MRE/MRE_DICOM_9-12-19/NIFTI/1946 is missing sequences {'t2'}\n",
      "/ocean/projects/asc170022p/shared/Data/MRE/MRE_DICOM_9-12-19/NIFTI/1970 is missing sequences {'t1_pre_fat', 't1_pre_water', 't2', 'wave', 't1_pre_in', 't1_pre_out'}\n",
      "/ocean/projects/asc170022p/shared/Data/MRE/MRE_DICOM_9-12-19/NIFTI/1987 is missing sequences {'t2', 'wave'}\n",
      "/ocean/projects/asc170022p/shared/Data/MRE/MRE_DICOM_9-12-19/NIFTI/1990 is missing sequences {'t1_pre_water', 't1_pre_out', 't1_pre_in', 't1_pre_fat'}\n",
      "/ocean/projects/asc170022p/shared/Data/MRE/MRE_DICOM_9-12-19/NIFTI/1994 is missing sequences {'wave'}\n"
     ]
    },
    {
     "data": {
      "text/plain": [
       "3"
      ]
     },
     "execution_count": 92,
     "metadata": {},
     "output_type": "execute_result"
    }
   ],
   "source": [
    "%autoreload\n",
    "cohort = mre_pinn.data.PatientCohort(\n",
    "    nifti_dirs='/ocean/projects/asc170022p/shared/Data/MRE/*/NIFTI',\n",
    "    patient_ids=['0006', '001', '1081'],\n",
    "    xarray_dir='../data/NAFLD/'\n",
    ")\n",
    "len(cohort)"
   ]
  },
  {
   "cell_type": "code",
   "execution_count": 93,
   "metadata": {
    "scrolled": false
   },
   "outputs": [
    {
     "name": "stdout",
     "output_type": "stream",
     "text": [
      "  0%|          | 0/3 [00:00<?, ?it/s]Loading /ocean/projects/asc170022p/shared/Data/MRE/MRE_DICOM_7-31-19/NIFTI/0006/t1_pre_in.nii\n",
      "Loading /ocean/projects/asc170022p/shared/Data/MRE/MRE_DICOM_7-31-19/NIFTI/0006/t1_pre_water.nii\n",
      "Loading /ocean/projects/asc170022p/shared/Data/MRE/MRE_DICOM_7-31-19/NIFTI/0006/t1_pre_out.nii\n",
      "Loading /ocean/projects/asc170022p/shared/Data/MRE/MRE_DICOM_7-31-19/NIFTI/0006/t1_pre_fat.nii\n",
      "Loading /ocean/projects/asc170022p/shared/Data/MRE/MRE_DICOM_7-31-19/NIFTI/0006/t2.nii\n",
      "Loading /ocean/projects/asc170022p/shared/Data/MRE/MRE_DICOM_7-31-19/NIFTI/0006/mre_raw.nii\n",
      "Loading /ocean/projects/asc170022p/shared/Data/MRE/MRE_DICOM_7-31-19/NIFTI/0006/wave.nii\n",
      "Loading /ocean/projects/asc170022p/shared/Data/MRE/MRE_DICOM_7-31-19/NIFTI/0006/mre.nii\n",
      " 33%|███▎      | 1/3 [00:00<00:00,  2.35it/s]Loading /ocean/projects/asc170022p/shared/Data/MRE/MRE_DICOM_7-31-19/NIFTI/001/t1_pre_in.nii\n",
      "Loading /ocean/projects/asc170022p/shared/Data/MRE/MRE_DICOM_7-31-19/NIFTI/001/t1_pre_water.nii\n",
      "Loading /ocean/projects/asc170022p/shared/Data/MRE/MRE_DICOM_7-31-19/NIFTI/001/t1_pre_out.nii\n",
      "Loading /ocean/projects/asc170022p/shared/Data/MRE/MRE_DICOM_7-31-19/NIFTI/001/t1_pre_fat.nii\n",
      "Loading /ocean/projects/asc170022p/shared/Data/MRE/MRE_DICOM_7-31-19/NIFTI/001/t2.nii\n",
      "Loading /ocean/projects/asc170022p/shared/Data/MRE/MRE_DICOM_7-31-19/NIFTI/001/mre_raw.nii\n",
      "Loading /ocean/projects/asc170022p/shared/Data/MRE/MRE_DICOM_7-31-19/NIFTI/001/wave.nii\n",
      "Loading /ocean/projects/asc170022p/shared/Data/MRE/MRE_DICOM_7-31-19/NIFTI/001/mre.nii\n",
      " 67%|██████▋   | 2/3 [00:00<00:00,  3.39it/s]Loading /ocean/projects/asc170022p/shared/Data/MRE/MRE_DICOM_10-09-19/NIFTI/1081/t1_pre_in.nii\n",
      "Loading /ocean/projects/asc170022p/shared/Data/MRE/MRE_DICOM_10-09-19/NIFTI/1081/t1_pre_water.nii\n",
      "Loading /ocean/projects/asc170022p/shared/Data/MRE/MRE_DICOM_10-09-19/NIFTI/1081/t1_pre_out.nii\n",
      "Loading /ocean/projects/asc170022p/shared/Data/MRE/MRE_DICOM_10-09-19/NIFTI/1081/t1_pre_fat.nii\n",
      "Loading /ocean/projects/asc170022p/shared/Data/MRE/MRE_DICOM_10-09-19/NIFTI/1081/t2.nii\n",
      "Loading /ocean/projects/asc170022p/shared/Data/MRE/MRE_DICOM_10-09-19/NIFTI/1081/mre_raw.nii\n",
      "Loading /ocean/projects/asc170022p/shared/Data/MRE/MRE_DICOM_10-09-19/NIFTI/1081/wave.nii\n",
      "Loading /ocean/projects/asc170022p/shared/Data/MRE/MRE_DICOM_10-09-19/NIFTI/1081/mre.nii\n",
      "100%|██████████| 3/3 [00:02<00:00,  1.31it/s]\n",
      "CPU times: user 88.2 ms, sys: 609 ms, total: 697 ms\n",
      "Wall time: 2.33 s\n"
     ]
    }
   ],
   "source": [
    "%%time\n",
    "cohort.load_images()"
   ]
  },
  {
   "cell_type": "code",
   "execution_count": 94,
   "metadata": {},
   "outputs": [
    {
     "name": "stdout",
     "output_type": "stream",
     "text": [
      "CPU times: user 50.2 ms, sys: 1.1 ms, total: 51.3 ms\n",
      "Wall time: 50.3 ms\n"
     ]
    },
    {
     "data": {
      "text/html": [
       "<div>\n",
       "<style scoped>\n",
       "    .dataframe tbody tr th:only-of-type {\n",
       "        vertical-align: middle;\n",
       "    }\n",
       "\n",
       "    .dataframe tbody tr th {\n",
       "        vertical-align: top;\n",
       "    }\n",
       "\n",
       "    .dataframe thead th {\n",
       "        text-align: right;\n",
       "    }\n",
       "</style>\n",
       "<table border=\"1\" class=\"dataframe\">\n",
       "  <thead>\n",
       "    <tr style=\"text-align: right;\">\n",
       "      <th></th>\n",
       "      <th></th>\n",
       "      <th></th>\n",
       "      <th>size</th>\n",
       "      <th>spacing</th>\n",
       "      <th>origin</th>\n",
       "      <th>limit</th>\n",
       "      <th>center</th>\n",
       "      <th>extent</th>\n",
       "    </tr>\n",
       "    <tr>\n",
       "      <th>patient_id</th>\n",
       "      <th>sequence</th>\n",
       "      <th>dimension</th>\n",
       "      <th></th>\n",
       "      <th></th>\n",
       "      <th></th>\n",
       "      <th></th>\n",
       "      <th></th>\n",
       "      <th></th>\n",
       "    </tr>\n",
       "  </thead>\n",
       "  <tbody>\n",
       "    <tr>\n",
       "      <th rowspan=\"5\" valign=\"top\">0006</th>\n",
       "      <th rowspan=\"3\" valign=\"top\">t1_pre_in</th>\n",
       "      <th>0</th>\n",
       "      <td>512</td>\n",
       "      <td>0.703100</td>\n",
       "      <td>-204.130005</td>\n",
       "      <td>155.154108</td>\n",
       "      <td>-24.487948</td>\n",
       "      <td>359.987213</td>\n",
       "    </tr>\n",
       "    <tr>\n",
       "      <th>1</th>\n",
       "      <td>512</td>\n",
       "      <td>0.703100</td>\n",
       "      <td>-208.591995</td>\n",
       "      <td>150.692118</td>\n",
       "      <td>-28.949939</td>\n",
       "      <td>359.987213</td>\n",
       "    </tr>\n",
       "    <tr>\n",
       "      <th>2</th>\n",
       "      <td>88</td>\n",
       "      <td>2.300003</td>\n",
       "      <td>-142.013000</td>\n",
       "      <td>58.087265</td>\n",
       "      <td>-41.962868</td>\n",
       "      <td>202.400269</td>\n",
       "    </tr>\n",
       "    <tr>\n",
       "      <th rowspan=\"2\" valign=\"top\">t1_pre_water</th>\n",
       "      <th>0</th>\n",
       "      <td>512</td>\n",
       "      <td>0.703100</td>\n",
       "      <td>-204.130005</td>\n",
       "      <td>155.154108</td>\n",
       "      <td>-24.487948</td>\n",
       "      <td>359.987213</td>\n",
       "    </tr>\n",
       "    <tr>\n",
       "      <th>1</th>\n",
       "      <td>512</td>\n",
       "      <td>0.703100</td>\n",
       "      <td>-208.591995</td>\n",
       "      <td>150.692118</td>\n",
       "      <td>-28.949939</td>\n",
       "      <td>359.987213</td>\n",
       "    </tr>\n",
       "    <tr>\n",
       "      <th>...</th>\n",
       "      <th>...</th>\n",
       "      <th>...</th>\n",
       "      <td>...</td>\n",
       "      <td>...</td>\n",
       "      <td>...</td>\n",
       "      <td>...</td>\n",
       "      <td>...</td>\n",
       "      <td>...</td>\n",
       "    </tr>\n",
       "    <tr>\n",
       "      <th rowspan=\"5\" valign=\"top\">1081</th>\n",
       "      <th rowspan=\"2\" valign=\"top\">wave</th>\n",
       "      <th>0</th>\n",
       "      <td>512</td>\n",
       "      <td>1.000000</td>\n",
       "      <td>0.000000</td>\n",
       "      <td>511.000000</td>\n",
       "      <td>255.500000</td>\n",
       "      <td>512.000000</td>\n",
       "    </tr>\n",
       "    <tr>\n",
       "      <th>1</th>\n",
       "      <td>512</td>\n",
       "      <td>1.000000</td>\n",
       "      <td>0.000000</td>\n",
       "      <td>511.000000</td>\n",
       "      <td>255.500000</td>\n",
       "      <td>512.000000</td>\n",
       "    </tr>\n",
       "    <tr>\n",
       "      <th rowspan=\"3\" valign=\"top\">mre</th>\n",
       "      <th>0</th>\n",
       "      <td>256</td>\n",
       "      <td>1.640600</td>\n",
       "      <td>-204.130005</td>\n",
       "      <td>214.222986</td>\n",
       "      <td>5.046491</td>\n",
       "      <td>419.993591</td>\n",
       "    </tr>\n",
       "    <tr>\n",
       "      <th>1</th>\n",
       "      <td>256</td>\n",
       "      <td>1.640600</td>\n",
       "      <td>-242.070999</td>\n",
       "      <td>176.281992</td>\n",
       "      <td>-32.894503</td>\n",
       "      <td>419.993591</td>\n",
       "    </tr>\n",
       "    <tr>\n",
       "      <th>2</th>\n",
       "      <td>1</td>\n",
       "      <td>11.000000</td>\n",
       "      <td>111.867996</td>\n",
       "      <td>111.867996</td>\n",
       "      <td>111.867996</td>\n",
       "      <td>11.000000</td>\n",
       "    </tr>\n",
       "  </tbody>\n",
       "</table>\n",
       "<p>71 rows × 6 columns</p>\n",
       "</div>"
      ],
      "text/plain": [
       "                                   size    spacing      origin       limit  \\\n",
       "patient_id sequence     dimension                                            \n",
       "0006       t1_pre_in    0           512   0.703100 -204.130005  155.154108   \n",
       "                        1           512   0.703100 -208.591995  150.692118   \n",
       "                        2            88   2.300003 -142.013000   58.087265   \n",
       "           t1_pre_water 0           512   0.703100 -204.130005  155.154108   \n",
       "                        1           512   0.703100 -208.591995  150.692118   \n",
       "...                                 ...        ...         ...         ...   \n",
       "1081       wave         0           512   1.000000    0.000000  511.000000   \n",
       "                        1           512   1.000000    0.000000  511.000000   \n",
       "           mre          0           256   1.640600 -204.130005  214.222986   \n",
       "                        1           256   1.640600 -242.070999  176.281992   \n",
       "                        2             1  11.000000  111.867996  111.867996   \n",
       "\n",
       "                                       center      extent  \n",
       "patient_id sequence     dimension                          \n",
       "0006       t1_pre_in    0          -24.487948  359.987213  \n",
       "                        1          -28.949939  359.987213  \n",
       "                        2          -41.962868  202.400269  \n",
       "           t1_pre_water 0          -24.487948  359.987213  \n",
       "                        1          -28.949939  359.987213  \n",
       "...                                       ...         ...  \n",
       "1081       wave         0          255.500000  512.000000  \n",
       "                        1          255.500000  512.000000  \n",
       "           mre          0            5.046491  419.993591  \n",
       "                        1          -32.894503  419.993591  \n",
       "                        2          111.867996   11.000000  \n",
       "\n",
       "[71 rows x 6 columns]"
      ]
     },
     "execution_count": 94,
     "metadata": {},
     "output_type": "execute_result"
    }
   ],
   "source": [
    "%%time\n",
    "m = cohort.metadata\n",
    "m"
   ]
  },
  {
   "cell_type": "code",
   "execution_count": 99,
   "metadata": {},
   "outputs": [
    {
     "data": {
      "text/plain": [
       "patient_id\n",
       "0006     True\n",
       "001      True\n",
       "1081    False\n",
       "Name: dimension, dtype: bool"
      ]
     },
     "execution_count": 99,
     "metadata": {},
     "output_type": "execute_result"
    }
   ],
   "source": [
    "(m.reset_index().groupby(['patient_id', 'sequence']).dimension.count() == 3) \\\n",
    "    .reset_index().groupby(['patient_id']).dimension.all()"
   ]
  },
  {
   "cell_type": "code",
   "execution_count": null,
   "metadata": {},
   "outputs": [],
   "source": []
  }
 ],
 "metadata": {
  "kernelspec": {
   "display_name": "MRE-PINN",
   "language": "python",
   "name": "mre-pinn"
  },
  "language_info": {
   "codemirror_mode": {
    "name": "ipython",
    "version": 3
   },
   "file_extension": ".py",
   "mimetype": "text/x-python",
   "name": "python",
   "nbconvert_exporter": "python",
   "pygments_lexer": "ipython3",
   "version": "3.10.6"
  }
 },
 "nbformat": 4,
 "nbformat_minor": 4
}
