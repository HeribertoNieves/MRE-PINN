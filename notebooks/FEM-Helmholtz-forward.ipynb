{
 "cells": [
  {
   "cell_type": "code",
   "execution_count": null,
   "metadata": {},
   "outputs": [],
   "source": [
    "%load_ext autoreload\n",
    "%autoreload 1\n",
    "%matplotlib inline"
   ]
  },
  {
   "cell_type": "code",
   "execution_count": null,
   "metadata": {},
   "outputs": [],
   "source": [
    "import sys, os\n",
    "import numpy as np\n",
    "import matplotlib.pyplot as plt\n",
    "\n",
    "# FENICSx stuff\n",
    "import dolfinx, ufl\n",
    "from mpi4py import MPI\n",
    "from petsc4py import PETSc\n",
    "\n",
    "%aimport mre_pinn"
   ]
  },
  {
   "cell_type": "markdown",
   "metadata": {},
   "source": [
    "## Helmholtz equation forward problem\n",
    "\n",
    "Strong form:\n",
    "\n",
    "$$\n",
    "\\begin{align}\n",
    "    \\mu \\nabla^2 \\mathbf{u} + \\rho \\omega^2 \\mathbf{u} = 0\n",
    "\\end{align}\n",
    "$$\n",
    "\n",
    "Variational form:\n",
    "\n",
    "$$\n",
    "\\begin{align}\n",
    "    \\int_\\Omega \\mu \\nabla \\mathbf{u} \\nabla \\mathbf{v} dx - \\int_\\Omega \\rho \\omega^2 \\mathbf{u} \\mathbf{v} dx = 0\n",
    "\\end{align}\n",
    "$$"
   ]
  },
  {
   "cell_type": "code",
   "execution_count": null,
   "metadata": {},
   "outputs": [],
   "source": [
    "np.issubdtype(PETSc.ScalarType, np.complexfloating)"
   ]
  },
  {
   "cell_type": "code",
   "execution_count": null,
   "metadata": {},
   "outputs": [],
   "source": [
    "# define mesh\n",
    "\n",
    "n_x = 255\n",
    "n_y = 255\n",
    "\n",
    "mesh = dolfinx.mesh.create_rectangle(\n",
    "    comm=MPI.COMM_WORLD,\n",
    "    points=[[-1, -1], [1, 1]], n=[n_x, n_y],\n",
    "    cell_type=dolfinx.mesh.CellType.triangle\n",
    ")\n",
    "print((n_x + 1) * (n_y + 1))\n",
    "mesh.geometry.x.shape"
   ]
  },
  {
   "cell_type": "code",
   "execution_count": null,
   "metadata": {},
   "outputs": [],
   "source": [
    "# define elements and function spaces\n",
    "\n",
    "S = dolfinx.fem.FunctionSpace(mesh, ('Lagrange', 1))\n",
    "V = dolfinx.fem.VectorFunctionSpace(mesh, ('Lagrange', 1))"
   ]
  },
  {
   "cell_type": "code",
   "execution_count": null,
   "metadata": {},
   "outputs": [],
   "source": [
    "# define boundary condition\n",
    "\n",
    "def u_bc_func(x):\n",
    "    n_coords = x.shape[1]\n",
    "    return np.array([[0.1, -0.1]] * n_coords).T\n",
    "\n",
    "u_bc = dolfinx.fem.Function(V)\n",
    "u_bc.interpolate(u_bc_func)\n",
    "\n",
    "def on_boundary(x):\n",
    "    return np.isclose(np.linalg.norm(x, np.inf, axis=0), 1)\n",
    "\n",
    "# identify dofs on the boundary\n",
    "boundary_dofs = dolfinx.fem.locate_dofs_geometrical(V, on_boundary)\n",
    "\n",
    "bc = dolfinx.fem.dirichletbc(u_bc, boundary_dofs)"
   ]
  },
  {
   "cell_type": "code",
   "execution_count": null,
   "metadata": {},
   "outputs": [],
   "source": [
    "# define density and angular frequency constants\n",
    "\n",
    "rho = 1\n",
    "omega = 4 * np.pi\n",
    "\n",
    "# define true elasticity function\n",
    "\n",
    "def mu_func(x, loc=0, radius=0.25, mu_disk=2, mu_back=1):\n",
    "    '''\n",
    "    True elasticity function.\n",
    "    '''\n",
    "    print(x.shape)\n",
    "    dist = np.linalg.norm(x - loc, 2, axis=0)\n",
    "    \n",
    "    n_coords = x.shape[1]\n",
    "    value = np.full(n_coords, mu_back)\n",
    "    value[dist < radius] = mu_disk\n",
    "    return value\n",
    "\n",
    "mu = dolfinx.fem.Function(S)\n",
    "mu.interpolate(mu_func)"
   ]
  },
  {
   "cell_type": "code",
   "execution_count": null,
   "metadata": {},
   "outputs": [],
   "source": [
    "# define variational Helmholtz problem\n",
    "\n",
    "u = ufl.TrialFunction(V)\n",
    "v = ufl.TestFunction(V)\n",
    "zero = dolfinx.fem.Constant(mesh, np.zeros(2))\n",
    "\n",
    "# setup variational problem\n",
    "a = ufl.inner(mu * ufl.grad(u), ufl.grad(v)) * ufl.dx - rho * omega**2 * ufl.inner(u, v) * ufl.dx\n",
    "L = ufl.inner(zero, v) * ufl.dx\n",
    "\n",
    "# compute FEM solution\n",
    "problem = dolfinx.fem.petsc.LinearProblem(a, L, [bc])\n",
    "u = problem.solve()\n",
    "print('Done')"
   ]
  },
  {
   "cell_type": "code",
   "execution_count": null,
   "metadata": {},
   "outputs": [],
   "source": [
    "# evaluate functions on mesh\n",
    "\n",
    "coords = mesh.geometry.x\n",
    "\n",
    "# identify cells that contain the coordinates\n",
    "tree = dolfinx.geometry.BoundingBoxTree(mesh, mesh.geometry.dim)\n",
    "cells = dolfinx.geometry.compute_collisions(tree, coords)\n",
    "cells = dolfinx.geometry.compute_colliding_cells(mesh, cells, coords)\n",
    "cells = [cells.links(i)[0] for i in range(coords.shape[0])]\n",
    "\n",
    "u_vals = u.eval(coords, cells)\n",
    "mu_vals = mu.eval(coords, cells)"
   ]
  },
  {
   "cell_type": "code",
   "execution_count": null,
   "metadata": {},
   "outputs": [],
   "source": [
    "# visualize the elasticity and displacement\n",
    "\n",
    "emap = mre_pinn.visual.elast_color_map()\n",
    "wmap = mre_pinn.visual.wave_color_map()\n",
    "emin, emax = (0, 10)\n",
    "wmin, wmax = (-0.25, 0.25)\n",
    "\n",
    "fig, axes = plt.subplots(1, 3, figsize=(13,4))\n",
    "axes[0].scatter(coords[:,0], coords[:,1], c=mu_vals, s=1, cmap=emap, vmin=emin, vmax=emax)\n",
    "axes[1].scatter(coords[:,0], coords[:,1], c=u_vals[:,0], s=1, cmap=wmap, vmin=wmin, vmax=wmax)\n",
    "axes[2].scatter(coords[:,0], coords[:,1], c=u_vals[:,1], s=1, cmap=wmap, vmin=wmin, vmax=wmax)"
   ]
  },
  {
   "cell_type": "code",
   "execution_count": null,
   "metadata": {},
   "outputs": [],
   "source": []
  }
 ],
 "metadata": {
  "kernelspec": {
   "display_name": "MRE-PINN",
   "language": "python",
   "name": "mre-pinn"
  },
  "language_info": {
   "codemirror_mode": {
    "name": "ipython",
    "version": 3
   },
   "file_extension": ".py",
   "mimetype": "text/x-python",
   "name": "python",
   "nbconvert_exporter": "python",
   "pygments_lexer": "ipython3",
   "version": "3.8.13"
  }
 },
 "nbformat": 4,
 "nbformat_minor": 4
}
