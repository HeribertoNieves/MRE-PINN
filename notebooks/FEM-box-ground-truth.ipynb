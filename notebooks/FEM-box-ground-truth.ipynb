{
 "cells": [
  {
   "cell_type": "code",
   "execution_count": 1,
   "metadata": {},
   "outputs": [
    {
     "name": "stdout",
     "output_type": "stream",
     "text": [
      "v026.ib.bridges2.psc.edu\n",
      "/ocean/projects/asc170022p/mtragoza/MRE-PINN/notebooks\n"
     ]
    }
   ],
   "source": [
    "%matplotlib inline\n",
    "%load_ext autoreload\n",
    "%autoreload 1\n",
    "!hostname\n",
    "!pwd"
   ]
  },
  {
   "cell_type": "code",
   "execution_count": 12,
   "metadata": {},
   "outputs": [
    {
     "data": {
      "text/plain": [
       "True"
      ]
     },
     "execution_count": 12,
     "metadata": {},
     "output_type": "execute_result"
    }
   ],
   "source": [
    "import sys, os\n",
    "import numpy as np\n",
    "import xarray as xr\n",
    "import skimage\n",
    "import torch\n",
    "import matplotlib.pyplot as plt\n",
    "nax = np.newaxis\n",
    "\n",
    "os.environ['DDEBACKEND'] = 'pytorch'\n",
    "import deepxde\n",
    "\n",
    "sys.path.append('..')\n",
    "%aimport mre_pinn\n",
    "\n",
    "torch.cuda.is_available()"
   ]
  },
  {
   "cell_type": "code",
   "execution_count": 120,
   "metadata": {},
   "outputs": [
    {
     "data": {
      "text/plain": [
       "<matplotlib.image.AxesImage at 0x148d8e0a76a0>"
      ]
     },
     "execution_count": 120,
     "metadata": {},
     "output_type": "execute_result"
    },
    {
     "data": {
      "image/png": "[encoded data removed]",
      "text/plain": [
       "<Figure size 432x288 with 1 Axes>"
      ]
     },
     "metadata": {
      "needs_background": "light"
     },
     "output_type": "display_data"
    }
   ],
   "source": [
    "# read in the image file taken from the research article\n",
    "im = skimage.io.imread('../data/BIOQIC/fem_box_ground_truth.png')\n",
    "im = 1 - skimage.color.rgb2gray(im[...,:-1])[:,::-1].T\n",
    "im = skimage.transform.resize(im, (4*100, 4*80), anti_aliasing=True)\n",
    "im = (im - im.min()) / (im.max() - im.min()) # scale values to [0, 1]\n",
    "plt.imshow(im, cmap='gray', vmin=0, vmax=1)"
   ]
  },
  {
   "cell_type": "code",
   "execution_count": 121,
   "metadata": {},
   "outputs": [
    {
     "data": {
      "text/plain": [
       "array([[ 0.  ,  0.  ],\n",
       "       [ 0.  ,  0.25],\n",
       "       [ 0.  ,  0.5 ],\n",
       "       ...,\n",
       "       [99.75, 79.25],\n",
       "       [99.75, 79.5 ],\n",
       "       [99.75, 79.75]])"
      ]
     },
     "execution_count": 121,
     "metadata": {},
     "output_type": "execute_result"
    }
   ],
   "source": [
    "# get the grid coordinates of the image\n",
    "x = mre_pinn.data.nd_coords_from_shape(im.shape, resolution=0.25)\n",
    "y_true = im.reshape(-1)\n",
    "x.shape, y_true.shape\n",
    "x"
   ]
  },
  {
   "cell_type": "code",
   "execution_count": 169,
   "metadata": {
    "scrolled": false
   },
   "outputs": [
    {
     "name": "stdout",
     "output_type": "stream",
     "text": [
      "tensor([[23.2000, 39.3500],\n",
      "        [49.6500, 39.4000],\n",
      "        [67.8500, 39.4500],\n",
      "        [80.0000, 39.2500]])\n",
      "100 0.0296\n"
     ]
    },
    {
     "name": "stderr",
     "output_type": "stream",
     "text": [
      "/tmp/ipykernel_70875/2986786133.py:22: UserWarning: To copy construct from a tensor, it is recommended to use sourceTensor.clone().detach() or sourceTensor.clone().detach().requires_grad_(True), rather than torch.tensor(sourceTensor).\n",
      "  x = torch.tensor(x, device='cuda')\n"
     ]
    },
    {
     "name": "stdout",
     "output_type": "stream",
     "text": [
      "200 0.0296\n",
      "300 0.0296\n",
      "400 0.0296\n",
      "500 0.0296\n",
      "600 0.0296\n",
      "700 0.0296\n",
      "800 0.0296\n",
      "900 0.0296\n",
      "1000 0.0296\n",
      "Parameter containing:\n",
      "tensor([[23.1085, 39.3959],\n",
      "        [49.5517, 39.3321],\n",
      "        [67.8425, 39.5267],\n",
      "        [80.0962, 39.3469]], requires_grad=True)\n"
     ]
    },
    {
     "data": {
      "text/plain": [
       "6164.267392056716"
      ]
     },
     "execution_count": 169,
     "metadata": {},
     "output_type": "execute_result"
    }
   ],
   "source": [
    "import torch\n",
    "\n",
    "def disk(x, center, radius, power=2):\n",
    "    dist = torch.norm(x - center, dim=1)\n",
    "    return torch.exp(-(dist / radius)**(power * radius))\n",
    "\n",
    "def forward(x, centers, radii=[10, 5, 2, 1], background=3, target=9):\n",
    "    y_pred = 0\n",
    "    for c, r in zip(centers, radii):\n",
    "        y_pred += disk(x, center=c[nax,:], radius=r)\n",
    "    return y_pred\n",
    "\n",
    "centers = torch.tensor([\n",
    "    [23.20, 39.35],\n",
    "    [49.65, 39.40],\n",
    "    [67.85, 39.45],\n",
    "    [80.00, 39.25]\n",
    "], device='cuda')\n",
    "print(centers)\n",
    "\n",
    "# fit the centers to the image\n",
    "x = torch.tensor(x, device='cuda')\n",
    "im_true = torch.tensor(im, device='cuda')\n",
    "centers = torch.nn.Parameter(centers + torch.normal(0, 1e-2, (4, 2)))\n",
    "optimizer = torch.optim.Adam([centers], lr=1e-1)\n",
    "\n",
    "def closure():\n",
    "    optimizer.zero_grad()\n",
    "    y_pred = forward(x, centers)\n",
    "    im_pred = y_pred.reshape(im_true.shape)\n",
    "    loss = torch.mean(torch.abs(im_true - im_pred))\n",
    "    loss.backward()\n",
    "    return loss\n",
    "\n",
    "for i in range(1000):\n",
    "    loss = optimizer.step(closure)\n",
    "    if (i+1)%100 == 0:\n",
    "        print(f'{i+1} {loss:.4f}')\n",
    "        \n",
    "print(centers)\n",
    "\n",
    "y_pred = forward(x, centers)\n",
    "im_pred = y_pred.reshape(im.shape).detach().cpu().numpy()\n",
    "im_pred.sum()"
   ]
  },
  {
   "cell_type": "code",
   "execution_count": 170,
   "metadata": {},
   "outputs": [
    {
     "data": {
      "text/plain": [
       "<matplotlib.image.AxesImage at 0x148d896e9b50>"
      ]
     },
     "execution_count": 170,
     "metadata": {},
     "output_type": "execute_result"
    },
    {
     "data": {
      "image/png": "[encoded data removed]",
      "text/plain": [
       "<Figure size 432x288 with 1 Axes>"
      ]
     },
     "metadata": {
      "needs_background": "light"
     },
     "output_type": "display_data"
    }
   ],
   "source": [
    "plt.imshow(im_pred, cmap='gray', vmin=0)"
   ]
  },
  {
   "cell_type": "code",
   "execution_count": 171,
   "metadata": {},
   "outputs": [
    {
     "data": {
      "text/plain": [
       "<matplotlib.image.AxesImage at 0x148d89654a30>"
      ]
     },
     "execution_count": 171,
     "metadata": {},
     "output_type": "execute_result"
    },
    {
     "data": {
      "image/png": "[encoded data removed]",
      "text/plain": [
       "<Figure size 432x288 with 1 Axes>"
      ]
     },
     "metadata": {
      "needs_background": "light"
     },
     "output_type": "display_data"
    }
   ],
   "source": [
    "im_rgb = np.stack([im, np.zeros_like(im), im_pred], axis=-1)\n",
    "\n",
    "plt.imshow(im_rgb, cmap='gray')"
   ]
  },
  {
   "cell_type": "code",
   "execution_count": 172,
   "metadata": {},
   "outputs": [
    {
     "data": {
      "text/plain": [
       "<matplotlib.image.AxesImage at 0x148d896397c0>"
      ]
     },
     "execution_count": 172,
     "metadata": {},
     "output_type": "execute_result"
    },
    {
     "data": {
      "image/png": "[encoded data removed]",
      "text/plain": [
       "<Figure size 432x288 with 1 Axes>"
      ]
     },
     "metadata": {
      "needs_background": "light"
     },
     "output_type": "display_data"
    }
   ],
   "source": [
    "plt.imshow(im - im_pred, cmap='gray', vmin=-1, vmax=1)"
   ]
  },
  {
   "cell_type": "code",
   "execution_count": 178,
   "metadata": {},
   "outputs": [
    {
     "data": {
      "text/plain": [
       "<matplotlib.image.AxesImage at 0x148d893c7b20>"
      ]
     },
     "execution_count": 178,
     "metadata": {},
     "output_type": "execute_result"
    },
    {
     "data": {
      "image/png": "[encoded data removed]",
      "text/plain": [
       "<Figure size 432x288 with 1 Axes>"
      ]
     },
     "metadata": {
      "needs_background": "light"
     },
     "output_type": "display_data"
    }
   ],
   "source": [
    "e_map = mre_pinn.visual.elast_color_map()\n",
    "mu_bg = 3\n",
    "mu_target = 9\n",
    "mu = mu_bg + im_pred * (mu_target - mu_bg)\n",
    "plt.imshow(mu, cmap=e_map, vmin=0, vmax=25)"
   ]
  },
  {
   "cell_type": "code",
   "execution_count": null,
   "metadata": {},
   "outputs": [],
   "source": []
  }
 ],
 "metadata": {
  "kernelspec": {
   "display_name": "MRE-PINN2",
   "language": "python",
   "name": "mre-pinn2"
  },
  "language_info": {
   "codemirror_mode": {
    "name": "ipython",
    "version": 3
   },
   "file_extension": ".py",
   "mimetype": "text/x-python",
   "name": "python",
   "nbconvert_exporter": "python",
   "pygments_lexer": "ipython3",
   "version": "3.8.13"
  }
 },
 "nbformat": 4,
 "nbformat_minor": 4
}
