{
 "cells": [
  {
   "cell_type": "code",
   "execution_count": 1,
   "metadata": {},
   "outputs": [
    {
     "name": "stdout",
     "output_type": "stream",
     "text": [
      "dv001.ib.bridges2.psc.edu\n",
      "/ocean/projects/asc170022p/mtragoza/mre-pinn/notebooks\n"
     ]
    }
   ],
   "source": [
    "%matplotlib notebook\n",
    "%load_ext autoreload\n",
    "%autoreload 1\n",
    "!hostname\n",
    "!pwd"
   ]
  },
  {
   "cell_type": "code",
   "execution_count": 2,
   "metadata": {},
   "outputs": [
    {
     "name": "stderr",
     "output_type": "stream",
     "text": [
      "Using backend: pytorch\n",
      "\n"
     ]
    },
    {
     "data": {
      "text/plain": [
       "True"
      ]
     },
     "execution_count": 2,
     "metadata": {},
     "output_type": "execute_result"
    }
   ],
   "source": [
    "import sys, os, pathlib\n",
    "import numpy as np\n",
    "import xarray as xr\n",
    "import torch\n",
    "import matplotlib.pyplot as plt\n",
    "import seaborn as sns\n",
    "\n",
    "os.environ['DDEBACKEND'] = 'pytorch'\n",
    "import deepxde\n",
    "\n",
    "sys.path.append('..')\n",
    "%aimport mre_pinn\n",
    "\n",
    "torch.cuda.is_available()"
   ]
  },
  {
   "cell_type": "code",
   "execution_count": 3,
   "metadata": {},
   "outputs": [
    {
     "name": "stdout",
     "output_type": "stream",
     "text": [
      "  0%|          | 0/1 [00:00<?, ?it/s]Loading ../data/NAFLD/0006/t1_pre_in.nc\n",
      "Loading ../data/NAFLD/0006/t1_pre_water.nc\n",
      "Loading ../data/NAFLD/0006/t1_pre_out.nc\n",
      "Loading ../data/NAFLD/0006/t1_pre_fat.nc\n",
      "Loading ../data/NAFLD/0006/t2.nc\n",
      "Loading ../data/NAFLD/0006/mre_raw.nc\n",
      "Loading ../data/NAFLD/0006/wave.nc\n",
      "Loading ../data/NAFLD/0006/mre.nc\n",
      "Loading ../data/NAFLD/0006/mask.nc\n",
      "100%|██████████| 1/1 [00:00<00:00, 20.86it/s]\n"
     ]
    }
   ],
   "source": [
    "%autoreload\n",
    "\n",
    "cohort = mre_pinn.data.PatientCohort(xarray_dir='../data/NAFLD', patient_ids='0006')\n",
    "cohort.load_xarrays()"
   ]
  },
  {
   "cell_type": "code",
   "execution_count": 4,
   "metadata": {},
   "outputs": [
    {
     "name": "stdout",
     "output_type": "stream",
     "text": [
      "a torch.Size([1, 256, 256, 32, 4])\n",
      "u torch.Size([1, 256, 256, 32, 1])\n"
     ]
    }
   ],
   "source": [
    "anat_sequences = ['t1_pre_water', 't1_pre_out', 't1_pre_fat', 't2']\n",
    "a = np.stack([\n",
    "    cohort.patients['0006'].arrays[seq].values for seq in anat_sequences\n",
    "], axis=-1)[None,...]\n",
    "a = torch.tensor(a, device='cuda', dtype=torch.float32)\n",
    "print('a', a.shape)\n",
    "\n",
    "u = cohort.patients['0006'].arrays['wave'].values[None,...,None]\n",
    "u = torch.tensor(u, device='cuda', dtype=torch.float32)\n",
    "print('u', u.shape)"
   ]
  },
  {
   "cell_type": "code",
   "execution_count": 5,
   "metadata": {},
   "outputs": [
    {
     "data": {
      "text/plain": [
       "PINO(\n",
       "  (fc_input): Linear(in_features=4, out_features=16, bias=True)\n",
       "  (block0): PINOBlock(\n",
       "    (conv): SpectralConv3d()\n",
       "    (fc): Linear(in_features=16, out_features=16, bias=True)\n",
       "  )\n",
       "  (block1): PINOBlock(\n",
       "    (conv): SpectralConv3d()\n",
       "    (fc): Linear(in_features=16, out_features=16, bias=True)\n",
       "  )\n",
       "  (block2): PINOBlock(\n",
       "    (conv): SpectralConv3d()\n",
       "    (fc): Linear(in_features=16, out_features=16, bias=True)\n",
       "  )\n",
       "  (block3): PINOBlock(\n",
       "    (conv): SpectralConv3d()\n",
       "    (fc): Linear(in_features=16, out_features=16, bias=True)\n",
       "  )\n",
       "  (fc_output): Linear(in_features=16, out_features=1, bias=True)\n",
       ")"
      ]
     },
     "execution_count": 5,
     "metadata": {},
     "output_type": "execute_result"
    }
   ],
   "source": [
    "%autoreload\n",
    "\n",
    "net = mre_pinn.pino.PINO(\n",
    "    n_input=len(anat_sequences),\n",
    "    n_blocks=4,\n",
    "    n_hidden=16,\n",
    "    n_modes=8,\n",
    "    n_output=1,\n",
    "    activ_fn='g'\n",
    ")\n",
    "net"
   ]
  },
  {
   "cell_type": "code",
   "execution_count": 6,
   "metadata": {},
   "outputs": [
    {
     "name": "stderr",
     "output_type": "stream",
     "text": [
      "WARNING:py.warnings:/ocean/projects/asc170022p/mtragoza/mre-pinn/notebooks/../mre_pinn/pino.py:99: UserWarning: Casting complex values to real discards the imaginary part (Triggered internally at  /opt/conda/conda-bld/pytorch_1646755897462/work/aten/src/ATen/native/Copy.cpp:239.)\n",
      "  F_out[:,:n,:n,:n,:] = torch.einsum(\n",
      "\n"
     ]
    },
    {
     "data": {
      "text/plain": [
       "torch.Size([1, 256, 256, 32, 1])"
      ]
     },
     "execution_count": 6,
     "metadata": {},
     "output_type": "execute_result"
    }
   ],
   "source": [
    "net(a).shape"
   ]
  },
  {
   "cell_type": "code",
   "execution_count": null,
   "metadata": {},
   "outputs": [],
   "source": []
  }
 ],
 "metadata": {
  "kernelspec": {
   "display_name": "MRE-PINN",
   "language": "python",
   "name": "mre-pinn"
  },
  "language_info": {
   "codemirror_mode": {
    "name": "ipython",
    "version": 3
   },
   "file_extension": ".py",
   "mimetype": "text/x-python",
   "name": "python",
   "nbconvert_exporter": "python",
   "pygments_lexer": "ipython3",
   "version": "3.10.6"
  }
 },
 "nbformat": 4,
 "nbformat_minor": 4
}
