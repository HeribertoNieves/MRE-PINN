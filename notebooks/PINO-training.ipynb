{
 "cells": [
  {
   "cell_type": "code",
   "execution_count": 1,
   "metadata": {},
   "outputs": [
    {
     "name": "stdout",
     "output_type": "stream",
     "text": [
      "dv002.bridges2.psc.edu\n",
      "/ocean/projects/asc170022p/mtragoza/mre-pinn/notebooks\n"
     ]
    }
   ],
   "source": [
    "%matplotlib notebook\n",
    "%load_ext autoreload\n",
    "%autoreload 1\n",
    "!hostname\n",
    "!pwd"
   ]
  },
  {
   "cell_type": "code",
   "execution_count": 2,
   "metadata": {},
   "outputs": [
    {
     "name": "stderr",
     "output_type": "stream",
     "text": [
      "Using backend: pytorch\n",
      "\n"
     ]
    },
    {
     "data": {
      "text/plain": [
       "True"
      ]
     },
     "execution_count": 2,
     "metadata": {},
     "output_type": "execute_result"
    }
   ],
   "source": [
    "import sys, os, pathlib\n",
    "import numpy as np\n",
    "import xarray as xr\n",
    "import torch\n",
    "import matplotlib.pyplot as plt\n",
    "import seaborn as sns\n",
    "\n",
    "os.environ['DDEBACKEND'] = 'pytorch'\n",
    "import deepxde\n",
    "\n",
    "sys.path.append('..')\n",
    "%aimport mre_pinn\n",
    "\n",
    "torch.cuda.is_available()"
   ]
  },
  {
   "cell_type": "code",
   "execution_count": 3,
   "metadata": {
    "scrolled": true
   },
   "outputs": [
    {
     "name": "stdout",
     "output_type": "stream",
     "text": [
      "  0%|          | 0/1 [00:00<?, ?it/s]Loading ../data/NAFLD/0006/t1_pre_in.nc\n",
      "Loading ../data/NAFLD/0006/t1_pre_water.nc\n",
      "Loading ../data/NAFLD/0006/t1_pre_out.nc\n",
      "Loading ../data/NAFLD/0006/t1_pre_fat.nc\n",
      "Loading ../data/NAFLD/0006/t2.nc\n",
      "Loading ../data/NAFLD/0006/mre_raw.nc\n",
      "Loading ../data/NAFLD/0006/wave.nc\n",
      "Loading ../data/NAFLD/0006/mre.nc\n",
      "Loading ../data/NAFLD/0006/mask.nc\n",
      "100%|██████████| 1/1 [00:00<00:00, 22.76it/s]\n"
     ]
    }
   ],
   "source": [
    "%autoreload\n",
    "\n",
    "cohort = mre_pinn.data.PatientCohort(xarray_dir='../data/NAFLD', patient_ids='0006')\n",
    "#cohort.create_xarrays()\n",
    "#cohort.save_xarrays()\n",
    "cohort.load_xarrays()"
   ]
  },
  {
   "cell_type": "code",
   "execution_count": 4,
   "metadata": {},
   "outputs": [
    {
     "data": {
      "text/plain": [
       "<mre_pinn.pde.HelmholtzEquation at 0x147d5bafb1f0>"
      ]
     },
     "execution_count": 4,
     "metadata": {},
     "output_type": "execute_result"
    }
   ],
   "source": [
    "pde = mre_pinn.pde.WaveEquation.from_name('helmholtz', detach=True)\n",
    "pde"
   ]
  },
  {
   "cell_type": "code",
   "execution_count": 5,
   "metadata": {},
   "outputs": [
    {
     "data": {
      "text/plain": [
       "[torch.Size([1, 512, 512, 88, 4]),\n",
       " torch.Size([1, 512, 512, 88, 3]),\n",
       " torch.Size([1, 512, 512, 4, 3])]"
      ]
     },
     "execution_count": 5,
     "metadata": {},
     "output_type": "execute_result"
    }
   ],
   "source": [
    "%autoreload\n",
    "data = mre_pinn.training.PINOData(cohort, pde)\n",
    "inputs, targets = data.train_next_batch(1)\n",
    "[x.shape for x in inputs]"
   ]
  },
  {
   "cell_type": "code",
   "execution_count": 6,
   "metadata": {},
   "outputs": [
    {
     "data": {
      "text/plain": [
       "PINO(\n",
       "  (fc_in): Linear(in_features=4, out_features=16, bias=True)\n",
       "  (conv_out): SpectralConv3d(n_spatial_dims=3, n_channels_in=16, n_channels_out=1, n_modes=8)\n",
       ")"
      ]
     },
     "execution_count": 6,
     "metadata": {},
     "output_type": "execute_result"
    }
   ],
   "source": [
    "%autoreload\n",
    "\n",
    "pino = mre_pinn.model.PINO(\n",
    "    n_spatial_dims=3,\n",
    "    n_channels_in=4,\n",
    "    n_blocks=0,\n",
    "    n_hidden=16,\n",
    "    n_modes=8,\n",
    "    n_channels_out=1,\n",
    "    activ_fn='g'\n",
    ")\n",
    "pino"
   ]
  },
  {
   "cell_type": "code",
   "execution_count": 7,
   "metadata": {},
   "outputs": [
    {
     "name": "stdout",
     "output_type": "stream",
     "text": [
      "Compiling model...\n",
      "'compile' took 0.000150 s\n",
      "\n"
     ]
    }
   ],
   "source": [
    "%autoreload\n",
    "\n",
    "model = mre_pinn.training.PINOModel(cohort, pino, pde, batch_size=1)\n",
    "model.compile(\n",
    "    optimizer='adam',\n",
    "    lr=1e-4,\n",
    "    loss_weights=[1e-8, 1e0],\n",
    "    loss=mre_pinn.training.losses.standardized_msae_loss_fn(np.ones(1))\n",
    ")"
   ]
  },
  {
   "cell_type": "code",
   "execution_count": 8,
   "metadata": {},
   "outputs": [
    {
     "name": "stdout",
     "output_type": "stream",
     "text": [
      "Training model...\n",
      "\n",
      "torch.Size([1, 512, 512, 4, 1])\n",
      "torch.Size([])\n",
      "torch.Size([1, 512, 512, 4, 1])\n",
      "torch.Size([])\n",
      "Step      Train loss              Test loss               Test metric\n",
      "0         [nan, nan]              [nan, nan]              []  \n",
      "torch.Size([1, 512, 512, 4, 1])\n",
      "torch.Size([])\n",
      "torch.Size([1, 512, 512, 4, 1])\n",
      "torch.Size([])\n",
      "torch.Size([1, 512, 512, 4, 1])\n",
      "torch.Size([])\n",
      "1         [nan, nan]              [nan, nan]              []  \n",
      "\n",
      "Best model at step 0:\n",
      "  train loss: inf\n",
      "  test loss: inf\n",
      "  test metric: \n",
      "\n",
      "'train' took 2.249349 s\n",
      "\n"
     ]
    },
    {
     "data": {
      "text/plain": [
       "(<deepxde.model.LossHistory at 0x147d8f2a6a40>,\n",
       " <deepxde.model.TrainState at 0x147d8f2a6380>)"
      ]
     },
     "execution_count": 8,
     "metadata": {},
     "output_type": "execute_result"
    }
   ],
   "source": [
    "model.train(1)"
   ]
  },
  {
   "cell_type": "code",
   "execution_count": null,
   "metadata": {},
   "outputs": [],
   "source": []
  }
 ],
 "metadata": {
  "kernelspec": {
   "display_name": "MRE-PINN",
   "language": "python",
   "name": "mre-pinn"
  },
  "language_info": {
   "codemirror_mode": {
    "name": "ipython",
    "version": 3
   },
   "file_extension": ".py",
   "mimetype": "text/x-python",
   "name": "python",
   "nbconvert_exporter": "python",
   "pygments_lexer": "ipython3",
   "version": "3.10.6"
  }
 },
 "nbformat": 4,
 "nbformat_minor": 4
}
