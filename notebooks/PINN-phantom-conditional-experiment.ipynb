{
 "cells": [
  {
   "cell_type": "code",
   "execution_count": 1,
   "metadata": {},
   "outputs": [
    {
     "name": "stdout",
     "output_type": "stream",
     "text": [
      "dv002.bridges2.psc.edu\n",
      "/ocean/projects/asc170022p/mtragoza/mre-pinn/notebooks\n"
     ]
    }
   ],
   "source": [
    "%matplotlib notebook\n",
    "%load_ext autoreload\n",
    "%autoreload 1\n",
    "!hostname\n",
    "!pwd"
   ]
  },
  {
   "cell_type": "code",
   "execution_count": 2,
   "metadata": {},
   "outputs": [
    {
     "name": "stderr",
     "output_type": "stream",
     "text": [
      "Using backend: pytorch\n",
      "\n"
     ]
    }
   ],
   "source": [
    "import sys, os\n",
    "import numpy as np\n",
    "import pandas as pd\n",
    "\n",
    "sys.path.append('..')\n",
    "%aimport mre_pinn\n",
    "\n",
    "sys.path.append('../../param_search')\n",
    "%aimport param_search\n",
    "ps = param_search"
   ]
  },
  {
   "cell_type": "markdown",
   "metadata": {},
   "source": [
    "# Training PINNs conditioned on MRI anatomic images\n",
    "\n",
    "The objective is to see whether we can improve the performance of PINNs at elasticity reconstruction over a baseline method by conditioning the model on MRI anatomical images. We will use the BIOQIC phantom data set and evaluate at each of the different data frequencies separately."
   ]
  },
  {
   "cell_type": "code",
   "execution_count": 3,
   "metadata": {},
   "outputs": [
    {
     "data": {
      "text/plain": [
       "72"
      ]
     },
     "execution_count": 3,
     "metadata": {},
     "output_type": "execute_result"
    }
   ],
   "source": [
    "# define the job template and name format\n",
    "\n",
    "template = '''\\\n",
    "#!/bin/bash\n",
    "#SBATCH --job-name={job_name}\n",
    "#SBATCH --account=asc170022p\n",
    "#SBATCH --partition=GPU-shared\n",
    "#SBATCH --gres=gpu:1\n",
    "#SBATCH --time=48:00:00\n",
    "#SBATCH -o %J.stdout\n",
    "#SBATCH -e %J.stderr\n",
    "#SBATCH --mail-type=all\n",
    "\n",
    "hostname\n",
    "pwd\n",
    "source activate MRE-PINN\n",
    "\n",
    "python ../../../train.py \\\\\n",
    "    --data_root ../../../data/BIOQIC \\\\\n",
    "    --data_name phantom \\\\\n",
    "    --frequency {frequency} \\\\\n",
    "    --xyz_slice {xyz_slice} \\\\\n",
    "    --noise_ratio 0.0 \\\\\n",
    "    --pde_name {pde_name} \\\\\n",
    "    --omega0 {omega0} \\\\\n",
    "    --n_layers {n_layers} \\\\\n",
    "    --n_hidden {n_hidden} \\\\\n",
    "    --activ_fn {activ_fn} \\\\\n",
    "    --polar {polar} \\\\\n",
    "    --conditional {conditional} \\\\\n",
    "    --optimizer adam \\\\\n",
    "    --learning_rate {learning_rate} \\\\\n",
    "    --pde_loss_wt {pde_loss_wt} \\\\\n",
    "    --data_loss_wt {data_loss_wt} \\\\\n",
    "    --batch_size {batch_size} \\\\\n",
    "    --n_iters {n_iters} \\\\\n",
    "    --test_every {test_every} \\\\\n",
    "    --save_every {save_every} \\\\\n",
    "    --save_prefix {job_name}\n",
    "'''\n",
    "name = 'train_{frequency}_{xyz_slice}_{pde_name}_{omega0}_{conditional}'\n",
    "\n",
    "# define the parameter space\n",
    "\n",
    "param_space = ps.ParamSpace(\n",
    "    frequency=[50, 60, 70, 80, 90, 100],\n",
    "    xyz_slice=['2D'],\n",
    "    pde_name=['helmholtz', 'hetero'],\n",
    "    omega0=[1, 4, 16],\n",
    "    n_layers=[5],\n",
    "    n_hidden=[128],\n",
    "    activ_fn=['s'],\n",
    "    polar=[0, 1],\n",
    "    conditional=[0, 1],\n",
    "    learning_rate=1e-4,\n",
    "    pde_loss_wt=1e-8,\n",
    "    data_loss_wt=1,\n",
    "    batch_size=128,\n",
    "    n_iters=250000,\n",
    "    test_every=1000,\n",
    "    save_every=10000\n",
    ")\n",
    "\n",
    "len(param_space)"
   ]
  },
  {
   "cell_type": "code",
   "execution_count": 4,
   "metadata": {},
   "outputs": [
    {
     "name": "stdout",
     "output_type": "stream",
     "text": [
      "100%|██████████| 1/1 [00:00<00:00, 89.91it/s]\n",
      "[11767592]\n"
     ]
    }
   ],
   "source": [
    "%autoreload\n",
    "expt_name = '2022-10-03_conditional'\n",
    "\n",
    "jobs = ps.submit(template, name, list(param_space)[:1], work_dir=expt_name, verbose=True)\n",
    "jobs.to_csv(f'{expt_name}.jobs')\n",
    "\n",
    "#import pandas as pd\n",
    "#jobs = pd.read_csv(f'{expt_name}.jobs')"
   ]
  },
  {
   "cell_type": "code",
   "execution_count": null,
   "metadata": {
    "scrolled": false
   },
   "outputs": [],
   "source": [
    "%autoreload\n",
    "status_cols = ['job_name', 'job_state', 'node_id', 'runtime', 'stdout', 'stderr']\n",
    "ps.status(jobs)[status_cols] #.iloc[0].stderr"
   ]
  },
  {
   "cell_type": "code",
   "execution_count": null,
   "metadata": {},
   "outputs": [],
   "source": [
    "print(ps.status(jobs)[status_cols].iloc[0].stdout)"
   ]
  },
  {
   "cell_type": "code",
   "execution_count": null,
   "metadata": {},
   "outputs": [],
   "source": [
    "metrics = ps.metrics(jobs).rename(columns={'mean_abs_value': 'median_abs_value'})\n",
    "metrics"
   ]
  },
  {
   "cell_type": "code",
   "execution_count": null,
   "metadata": {},
   "outputs": [],
   "source": [
    "# did all models train to 100k iterations?\n",
    "assert (metrics.groupby('job_name')['iteration'].max() == 250e3).all()\n",
    "\n",
    "param_cols = ['pde_name', 'frequency', 'n_hidden'] # experimental parameters\n",
    "index_cols = ['iteration', 'variable_name', 'spatial_frequency_bin', 'spatial_region'] # metric identifiers\n",
    "metric_cols = ['mean_squared_abs_value', 'power_density', 'median_abs_value'] # metric values\n",
    "\n",
    "group_cols = ['job_name'] + param_cols + index_cols\n",
    "m = metrics.groupby(group_cols, sort=False)[metric_cols].mean() \\\n",
    "    .unstack(level=[group_cols.index('variable_name')])\n",
    "\n",
    "def abbreviate_metrics(t):\n",
    "    metric_name, var_name = t\n",
    "    metric_name = {\n",
    "        'mean_squared_abs_value': 'MSAV',\n",
    "        'median_abs_value': 'MAV',\n",
    "        'power_density': 'PSD'\n",
    "    }[metric_name]\n",
    "    new_col_name = f'{var_name}_{metric_name}'\n",
    "    new_col_name = new_col_name.replace('diff_MSAV', 'pred_MSAE')\n",
    "    new_col_name = new_col_name.replace('f_sum_MSAV', 'PDE_MSAE')\n",
    "    new_col_name = new_col_name.replace('diff_MAV', 'pred_MAD')\n",
    "    return new_col_name\n",
    "\n",
    "m.columns = [abbreviate_metrics(x) for x in m.columns.to_flat_index()]\n",
    "\n",
    "m = m.reset_index()\n",
    "m"
   ]
  },
  {
   "cell_type": "code",
   "execution_count": null,
   "metadata": {},
   "outputs": [],
   "source": [
    "m.spatial_region.unique()"
   ]
  },
  {
   "cell_type": "code",
   "execution_count": null,
   "metadata": {
    "scrolled": false
   },
   "outputs": [],
   "source": [
    "# plot the wave field error\n",
    "\n",
    "m['u_pred_MSAE_rel'] = m['u_pred_MSAE'] / m['u_true_MSAV']\n",
    "m['u_pred_MAD_rel'] = m['u_pred_MAD'] / m['u_true_MAV']\n",
    "\n",
    "fig = ps.plot(\n",
    "    m[(m.iteration > 200e3) & ~m.spatial_region.isin({'-1', 'all'})].copy(),\n",
    "    x=param_cols,\n",
    "    y=['u_pred_MAD', 'u_pred_MAD_rel'],\n",
    "    grouped=True,\n",
    "    height=4,\n",
    "    width=3,\n",
    "    legend=True,\n",
    "    tight=True\n",
    ")\n",
    "fig.suptitle('Wave field error', x=0.5, y=0.98)\n",
    "fig.tight_layout()"
   ]
  },
  {
   "cell_type": "code",
   "execution_count": null,
   "metadata": {
    "scrolled": false
   },
   "outputs": [],
   "source": [
    "# plot the elastogram error\n",
    "\n",
    "m['mu_pred_MSAE_rel'] = m['mu_pred_MSAE'] / m['mu_true_MSAV']\n",
    "m['mu_pred_MAD_rel'] = m['mu_pred_MAD'] / m['mu_true_MAV']\n",
    "\n",
    "fig = ps.plot(\n",
    "    m[(m.iteration > 200e3) & ~m.spatial_region.isin({'-1', 'all'})].copy(),\n",
    "    x=param_cols,\n",
    "    y=['mu_pred_MAD', 'mu_pred_MAD_rel'],\n",
    "    grouped=True,\n",
    "    height=4,\n",
    "    width=3,\n",
    "    legend=True,\n",
    "    tight=True\n",
    ")\n",
    "fig.suptitle('Elasticity error', x=0.5, y=0.98)\n",
    "fig.tight_layout()"
   ]
  },
  {
   "cell_type": "code",
   "execution_count": null,
   "metadata": {},
   "outputs": [],
   "source": [
    "# plot the Laplacian error (model Laplacian vs finite differences) to assess overfitting\n",
    "\n",
    "m['lu_pred_MSAE_rel'] = m['lu_pred_MSAE'] / m['lu_pred_MSAV']\n",
    "m['lu_pred_MAD_rel'] = m['lu_pred_MAD'] / m['lu_pred_MAV']\n",
    "\n",
    "fig = ps.plot(\n",
    "    m[(m.iteration > 200e3) & ~m.spatial_region.isin({'-1', 'all'})].copy(),\n",
    "    x=param_cols,\n",
    "    y=['lu_pred_MAV', 'lu_pred_MAD_rel'],\n",
    "    grouped=True,\n",
    "    height=4,\n",
    "    width=3,\n",
    "    legend=True,\n",
    "    tight=True\n",
    ")\n",
    "fig.suptitle('Laplacian deviation', x=0.5, y=0.98)\n",
    "fig.tight_layout()"
   ]
  }
 ],
 "metadata": {
  "kernelspec": {
   "display_name": "MRE-PINN",
   "language": "python",
   "name": "mre-pinn"
  },
  "language_info": {
   "codemirror_mode": {
    "name": "ipython",
    "version": 3
   },
   "file_extension": ".py",
   "mimetype": "text/x-python",
   "name": "python",
   "nbconvert_exporter": "python",
   "pygments_lexer": "ipython3",
   "version": "3.10.6"
  }
 },
 "nbformat": 4,
 "nbformat_minor": 4
}
