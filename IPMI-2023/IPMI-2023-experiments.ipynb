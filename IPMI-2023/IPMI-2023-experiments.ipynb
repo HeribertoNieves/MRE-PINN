{
 "cells": [
  {
   "cell_type": "code",
   "execution_count": 1,
   "metadata": {},
   "outputs": [
    {
     "name": "stdout",
     "output_type": "stream",
     "text": [
      "dv001.ib.bridges2.psc.edu\n",
      "/ocean/projects/asc170022p/mtragoza/mre-pinn/IPMI-2023\n"
     ]
    }
   ],
   "source": [
    "%matplotlib notebook\n",
    "%load_ext autoreload\n",
    "%autoreload 1\n",
    "!hostname\n",
    "!pwd"
   ]
  },
  {
   "cell_type": "code",
   "execution_count": 2,
   "metadata": {},
   "outputs": [
    {
     "name": "stderr",
     "output_type": "stream",
     "text": [
      "Using backend: pytorch\n",
      "\n"
     ]
    }
   ],
   "source": [
    "import sys, os\n",
    "import numpy as np\n",
    "\n",
    "sys.path.append('..')\n",
    "%aimport mre_pinn\n",
    "\n",
    "sys.path.append('../../param_search')\n",
    "%aimport param_search\n",
    "ps = param_search"
   ]
  },
  {
   "cell_type": "markdown",
   "metadata": {},
   "source": [
    "# IPMI 2023 experiments"
   ]
  },
  {
   "cell_type": "code",
   "execution_count": 3,
   "metadata": {},
   "outputs": [
    {
     "data": {
      "text/plain": [
       "'/ocean/projects/asc170022p/mtragoza/mre-pinn/IPMI-2023'"
      ]
     },
     "execution_count": 3,
     "metadata": {},
     "output_type": "execute_result"
    }
   ],
   "source": [
    "%pwd"
   ]
  },
  {
   "cell_type": "code",
   "execution_count": 5,
   "metadata": {},
   "outputs": [
    {
     "data": {
      "text/plain": [
       "12"
      ]
     },
     "execution_count": 5,
     "metadata": {},
     "output_type": "execute_result"
    }
   ],
   "source": [
    "# define the job template and name format\n",
    "\n",
    "template = '''\\\n",
    "#!/bin/bash\n",
    "#SBATCH --job-name={job_name}\n",
    "#SBATCH --account=asc170022p\n",
    "#SBATCH --partition=GPU-shared\n",
    "#SBATCH --gres=gpu:1\n",
    "#SBATCH --time=48:00:00\n",
    "#SBATCH -o %J.stdout\n",
    "#SBATCH -e %J.stderr\n",
    "#SBATCH --mail-type=all\n",
    "\n",
    "hostname\n",
    "pwd\n",
    "source activate MRE-PINN\n",
    "\n",
    "python ../../../train.py \\\\\n",
    "    --xarray_dir {xarray_dir} \\\\\n",
    "    --example_id {example_id} \\\\\n",
    "    --frequency {frequency} \\\\\n",
    "    --omega {omega} \\\\\n",
    "    --polar_input {polar_input} \\\\\n",
    "    --pde_name {pde_name} \\\\\n",
    "    --pde_warmup_iters 10000 \\\\\n",
    "    --pde_step_iters 5000 \\\\\n",
    "    --pde_step_factor 10 \\\\\n",
    "    --pde_init_weight {pde_init_weight} \\\\\n",
    "    --pde_loss_weight {pde_loss_weight} \\\\\n",
    "    --save_prefix {job_name}    \n",
    "'''\n",
    "name = 'train_{data_name}_{example_id}_{pde_name}'\n",
    "\n",
    "# define the parameter space\n",
    "\n",
    "fem_box_space = ps.ParamSpace(\n",
    "    data_name='fem_box',\n",
    "    xarray_dir='../../../data/BIOQIC/fem_box',\n",
    "    example_id=[50, 60, 70, 80, 90, 100],\n",
    "    frequency='auto',\n",
    "    omega=30,\n",
    "    pde_name=['helmholtz', 'hetero'],\n",
    "    pde_init_weight=1e-10,\n",
    "    pde_loss_weight=1e-8,\n",
    "    polar_input=0,\n",
    ")\n",
    "phantom_space = ps.ParamSpace(\n",
    "    data_name='phantom',\n",
    "    xarray_dir='../../../data/BIOQIC/phantom',\n",
    "    example_id=[30, 40, 50, 60, 70, 80, 90, 100],\n",
    "    frequency='auto',\n",
    "    omega=30,\n",
    "    pde_name=['hetero'],\n",
    "    pde_init_weight=1e-12,\n",
    "    pde_loss_weight=1e-10,\n",
    "    polar_input=0,\n",
    ")\n",
    "patient_space = ps.ParamSpace(\n",
    "    data_name='patient',\n",
    "    xarray_dir='../../../data/NAFLD/v3',\n",
    "    example_id=['0006', '0020', '0024', '0029', '0043', '0047', '0126', '0135', '0155', '0164', '0172', '0173', '0210', '0213', '0219', '0222', '0234', '0235', '0291', '0344', '0378', '0384', '0395', '0401', '0415', '0457', '0461', '0491', '0492', '0496', '0509', '0510', '0516', '0525', '0564', '0604', '0612', '0615', '0628', '0639', '0648', '0650', '0653', '0655', '0659', '0693', '0704', '0717', '0727', '0734', '0737', '0740', '0747', '0748', '0898', '0900', '0929', '0931', '0932', '0940', '0954', '0964', '0965', '0979', '0989', '0995', '1028', '1033', '1039', '1045', '1075', '1076', '1077', '1083', '1103', '1106', '1108', '1110', '1119', '1121', '1123', '1134', '1144', '1149', '1205', '1207', '1215', '1217', '1230', '1261', '1271', '1296', '1303', '1311', '1329', '1337', '1341', '1343', '1344', '1382', '1395', '1400', '1404', '1417', '1426', '1427', '1433', '1435', '1448', '1453', '1456', '1464', '1671', '1679', '1694', '1699', '1706', '1712', '1714', '1715', '1720', '1722', '1727', '1736', '1748', '1785', '1786', '1790', '1791', '1793', '1795', '1798', '1806', '1807', '1819', '1829', '1839', '1843', '1851', '1853', '1896', '1899', '1903', '1917', '1935', '1940', '1948', '1967', '1979', '1980', '2001', '2007', '2029', '2034', '2046'],\n",
    "    frequency=40,\n",
    "    omega=60,\n",
    "    pde_name=['hetero'],\n",
    "    pde_init_weight=1e-18,\n",
    "    pde_loss_weight=1e-16,\n",
    "    polar_input=1,\n",
    ")\n",
    "\n",
    "param_space = fem_box_space\n",
    "len(param_space)"
   ]
  },
  {
   "cell_type": "code",
   "execution_count": 6,
   "metadata": {},
   "outputs": [
    {
     "name": "stdout",
     "output_type": "stream",
     "text": [
      "100%|██████████| 12/12 [00:00<00:00, 102.80it/s]\n",
      "[13256772, 13256773, 13256774, 13256775, 13256776, 13256777, 13256778, 13256779, 13256780, 13256781, 13256782, 13256783]\n"
     ]
    }
   ],
   "source": [
    "%autoreload\n",
    "expt_name = '2022-11-23_fem_box_init'\n",
    "\n",
    "jobs = ps.submit(template, name, param_space, work_dir=expt_name, verbose=True)\n",
    "jobs.to_csv(f'{expt_name}.jobs')\n",
    "\n",
    "#jobs = pd.read_csv(f'{expt_name}.jobs')"
   ]
  },
  {
   "cell_type": "code",
   "execution_count": 7,
   "metadata": {
    "scrolled": false
   },
   "outputs": [
    {
     "data": {
      "text/html": [
       "<div>\n",
       "<style scoped>\n",
       "    .dataframe tbody tr th:only-of-type {\n",
       "        vertical-align: middle;\n",
       "    }\n",
       "\n",
       "    .dataframe tbody tr th {\n",
       "        vertical-align: top;\n",
       "    }\n",
       "\n",
       "    .dataframe thead th {\n",
       "        text-align: right;\n",
       "    }\n",
       "</style>\n",
       "<table border=\"1\" class=\"dataframe\">\n",
       "  <thead>\n",
       "    <tr style=\"text-align: right;\">\n",
       "      <th></th>\n",
       "      <th>job_name</th>\n",
       "      <th>job_state</th>\n",
       "      <th>node_id</th>\n",
       "      <th>runtime</th>\n",
       "      <th>stdout</th>\n",
       "      <th>stderr</th>\n",
       "    </tr>\n",
       "    <tr>\n",
       "      <th>job_id</th>\n",
       "      <th></th>\n",
       "      <th></th>\n",
       "      <th></th>\n",
       "      <th></th>\n",
       "      <th></th>\n",
       "      <th></th>\n",
       "    </tr>\n",
       "  </thead>\n",
       "  <tbody>\n",
       "    <tr>\n",
       "      <th>13256772</th>\n",
       "      <td>train_fem_box_50_helmholtz</td>\n",
       "      <td>PENDING</td>\n",
       "      <td>(Priority)</td>\n",
       "      <td>0:00</td>\n",
       "      <td>NaN</td>\n",
       "      <td>NaN</td>\n",
       "    </tr>\n",
       "    <tr>\n",
       "      <th>13256773</th>\n",
       "      <td>train_fem_box_50_hetero</td>\n",
       "      <td>PENDING</td>\n",
       "      <td>(Priority)</td>\n",
       "      <td>0:00</td>\n",
       "      <td>NaN</td>\n",
       "      <td>NaN</td>\n",
       "    </tr>\n",
       "    <tr>\n",
       "      <th>13256774</th>\n",
       "      <td>train_fem_box_60_helmholtz</td>\n",
       "      <td>PENDING</td>\n",
       "      <td>(Priority)</td>\n",
       "      <td>0:00</td>\n",
       "      <td>NaN</td>\n",
       "      <td>NaN</td>\n",
       "    </tr>\n",
       "    <tr>\n",
       "      <th>13256775</th>\n",
       "      <td>train_fem_box_60_hetero</td>\n",
       "      <td>PENDING</td>\n",
       "      <td>(Priority)</td>\n",
       "      <td>0:00</td>\n",
       "      <td>NaN</td>\n",
       "      <td>NaN</td>\n",
       "    </tr>\n",
       "    <tr>\n",
       "      <th>13256776</th>\n",
       "      <td>train_fem_box_70_helmholtz</td>\n",
       "      <td>PENDING</td>\n",
       "      <td>(Priority)</td>\n",
       "      <td>0:00</td>\n",
       "      <td>NaN</td>\n",
       "      <td>NaN</td>\n",
       "    </tr>\n",
       "    <tr>\n",
       "      <th>13256777</th>\n",
       "      <td>train_fem_box_70_hetero</td>\n",
       "      <td>PENDING</td>\n",
       "      <td>(Priority)</td>\n",
       "      <td>0:00</td>\n",
       "      <td>NaN</td>\n",
       "      <td>NaN</td>\n",
       "    </tr>\n",
       "    <tr>\n",
       "      <th>13256778</th>\n",
       "      <td>train_fem_box_80_helmholtz</td>\n",
       "      <td>PENDING</td>\n",
       "      <td>(Priority)</td>\n",
       "      <td>0:00</td>\n",
       "      <td>NaN</td>\n",
       "      <td>NaN</td>\n",
       "    </tr>\n",
       "    <tr>\n",
       "      <th>13256779</th>\n",
       "      <td>train_fem_box_80_hetero</td>\n",
       "      <td>PENDING</td>\n",
       "      <td>(Priority)</td>\n",
       "      <td>0:00</td>\n",
       "      <td>NaN</td>\n",
       "      <td>NaN</td>\n",
       "    </tr>\n",
       "    <tr>\n",
       "      <th>13256780</th>\n",
       "      <td>train_fem_box_90_helmholtz</td>\n",
       "      <td>PENDING</td>\n",
       "      <td>(Priority)</td>\n",
       "      <td>0:00</td>\n",
       "      <td>NaN</td>\n",
       "      <td>NaN</td>\n",
       "    </tr>\n",
       "    <tr>\n",
       "      <th>13256781</th>\n",
       "      <td>train_fem_box_90_hetero</td>\n",
       "      <td>PENDING</td>\n",
       "      <td>(Priority)</td>\n",
       "      <td>0:00</td>\n",
       "      <td>NaN</td>\n",
       "      <td>NaN</td>\n",
       "    </tr>\n",
       "    <tr>\n",
       "      <th>13256782</th>\n",
       "      <td>train_fem_box_100_helmholtz</td>\n",
       "      <td>PENDING</td>\n",
       "      <td>(Priority)</td>\n",
       "      <td>0:00</td>\n",
       "      <td>NaN</td>\n",
       "      <td>NaN</td>\n",
       "    </tr>\n",
       "    <tr>\n",
       "      <th>13256783</th>\n",
       "      <td>train_fem_box_100_hetero</td>\n",
       "      <td>PENDING</td>\n",
       "      <td>(Priority)</td>\n",
       "      <td>0:00</td>\n",
       "      <td>NaN</td>\n",
       "      <td>NaN</td>\n",
       "    </tr>\n",
       "  </tbody>\n",
       "</table>\n",
       "</div>"
      ],
      "text/plain": [
       "                             job_name job_state     node_id runtime  stdout  \\\n",
       "job_id                                                                        \n",
       "13256772   train_fem_box_50_helmholtz   PENDING  (Priority)    0:00     NaN   \n",
       "13256773      train_fem_box_50_hetero   PENDING  (Priority)    0:00     NaN   \n",
       "13256774   train_fem_box_60_helmholtz   PENDING  (Priority)    0:00     NaN   \n",
       "13256775      train_fem_box_60_hetero   PENDING  (Priority)    0:00     NaN   \n",
       "13256776   train_fem_box_70_helmholtz   PENDING  (Priority)    0:00     NaN   \n",
       "13256777      train_fem_box_70_hetero   PENDING  (Priority)    0:00     NaN   \n",
       "13256778   train_fem_box_80_helmholtz   PENDING  (Priority)    0:00     NaN   \n",
       "13256779      train_fem_box_80_hetero   PENDING  (Priority)    0:00     NaN   \n",
       "13256780   train_fem_box_90_helmholtz   PENDING  (Priority)    0:00     NaN   \n",
       "13256781      train_fem_box_90_hetero   PENDING  (Priority)    0:00     NaN   \n",
       "13256782  train_fem_box_100_helmholtz   PENDING  (Priority)    0:00     NaN   \n",
       "13256783     train_fem_box_100_hetero   PENDING  (Priority)    0:00     NaN   \n",
       "\n",
       "          stderr  \n",
       "job_id            \n",
       "13256772     NaN  \n",
       "13256773     NaN  \n",
       "13256774     NaN  \n",
       "13256775     NaN  \n",
       "13256776     NaN  \n",
       "13256777     NaN  \n",
       "13256778     NaN  \n",
       "13256779     NaN  \n",
       "13256780     NaN  \n",
       "13256781     NaN  \n",
       "13256782     NaN  \n",
       "13256783     NaN  "
      ]
     },
     "execution_count": 7,
     "metadata": {},
     "output_type": "execute_result"
    }
   ],
   "source": [
    "status_cols = ['job_name', 'job_state', 'node_id', 'runtime', 'stdout', 'stderr']\n",
    "status = ps.status(jobs)[status_cols]\n",
    "status"
   ]
  },
  {
   "cell_type": "code",
   "execution_count": 15,
   "metadata": {},
   "outputs": [
    {
     "data": {
      "text/plain": [
       "'Using backend: pytorch\\n\\nTraceback (most recent call last):\\n  File \"/ocean/projects/asc170022p/mtragoza/mre-pinn/mre_pinn/testing/generic.py\", line 146, in update_plots\\n    self.norm_plot.update_data(data)\\nAttributeError: \\'TestEvaluator\\' object has no attribute \\'norm_plot\\'\\n\\nDuring handling of the above exception, another exception occurred:\\n\\nTraceback (most recent call last):\\n  File \"/ocean/projects/asc170022p/mtragoza/mre-pinn/IPMI-2023/2022-11-23_test/train_fem_box_50_helmholtz/../../../train.py\", line 14, in <module>\\n    def train(\\n  File \"/ocean/projects/asc170022p/mtragoza/mre-pinn/mre_pinn/utils.py\", line 232, in main\\n    func(**kwargs)\\n  File \"/ocean/projects/asc170022p/mtragoza/mre-pinn/IPMI-2023/2022-11-23_test/train_fem_box_50_helmholtz/../../../train.py\", line 98, in train\\n    model.train(n_iters, display_every=10, callbacks=[test_eval])\\n  File \"/ocean/projects/asc170022p/mtragoza/mambaforge/envs/MRE-PINN/lib/python3.10/site-packages/deepxde/utils/internal.py\", line 22, in wrapper\\n    result = f(*args, **kwargs)\\n  File \"/ocean/projects/asc170022p/mtragoza/mambaforge/envs/MRE-PINN/lib/python3.10/site-packages/deepxde/model.py\", line 594, in train\\n    self._train_sgd(iterations, display_every)\\n  File \"/ocean/projects/asc170022p/mtragoza/mambaforge/envs/MRE-PINN/lib/python3.10/site-packages/deepxde/model.py\", line 606, in _train_sgd\\n    self.callbacks.on_batch_begin()\\n  File \"/ocean/projects/asc170022p/mtragoza/mambaforge/envs/MRE-PINN/lib/python3.10/site-packages/deepxde/callbacks.py\", line 82, in on_batch_begin\\n    callback.on_batch_begin()\\n  File \"/ocean/projects/asc170022p/mtragoza/mre-pinn/mre_pinn/training/callbacks.py\", line 13, in on_batch_begin\\n    self.on_period_begin()\\n  File \"/ocean/projects/asc170022p/mtragoza/mre-pinn/mre_pinn/testing/generic.py\", line 66, in on_period_begin\\n    self.test(save_model)\\n  File \"/ocean/projects/asc170022p/mtragoza/mre-pinn/mre_pinn/testing/generic.py\", line 80, in test\\n    self.update_plots()\\n  File \"/ocean/projects/asc170022p/mtragoza/mre-pinn/mre_pinn/testing/generic.py\", line 160, in update_plots\\n    self.freq_plot = visual.DataViewer(\\n  File \"/ocean/projects/asc170022p/mtragoza/mre-pinn/mre_pinn/visual.py\", line 313, in __init__\\n    self.initialize_subplots(**kwargs)\\n  File \"/ocean/projects/asc170022p/mtragoza/mre-pinn/mre_pinn/visual.py\", line 409, in initialize_subplots\\n    data = self.data.loc[index][columns].dropna().reset_index()\\n  File \"/ocean/projects/asc170022p/mtragoza/mambaforge/envs/MRE-PINN/lib/python3.10/site-packages/pandas/core/frame.py\", line 3811, in __getitem__\\n    indexer = self.columns._get_indexer_strict(key, \"columns\")[1]\\n  File \"/ocean/projects/asc170022p/mtragoza/mambaforge/envs/MRE-PINN/lib/python3.10/site-packages/pandas/core/indexes/base.py\", line 6108, in _get_indexer_strict\\n    self._raise_if_missing(keyarr, indexer, axis_name)\\n  File \"/ocean/projects/asc170022p/mtragoza/mambaforge/envs/MRE-PINN/lib/python3.10/site-packages/pandas/core/indexes/base.py\", line 6171, in _raise_if_missing\\n    raise KeyError(f\"{not_found} not in index\")\\nKeyError: \"[\\'SPD\\'] not in index\"\\n'"
      ]
     },
     "execution_count": 15,
     "metadata": {},
     "output_type": "execute_result"
    }
   ],
   "source": [
    "status.iloc[0].stderr"
   ]
  },
  {
   "cell_type": "code",
   "execution_count": null,
   "metadata": {},
   "outputs": [],
   "source": [
    "metrics = ps.metrics(jobs)\n",
    "\n",
    "# did all models train to 25k iterations?\n",
    "assert (metrics.groupby('job_name')['iteration'].max() == 25e3).all()\n",
    "\n",
    "# get the final test evaluations\n",
    "metrics = metrics[metrics.iteration == 25e3]\n",
    "\n",
    "param_cols = ['pde_name', 'omega0', 'activ_fn', 'pde_distrib'] # experimental parameters\n",
    "index_cols = ['variable_name', 'spatial_frequency_bin', 'spatial_region'] # metric identifiers\n",
    "metric_cols = ['mean_squared_abs_value', 'power_density', 'mean_abs_value'] # metric values\n",
    "\n",
    "metrics = metrics.groupby(param_cols + index_cols, sort=False)[metric_cols].mean().unstack(level=[4])\n",
    "\n",
    "def metric_map(t):\n",
    "    metric_name, var_name = t\n",
    "    metric_name = {\n",
    "        'mean_squared_abs_value': 'MSAV',\n",
    "        'mean_abs_value': 'MAV',\n",
    "        'power_density': 'SPD'\n",
    "    }[metric_name]\n",
    "    new_col_name = f'{var_name}_{metric_name}'\n",
    "    new_col_name = new_col_name.replace('diff_MSAV', 'pred_MSAE')\n",
    "    new_col_name = new_col_name.replace('f_sum_MSAV', 'PDE_MSAE')\n",
    "    new_col_name = new_col_name.replace('diff_MAV', 'pred_MAD')\n",
    "    return new_col_name\n",
    "\n",
    "metrics.columns = [metric_map(t) for t in metrics.columns.to_flat_index()]\n",
    "metrics"
   ]
  },
  {
   "cell_type": "code",
   "execution_count": null,
   "metadata": {},
   "outputs": [],
   "source": [
    "fig = ps.plot(\n",
    "    metrics.reset_index(),\n",
    "    x=param_cols,\n",
    "    y=['u_pred_MSAE'],\n",
    "    height=3,\n",
    "    width=2.25,\n",
    "    legend=False,\n",
    "    tight=True\n",
    ")"
   ]
  },
  {
   "cell_type": "markdown",
   "metadata": {},
   "source": [
    "Pretty much all models fit the wave field to a very low error."
   ]
  },
  {
   "cell_type": "code",
   "execution_count": null,
   "metadata": {},
   "outputs": [],
   "source": [
    "fig = ps.plot(\n",
    "    metrics.reset_index(),\n",
    "    x=param_cols,\n",
    "    y=['PDE_MSAE'],\n",
    "    height=3,\n",
    "    width=2.5,\n",
    "    legend=False,\n",
    "    tight=True\n",
    ")"
   ]
  },
  {
   "cell_type": "markdown",
   "metadata": {},
   "source": [
    "There is much more variance in minimizing the PDE residual, and no clear trends jump out at first."
   ]
  },
  {
   "cell_type": "code",
   "execution_count": null,
   "metadata": {},
   "outputs": [],
   "source": [
    "fig = ps.plot(\n",
    "    metrics.reset_index(),\n",
    "    x=param_cols,\n",
    "    y=['PDE_MSAE'],\n",
    "    hue='pde_name',\n",
    "    height=4, width=2.5,\n",
    "    tight=True\n",
    ")"
   ]
  },
  {
   "cell_type": "markdown",
   "metadata": {},
   "source": [
    "Overall it seems that the Helmholtz PDE residual was easier to minimize than the heterogeneous PDE. There also appears to be a trend where the residuals are lower (for both PDEs) when omega0 is higher."
   ]
  },
  {
   "cell_type": "code",
   "execution_count": null,
   "metadata": {},
   "outputs": [],
   "source": [
    "fig = ps.plot(\n",
    "    metrics.reset_index(),\n",
    "    x=param_cols,\n",
    "    y=['mu_pred_MAD'],\n",
    "    height=8, width=3,\n",
    "    tight=True\n",
    ")"
   ]
  },
  {
   "cell_type": "markdown",
   "metadata": {},
   "source": [
    "Here we are looking at the median absolute deviation of the predict stiffness in each of the regions. There is a very clear signal in the PDE name plot: Using the heterogeneous PDE results in lower error in the predicted stiffness per region, compared to the Helmholtz PDE. There may be a trend in the omeg0 and activ_fn plots as well, but it's less clear."
   ]
  },
  {
   "cell_type": "code",
   "execution_count": null,
   "metadata": {},
   "outputs": [],
   "source": [
    "fig = ps.plot(\n",
    "    metrics.reset_index(),\n",
    "    x=param_cols,\n",
    "    y=['mu_pred_MAD'],\n",
    "    hue='pde_name',\n",
    "    height=4, width=3,\n",
    "    tight=True\n",
    ")\n",
    "fig.savefig('1d_experiment_mu_pred_MAD.png', dpi=300, bbox_inches='tight')"
   ]
  },
  {
   "cell_type": "markdown",
   "metadata": {},
   "source": [
    "This plot emphasizes a clear and statistically significant signal from using the heterogeneous PDE instead of the Helmholtz PDE, resulting in more accurate predicted stiffness."
   ]
  },
  {
   "cell_type": "code",
   "execution_count": null,
   "metadata": {},
   "outputs": [],
   "source": [
    "m = metrics.reset_index()\n",
    "m['Mean % mu error (by region)'] = m['mu_pred_MAD'] / m['mu_true_MAV'] * 100\n",
    "\n",
    "fig = ps.plot(\n",
    "    m,\n",
    "    x=param_cols,\n",
    "    y=['Mean % mu error (by region)'],\n",
    "    hue='pde_name',\n",
    "    height=4, width=3,\n",
    "    tight=True\n",
    ")\n",
    "fig.savefig('1d_experiment_mu_pred_MAD_relative.png', dpi=300, bbox_inches='tight')"
   ]
  },
  {
   "cell_type": "code",
   "execution_count": null,
   "metadata": {},
   "outputs": [],
   "source": [
    "agg = metrics.reset_index().groupby(param_cols).mean()"
   ]
  },
  {
   "cell_type": "code",
   "execution_count": null,
   "metadata": {},
   "outputs": [],
   "source": [
    "import matplotlib.pyplot as plt\n",
    "import seaborn as sns\n",
    "\n",
    "fig = sns.lmplot(data=agg.reset_index(), x='PDE_MSAE', y='mu_pred_MAD', hue='pde_name')\n",
    "fig.savefig('1d_experiment_mu_pred_MAD_corr.png', dpi=200, bbox_inches='tight')"
   ]
  },
  {
   "cell_type": "markdown",
   "metadata": {},
   "source": [
    "Even though using the heterogeneous PDE instead of Helmholtz consistently improves reconstruction quality, there is not a clear correlation between the PDE residual and the reconstruction quality. If anything, the Helmholtz residual is more strongly correlated with mu error, even though mu error is higher in absolute terms."
   ]
  },
  {
   "cell_type": "code",
   "execution_count": null,
   "metadata": {},
   "outputs": [],
   "source": [
    "m = metrics.reset_index()\n",
    "\n",
    "fig = ps.plot(\n",
    "    m[m.pde_name == 'hetero'].copy(),\n",
    "    x=param_cols[1:],\n",
    "    y=['mu_pred_MAD'],\n",
    "    height=5.5, width=3,\n",
    "    tight=True\n",
    ")"
   ]
  },
  {
   "cell_type": "markdown",
   "metadata": {},
   "source": [
    "There does not seem to be a relationship with the PDE distribution. So even though I was correct that the Helmholtz PDE seems worse then heterogeneous, the reason why does not seem to be related to the domain sampling distribution."
   ]
  },
  {
   "cell_type": "code",
   "execution_count": null,
   "metadata": {},
   "outputs": [],
   "source": []
  }
 ],
 "metadata": {
  "kernelspec": {
   "display_name": "MRE-PINN",
   "language": "python",
   "name": "mre-pinn"
  },
  "language_info": {
   "codemirror_mode": {
    "name": "ipython",
    "version": 3
   },
   "file_extension": ".py",
   "mimetype": "text/x-python",
   "name": "python",
   "nbconvert_exporter": "python",
   "pygments_lexer": "ipython3",
   "version": "3.10.6"
  }
 },
 "nbformat": 4,
 "nbformat_minor": 4
}
