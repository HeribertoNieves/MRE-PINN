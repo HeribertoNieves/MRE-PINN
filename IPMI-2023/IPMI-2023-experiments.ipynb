{
 "cells": [
  {
   "cell_type": "code",
   "execution_count": 1,
   "metadata": {},
   "outputs": [
    {
     "name": "stdout",
     "output_type": "stream",
     "text": [
      "dv001.ib.bridges2.psc.edu\n",
      "/ocean/projects/asc170022p/mtragoza/mre-pinn/IPMI-2023\n"
     ]
    }
   ],
   "source": [
    "%matplotlib notebook\n",
    "%load_ext autoreload\n",
    "%autoreload 1\n",
    "!hostname\n",
    "!pwd"
   ]
  },
  {
   "cell_type": "code",
   "execution_count": 2,
   "metadata": {},
   "outputs": [
    {
     "name": "stderr",
     "output_type": "stream",
     "text": [
      "Using backend: pytorch\n",
      "\n"
     ]
    }
   ],
   "source": [
    "import sys, os\n",
    "import numpy as np\n",
    "\n",
    "sys.path.append('..')\n",
    "%aimport mre_pinn\n",
    "\n",
    "sys.path.append('../../param_search')\n",
    "%aimport param_search\n",
    "ps = param_search"
   ]
  },
  {
   "cell_type": "markdown",
   "metadata": {},
   "source": [
    "# IPMI 2023 experiments"
   ]
  },
  {
   "cell_type": "code",
   "execution_count": 3,
   "metadata": {},
   "outputs": [
    {
     "data": {
      "text/plain": [
       "'/ocean/projects/asc170022p/mtragoza/mre-pinn/IPMI-2023'"
      ]
     },
     "execution_count": 3,
     "metadata": {},
     "output_type": "execute_result"
    }
   ],
   "source": [
    "%pwd"
   ]
  },
  {
   "cell_type": "code",
   "execution_count": 10,
   "metadata": {},
   "outputs": [
    {
     "data": {
      "text/plain": [
       "338"
      ]
     },
     "execution_count": 10,
     "metadata": {},
     "output_type": "execute_result"
    }
   ],
   "source": [
    "# define the job template and name format\n",
    "\n",
    "template = '''\\\n",
    "#!/bin/bash\n",
    "#SBATCH --job-name={job_name}\n",
    "#SBATCH --account=asc170022p\n",
    "#SBATCH --partition=GPU-shared\n",
    "#SBATCH --gres=gpu:1\n",
    "#SBATCH --time=48:00:00\n",
    "#SBATCH -o %J.stdout\n",
    "#SBATCH -e %J.stderr\n",
    "#SBATCH --mail-type=all\n",
    "\n",
    "hostname\n",
    "pwd\n",
    "source activate MRE-PINN\n",
    "\n",
    "python ../../../train.py \\\\\n",
    "    --xarray_dir {xarray_dir} \\\\\n",
    "    --example_id {example_id} \\\\\n",
    "    --frequency {frequency} \\\\\n",
    "    --omega {omega} \\\\\n",
    "    --polar_input {polar_input} \\\\\n",
    "    --pde_name {pde_name} \\\\\n",
    "    --pde_warmup_iters 10000 \\\\\n",
    "    --pde_step_iters 5000 \\\\\n",
    "    --pde_step_factor 10 \\\\\n",
    "    --pde_init_weight {pde_init_weight} \\\\\n",
    "    --pde_loss_weight {pde_loss_weight} \\\\\n",
    "    --save_prefix {job_name}    \n",
    "'''\n",
    "name = 'train_{data_name}_{example_id}_{pde_name}'\n",
    "\n",
    "# define the parameter space\n",
    "\n",
    "fem_box_space = ps.ParamSpace(\n",
    "    data_name='fem_box',\n",
    "    xarray_dir='../../../data/BIOQIC/fem_box',\n",
    "    example_id=[50, 60, 70, 80, 90, 100],\n",
    "    frequency='auto',\n",
    "    omega=30,\n",
    "    pde_name=['helmholtz', 'hetero'],\n",
    "    pde_init_weight=1e-10,\n",
    "    pde_loss_weight=1e-8,\n",
    "    polar_input=0,\n",
    ")\n",
    "phantom_space = ps.ParamSpace(\n",
    "    data_name='phantom',\n",
    "    xarray_dir='../../../data/BIOQIC/phantom',\n",
    "    example_id=[30, 40, 50, 60, 70, 80, 90, 100],\n",
    "    frequency='auto',\n",
    "    omega=30,\n",
    "    pde_name=['helmholtz', 'hetero'],\n",
    "    pde_init_weight=1e-12,\n",
    "    pde_loss_weight=1e-10,\n",
    "    polar_input=0,\n",
    ")\n",
    "patient_space = ps.ParamSpace(\n",
    "    data_name='patient',\n",
    "    xarray_dir='../../../data/NAFLD/v3',\n",
    "    example_id=['0006', '0020', '0024', '0029', '0043', '0047', '0126', '0135', '0155', '0164', '0172', '0173', '0210', '0213', '0219', '0222', '0234', '0235', '0291', '0344', '0378', '0384', '0395', '0401', '0415', '0457', '0461', '0491', '0492', '0496', '0509', '0510', '0516', '0525', '0564', '0604', '0612', '0615', '0628', '0639', '0648', '0650', '0653', '0655', '0659', '0693', '0704', '0717', '0727', '0734', '0737', '0740', '0747', '0748', '0898', '0900', '0929', '0931', '0932', '0940', '0954', '0964', '0965', '0979', '0989', '0995', '1028', '1033', '1039', '1045', '1075', '1076', '1077', '1083', '1103', '1106', '1108', '1110', '1119', '1121', '1123', '1134', '1144', '1149', '1205', '1207', '1215', '1217', '1230', '1261', '1271', '1296', '1303', '1311', '1329', '1337', '1341', '1343', '1344', '1382', '1395', '1400', '1404', '1417', '1426', '1427', '1433', '1435', '1448', '1453', '1456', '1464', '1671', '1679', '1694', '1699', '1706', '1712', '1714', '1715', '1720', '1722', '1727', '1736', '1748', '1785', '1786', '1790', '1791', '1793', '1795', '1798', '1806', '1807', '1819', '1829', '1839', '1843', '1851', '1853', '1896', '1899', '1903', '1917', '1935', '1940', '1948', '1967', '1979', '1980', '2001', '2007', '2029', '2034', '2046'],\n",
    "    frequency=40,\n",
    "    omega=60,\n",
    "    pde_name=['helmholtz', 'hetero'],\n",
    "    pde_init_weight=1e-18,\n",
    "    pde_loss_weight=1e-16,\n",
    "    polar_input=1,\n",
    ")\n",
    "\n",
    "param_space = fem_box_space + phantom_space + patient_space\n",
    "len(param_space)"
   ]
  },
  {
   "cell_type": "code",
   "execution_count": 11,
   "metadata": {},
   "outputs": [
    {
     "name": "stdout",
     "output_type": "stream",
     "text": [
      "100%|██████████| 338/338 [00:02<00:00, 127.18it/s]\n",
      "[13254872, 13254873, 13254874, 13254875, 13254876, 13254877, 13254878, 13254879, 13254880, 13254881, 13254882, 13254883, 13254884, 13254885, 13254886, 13254887, 13254888, 13254889, 13254890, 13254891, 13254892, 13254893, 13254894, 13254895, 13254896, 13254897, 13254898, 13254899, 13254900, 13254901, 13254902, 13254903, 13254904, 13254905, 13254906, 13254907, 13254908, 13254909, 13254910, 13254911, 13254912, 13254913, 13254914, 13254915, 13254916, 13254917, 13254918, 13254919, 13254920, 13254921, 13254922, 13254923, 13254924, 13254925, 13254926, 13254927, 13254928, 13254929, 13254930, 13254931, 13254932, 13254933, 13254934, 13254935, 13254936, 13254937, 13254938, 13254939, 13254940, 13254941, 13254942, 13254943, 13254944, 13254945, 13254946, 13254947, 13254948, 13254949, 13254950, 13254951, 13254952, 13254953, 13254954, 13254955, 13254956, 13254957, 13254958, 13254959, 13254960, 13254961, 13254962, 13254963, 13254964, 13254965, 13254966, 13254967, 13254968, 13254969, 13254970, 13254971, 13254972, 13254973, 13254974, 13254975, 13254976, 13254977, 13254978, 13254979, 13254980, 13254981, 13254982, 13254983, 13254984, 13254985, 13254986, 13254987, 13254988, 13254989, 13254990, 13254991, 13254992, 13254993, 13254994, 13254995, 13254996, 13254997, 13254998, 13254999, 13255000, 13255001, 13255002, 13255003, 13255004, 13255005, 13255006, 13255007, 13255008, 13255009, 13255010, 13255011, 13255012, 13255013, 13255014, 13255015, 13255016, 13255017, 13255018, 13255019, 13255020, 13255021, 13255022, 13255023, 13255024, 13255025, 13255026, 13255027, 13255028, 13255029, 13255030, 13255031, 13255032, 13255033, 13255034, 13255035, 13255036, 13255037, 13255038, 13255039, 13255040, 13255041, 13255042, 13255043, 13255044, 13255045, 13255046, 13255047, 13255048, 13255049, 13255050, 13255051, 13255052, 13255053, 13255054, 13255055, 13255056, 13255057, 13255058, 13255059, 13255060, 13255061, 13255062, 13255063, 13255064, 13255065, 13255066, 13255067, 13255068, 13255069, 13255070, 13255071, 13255072, 13255073, 13255074, 13255075, 13255076, 13255077, 13255078, 13255079, 13255080, 13255081, 13255082, 13255083, 13255084, 13255085, 13255086, 13255087, 13255088, 13255089, 13255090, 13255091, 13255092, 13255093, 13255094, 13255095, 13255096, 13255097, 13255098, 13255099, 13255100, 13255101, 13255102, 13255103, 13255104, 13255105, 13255106, 13255107, 13255108, 13255109, 13255110, 13255111, 13255112, 13255113, 13255114, 13255115, 13255116, 13255117, 13255118, 13255119, 13255120, 13255121, 13255122, 13255123, 13255124, 13255125, 13255126, 13255127, 13255128, 13255129, 13255130, 13255131, 13255132, 13255133, 13255134, 13255135, 13255136, 13255137, 13255138, 13255139, 13255140, 13255141, 13255142, 13255143, 13255144, 13255145, 13255146, 13255147, 13255148, 13255149, 13255150, 13255151, 13255152, 13255153, 13255154, 13255155, 13255156, 13255157, 13255158, 13255159, 13255160, 13255161, 13255162, 13255163, 13255164, 13255165, 13255166, 13255167, 13255168, 13255169, 13255170, 13255171, 13255172, 13255173, 13255174, 13255175, 13255176, 13255177, 13255178, 13255179, 13255180, 13255181, 13255182, 13255183, 13255184, 13255185, 13255186, 13255187, 13255188, 13255189, 13255190, 13255191, 13255192, 13255193, 13255194, 13255195, 13255196, 13255197, 13255198, 13255199, 13255200, 13255201, 13255202, 13255203, 13255204, 13255205, 13255206, 13255207, 13255208, 13255209]\n"
     ]
    }
   ],
   "source": [
    "%autoreload\n",
    "expt_name = '2022-11-23_test'\n",
    "\n",
    "jobs = ps.submit(template, name, param_space, work_dir=expt_name, verbose=True)\n",
    "jobs.to_csv(f'{expt_name}.jobs')\n",
    "\n",
    "#jobs = pd.read_csv(f'{expt_name}.jobs')"
   ]
  },
  {
   "cell_type": "code",
   "execution_count": 8,
   "metadata": {
    "scrolled": false
   },
   "outputs": [
    {
     "data": {
      "text/html": [
       "<div>\n",
       "<style scoped>\n",
       "    .dataframe tbody tr th:only-of-type {\n",
       "        vertical-align: middle;\n",
       "    }\n",
       "\n",
       "    .dataframe tbody tr th {\n",
       "        vertical-align: top;\n",
       "    }\n",
       "\n",
       "    .dataframe thead th {\n",
       "        text-align: right;\n",
       "    }\n",
       "</style>\n",
       "<table border=\"1\" class=\"dataframe\">\n",
       "  <thead>\n",
       "    <tr style=\"text-align: right;\">\n",
       "      <th></th>\n",
       "      <th>job_name</th>\n",
       "      <th>job_state</th>\n",
       "      <th>node_id</th>\n",
       "      <th>runtime</th>\n",
       "      <th>stdout</th>\n",
       "      <th>stderr</th>\n",
       "    </tr>\n",
       "    <tr>\n",
       "      <th>job_id</th>\n",
       "      <th></th>\n",
       "      <th></th>\n",
       "      <th></th>\n",
       "      <th></th>\n",
       "      <th></th>\n",
       "      <th></th>\n",
       "    </tr>\n",
       "  </thead>\n",
       "  <tbody>\n",
       "    <tr>\n",
       "      <th>13254679</th>\n",
       "      <td>train_fem_box_50_helmholtz</td>\n",
       "      <td>PENDING</td>\n",
       "      <td>(Priority)</td>\n",
       "      <td>0:00</td>\n",
       "      <td>NaN</td>\n",
       "      <td>NaN</td>\n",
       "    </tr>\n",
       "    <tr>\n",
       "      <th>13254680</th>\n",
       "      <td>train_fem_box_50_hetero</td>\n",
       "      <td>PENDING</td>\n",
       "      <td>(Priority)</td>\n",
       "      <td>0:00</td>\n",
       "      <td>NaN</td>\n",
       "      <td>NaN</td>\n",
       "    </tr>\n",
       "  </tbody>\n",
       "</table>\n",
       "</div>"
      ],
      "text/plain": [
       "                            job_name job_state     node_id runtime  stdout  \\\n",
       "job_id                                                                       \n",
       "13254679  train_fem_box_50_helmholtz   PENDING  (Priority)    0:00     NaN   \n",
       "13254680     train_fem_box_50_hetero   PENDING  (Priority)    0:00     NaN   \n",
       "\n",
       "          stderr  \n",
       "job_id            \n",
       "13254679     NaN  \n",
       "13254680     NaN  "
      ]
     },
     "execution_count": 8,
     "metadata": {},
     "output_type": "execute_result"
    }
   ],
   "source": [
    "status_cols = ['job_name', 'job_state', 'node_id', 'runtime', 'stdout', 'stderr']\n",
    "ps.status(jobs)[status_cols]"
   ]
  },
  {
   "cell_type": "code",
   "execution_count": null,
   "metadata": {},
   "outputs": [],
   "source": [
    "metrics = ps.metrics(jobs)\n",
    "\n",
    "# did all models train to 25k iterations?\n",
    "assert (metrics.groupby('job_name')['iteration'].max() == 25e3).all()\n",
    "\n",
    "# get the final test evaluations\n",
    "metrics = metrics[metrics.iteration == 25e3]\n",
    "\n",
    "param_cols = ['pde_name', 'omega0', 'activ_fn', 'pde_distrib'] # experimental parameters\n",
    "index_cols = ['variable_name', 'spatial_frequency_bin', 'spatial_region'] # metric identifiers\n",
    "metric_cols = ['mean_squared_abs_value', 'power_density', 'mean_abs_value'] # metric values\n",
    "\n",
    "metrics = metrics.groupby(param_cols + index_cols, sort=False)[metric_cols].mean().unstack(level=[4])\n",
    "\n",
    "def metric_map(t):\n",
    "    metric_name, var_name = t\n",
    "    metric_name = {\n",
    "        'mean_squared_abs_value': 'MSAV',\n",
    "        'mean_abs_value': 'MAV',\n",
    "        'power_density': 'SPD'\n",
    "    }[metric_name]\n",
    "    new_col_name = f'{var_name}_{metric_name}'\n",
    "    new_col_name = new_col_name.replace('diff_MSAV', 'pred_MSAE')\n",
    "    new_col_name = new_col_name.replace('f_sum_MSAV', 'PDE_MSAE')\n",
    "    new_col_name = new_col_name.replace('diff_MAV', 'pred_MAD')\n",
    "    return new_col_name\n",
    "\n",
    "metrics.columns = [metric_map(t) for t in metrics.columns.to_flat_index()]\n",
    "metrics"
   ]
  },
  {
   "cell_type": "code",
   "execution_count": null,
   "metadata": {},
   "outputs": [],
   "source": [
    "fig = ps.plot(\n",
    "    metrics.reset_index(),\n",
    "    x=param_cols,\n",
    "    y=['u_pred_MSAE'],\n",
    "    height=3,\n",
    "    width=2.25,\n",
    "    legend=False,\n",
    "    tight=True\n",
    ")"
   ]
  },
  {
   "cell_type": "markdown",
   "metadata": {},
   "source": [
    "Pretty much all models fit the wave field to a very low error."
   ]
  },
  {
   "cell_type": "code",
   "execution_count": null,
   "metadata": {},
   "outputs": [],
   "source": [
    "fig = ps.plot(\n",
    "    metrics.reset_index(),\n",
    "    x=param_cols,\n",
    "    y=['PDE_MSAE'],\n",
    "    height=3,\n",
    "    width=2.5,\n",
    "    legend=False,\n",
    "    tight=True\n",
    ")"
   ]
  },
  {
   "cell_type": "markdown",
   "metadata": {},
   "source": [
    "There is much more variance in minimizing the PDE residual, and no clear trends jump out at first."
   ]
  },
  {
   "cell_type": "code",
   "execution_count": null,
   "metadata": {},
   "outputs": [],
   "source": [
    "fig = ps.plot(\n",
    "    metrics.reset_index(),\n",
    "    x=param_cols,\n",
    "    y=['PDE_MSAE'],\n",
    "    hue='pde_name',\n",
    "    height=4, width=2.5,\n",
    "    tight=True\n",
    ")"
   ]
  },
  {
   "cell_type": "markdown",
   "metadata": {},
   "source": [
    "Overall it seems that the Helmholtz PDE residual was easier to minimize than the heterogeneous PDE. There also appears to be a trend where the residuals are lower (for both PDEs) when omega0 is higher."
   ]
  },
  {
   "cell_type": "code",
   "execution_count": null,
   "metadata": {},
   "outputs": [],
   "source": [
    "fig = ps.plot(\n",
    "    metrics.reset_index(),\n",
    "    x=param_cols,\n",
    "    y=['mu_pred_MAD'],\n",
    "    height=8, width=3,\n",
    "    tight=True\n",
    ")"
   ]
  },
  {
   "cell_type": "markdown",
   "metadata": {},
   "source": [
    "Here we are looking at the median absolute deviation of the predict stiffness in each of the regions. There is a very clear signal in the PDE name plot: Using the heterogeneous PDE results in lower error in the predicted stiffness per region, compared to the Helmholtz PDE. There may be a trend in the omeg0 and activ_fn plots as well, but it's less clear."
   ]
  },
  {
   "cell_type": "code",
   "execution_count": null,
   "metadata": {},
   "outputs": [],
   "source": [
    "fig = ps.plot(\n",
    "    metrics.reset_index(),\n",
    "    x=param_cols,\n",
    "    y=['mu_pred_MAD'],\n",
    "    hue='pde_name',\n",
    "    height=4, width=3,\n",
    "    tight=True\n",
    ")\n",
    "fig.savefig('1d_experiment_mu_pred_MAD.png', dpi=300, bbox_inches='tight')"
   ]
  },
  {
   "cell_type": "markdown",
   "metadata": {},
   "source": [
    "This plot emphasizes a clear and statistically significant signal from using the heterogeneous PDE instead of the Helmholtz PDE, resulting in more accurate predicted stiffness."
   ]
  },
  {
   "cell_type": "code",
   "execution_count": null,
   "metadata": {},
   "outputs": [],
   "source": [
    "m = metrics.reset_index()\n",
    "m['Mean % mu error (by region)'] = m['mu_pred_MAD'] / m['mu_true_MAV'] * 100\n",
    "\n",
    "fig = ps.plot(\n",
    "    m,\n",
    "    x=param_cols,\n",
    "    y=['Mean % mu error (by region)'],\n",
    "    hue='pde_name',\n",
    "    height=4, width=3,\n",
    "    tight=True\n",
    ")\n",
    "fig.savefig('1d_experiment_mu_pred_MAD_relative.png', dpi=300, bbox_inches='tight')"
   ]
  },
  {
   "cell_type": "code",
   "execution_count": null,
   "metadata": {},
   "outputs": [],
   "source": [
    "agg = metrics.reset_index().groupby(param_cols).mean()"
   ]
  },
  {
   "cell_type": "code",
   "execution_count": null,
   "metadata": {},
   "outputs": [],
   "source": [
    "import matplotlib.pyplot as plt\n",
    "import seaborn as sns\n",
    "\n",
    "fig = sns.lmplot(data=agg.reset_index(), x='PDE_MSAE', y='mu_pred_MAD', hue='pde_name')\n",
    "fig.savefig('1d_experiment_mu_pred_MAD_corr.png', dpi=200, bbox_inches='tight')"
   ]
  },
  {
   "cell_type": "markdown",
   "metadata": {},
   "source": [
    "Even though using the heterogeneous PDE instead of Helmholtz consistently improves reconstruction quality, there is not a clear correlation between the PDE residual and the reconstruction quality. If anything, the Helmholtz residual is more strongly correlated with mu error, even though mu error is higher in absolute terms."
   ]
  },
  {
   "cell_type": "code",
   "execution_count": null,
   "metadata": {},
   "outputs": [],
   "source": [
    "m = metrics.reset_index()\n",
    "\n",
    "fig = ps.plot(\n",
    "    m[m.pde_name == 'hetero'].copy(),\n",
    "    x=param_cols[1:],\n",
    "    y=['mu_pred_MAD'],\n",
    "    height=5.5, width=3,\n",
    "    tight=True\n",
    ")"
   ]
  },
  {
   "cell_type": "markdown",
   "metadata": {},
   "source": [
    "There does not seem to be a relationship with the PDE distribution. So even though I was correct that the Helmholtz PDE seems worse then heterogeneous, the reason why does not seem to be related to the domain sampling distribution."
   ]
  },
  {
   "cell_type": "code",
   "execution_count": null,
   "metadata": {},
   "outputs": [],
   "source": []
  }
 ],
 "metadata": {
  "kernelspec": {
   "display_name": "MRE-PINN",
   "language": "python",
   "name": "mre-pinn"
  },
  "language_info": {
   "codemirror_mode": {
    "name": "ipython",
    "version": 3
   },
   "file_extension": ".py",
   "mimetype": "text/x-python",
   "name": "python",
   "nbconvert_exporter": "python",
   "pygments_lexer": "ipython3",
   "version": "3.10.6"
  }
 },
 "nbformat": 4,
 "nbformat_minor": 4
}
