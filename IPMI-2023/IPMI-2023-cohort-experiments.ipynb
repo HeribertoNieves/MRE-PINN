{
 "cells": [
  {
   "cell_type": "code",
   "execution_count": 1,
   "metadata": {},
   "outputs": [
    {
     "name": "stdout",
     "output_type": "stream",
     "text": [
      "dv001.ib.bridges2.psc.edu\n",
      "/ocean/projects/asc170022p/mtragoza/mre-pinn/IPMI-2023\n"
     ]
    }
   ],
   "source": [
    "%matplotlib notebook\n",
    "%load_ext autoreload\n",
    "%autoreload 1\n",
    "!hostname\n",
    "!pwd"
   ]
  },
  {
   "cell_type": "code",
   "execution_count": 2,
   "metadata": {},
   "outputs": [
    {
     "name": "stderr",
     "output_type": "stream",
     "text": [
      "Using backend: pytorch\n",
      "\n"
     ]
    }
   ],
   "source": [
    "import sys, os\n",
    "import numpy as np\n",
    "import pandas as pd\n",
    "\n",
    "sys.path.append('..')\n",
    "%aimport mre_pinn\n",
    "\n",
    "sys.path.append('../../param_search')\n",
    "%aimport param_search\n",
    "ps = param_search"
   ]
  },
  {
   "cell_type": "markdown",
   "metadata": {},
   "source": [
    "# IPMI 2023 cohort experiment"
   ]
  },
  {
   "cell_type": "code",
   "execution_count": 3,
   "metadata": {},
   "outputs": [
    {
     "data": {
      "text/plain": [
       "'/ocean/projects/asc170022p/mtragoza/mre-pinn/IPMI-2023'"
      ]
     },
     "execution_count": 3,
     "metadata": {},
     "output_type": "execute_result"
    }
   ],
   "source": [
    "%pwd"
   ]
  },
  {
   "cell_type": "code",
   "execution_count": 25,
   "metadata": {},
   "outputs": [
    {
     "data": {
      "text/plain": [
       "96"
      ]
     },
     "execution_count": 25,
     "metadata": {},
     "output_type": "execute_result"
    }
   ],
   "source": [
    "# define the job template and name format\n",
    "\n",
    "template = '''\\\n",
    "#!/bin/bash\n",
    "#SBATCH --job-name={job_name}\n",
    "#SBATCH --account=asc170022p\n",
    "#SBATCH --partition=GPU-shared\n",
    "#SBATCH --gres=gpu:1\n",
    "#SBATCH --time=48:00:00\n",
    "#SBATCH -o %J.stdout\n",
    "#SBATCH -e %J.stderr\n",
    "#SBATCH --mail-type=all\n",
    "\n",
    "hostname\n",
    "pwd\n",
    "source activate MRE-PINN\n",
    "\n",
    "python ../../../train_pino.py \\\\\n",
    "    --xarray_dir {xarray_dir} \\\\\n",
    "    --frequency {frequency} \\\\\n",
    "    --pde_name {pde_name} \\\\\n",
    "    --pde_init_weight {pde_init_weight} \\\\\n",
    "    --pde_loss_weight {pde_loss_weight} \\\\\n",
    "    --pde_warmup_iters {pde_warmup_iters}000 \\\\\n",
    "    --pde_step_iters {pde_step_iters}000 \\\\\n",
    "    --learning_rate {learning_rate} \\\\\n",
    "    --conditional {conditional} \\\\\n",
    "    --parallel {parallel} \\\\\n",
    "    --save_prefix {job_name}    \n",
    "'''\n",
    "name = 'train_{data_name}_{conditional}_{parallel}_{pde_name}_{learning_rate:.0e}_{pde_warmup_iters}k_{pde_step_iters}k'\n",
    "\n",
    "# define the parameter space\n",
    "\n",
    "cohort_space = ps.ParamSpace(\n",
    "    data_name='cohort',\n",
    "    xarray_dir='../../../data/NAFLD/v3',\n",
    "    frequency=40,\n",
    "    pde_name=['helmholtz', 'hetero'],\n",
    "    pde_init_weight=1e-18,\n",
    "    pde_loss_weight=1e-16,\n",
    "    pde_warmup_iters=[10, 20],\n",
    "    pde_step_iters=[5, 10],\n",
    "    learning_rate=[1e-4, 5e-5, 2e-5, 1e-5],\n",
    ") * (\n",
    "    ps.ParamSpace(\n",
    "        conditional=[0, 1],\n",
    "        parallel=0\n",
    "    ) + ps.ParamSpace(\n",
    "        conditional=1,\n",
    "        parallel=1\n",
    "    )\n",
    ")\n",
    "\n",
    "param_space = cohort_space\n",
    "len(param_space)"
   ]
  },
  {
   "cell_type": "code",
   "execution_count": 26,
   "metadata": {},
   "outputs": [
    {
     "data": {
      "text/plain": [
       "'train_cohort_1_0_helmholtz_1e-05_10k_5k'"
      ]
     },
     "execution_count": 26,
     "metadata": {},
     "output_type": "execute_result"
    }
   ],
   "source": [
    "name.format(**param_space[10])"
   ]
  },
  {
   "cell_type": "code",
   "execution_count": 29,
   "metadata": {},
   "outputs": [
    {
     "name": "stdout",
     "output_type": "stream",
     "text": [
      "100%|██████████| 96/96 [00:00<00:00, 141.75it/s]\n",
      "[13341500, 13341501, 13341502, 13341503, 13341504, 13341505, 13341506, 13341507, 13341508, 13341509, 13341510, 13341511, 13341512, 13341513, 13341514, 13341515, 13341516, 13341517, 13341518, 13341519, 13341520, 13341521, 13341522, 13341523, 13341524, 13341525, 13341526, 13341527, 13341528, 13341529, 13341530, 13341531, 13341532, 13341533, 13341534, 13341535, 13341536, 13341537, 13341538, 13341539, 13341540, 13341541, 13341542, 13341543, 13341544, 13341545, 13341546, 13341547, 13341548, 13341549, 13341550, 13341551, 13341552, 13341553, 13341554, 13341555, 13341556, 13341557, 13341558, 13341559, 13341560, 13341561, 13341562, 13341563, 13341564, 13341565, 13341566, 13341567, 13341568, 13341569, 13341570, 13341571, 13341572, 13341573, 13341574, 13341575, 13341576, 13341577, 13341578, 13341579, 13341580, 13341581, 13341582, 13341583, 13341584, 13341585, 13341586, 13341587, 13341588, 13341589, 13341590, 13341591, 13341592, 13341593, 13341594, 13341595]\n"
     ]
    }
   ],
   "source": [
    "%autoreload\n",
    "expt_name = '2022-11-28_cohort_init'\n",
    "\n",
    "jobs = ps.submit(template, name, param_space, work_dir=expt_name, verbose=True)\n",
    "jobs.to_csv(f'{expt_name}.jobs')"
   ]
  },
  {
   "cell_type": "code",
   "execution_count": null,
   "metadata": {
    "scrolled": false
   },
   "outputs": [],
   "source": [
    "status_cols = ['job_name', 'job_state', 'node_id', 'runtime', 'stdout', 'stderr']\n",
    "status = ps.status(jobs)\n",
    "status[status_cols]"
   ]
  },
  {
   "cell_type": "code",
   "execution_count": null,
   "metadata": {
    "scrolled": false
   },
   "outputs": [],
   "source": [
    "errors = status[status.stderr != 'Using backend: pytorch\\n\\n']\n",
    "errors"
   ]
  },
  {
   "cell_type": "code",
   "execution_count": null,
   "metadata": {},
   "outputs": [],
   "source": [
    "metrics = ps.metrics(jobs)\n",
    "\n",
    "# did all models train to 100k iterations?\n",
    "#assert (metrics.groupby('job_name')['iteration'].max() == 100e3).all()\n",
    "\n",
    "# get the final test evaluations\n",
    "metrics = metrics[metrics.iteration == 100e3]\n",
    "\n",
    "param_cols = ['pde_name', 'example_id'] # experimental parameters\n",
    "index_cols = ['variable_name', 'spatial_frequency_bin', 'spatial_region'] # metric identifiers\n",
    "metric_cols = ['MSAV', 'PSD', 'MAV'] # metric values\n",
    "\n",
    "metrics = metrics.groupby(param_cols + index_cols, sort=False)[metric_cols].mean()\n",
    "metrics = metrics.unstack(level=[len(param_cols)])\n",
    "\n",
    "def metric_map(t):\n",
    "    metric_name, var_name = t\n",
    "    new_col_name = f'{var_name}_{metric_name}'\n",
    "    new_col_name = new_col_name.replace('diff_MSAV', 'pred_MSAE')\n",
    "    new_col_name = new_col_name.replace('pde_diff_MSAV', 'PDE_MSAE')\n",
    "    new_col_name = new_col_name.replace('diff_MAV', 'pred_MAD')\n",
    "    return new_col_name\n",
    "\n",
    "metrics.columns = [metric_map(t) for t in metrics.columns.to_flat_index()]\n",
    "metrics"
   ]
  },
  {
   "cell_type": "code",
   "execution_count": null,
   "metadata": {
    "scrolled": true
   },
   "outputs": [],
   "source": [
    "m = metrics.reset_index()\n",
    "\n",
    "#fig = ps.plot(\n",
    "#    m[m.spatial_region == 'all'],\n",
    "#    x=param_cols,\n",
    "#    y=['u_pred_MSAE', 'mu_pred_MSAE', 'direct_pred_MSAE', 'fem_pred_MSAE'],\n",
    "#    height=2.5,\n",
    "#    width=2.5,\n",
    "#    legend=False,\n",
    "#    tight=True\n",
    "#)"
   ]
  },
  {
   "cell_type": "code",
   "execution_count": null,
   "metadata": {},
   "outputs": [],
   "source": [
    "m.columns"
   ]
  },
  {
   "cell_type": "code",
   "execution_count": null,
   "metadata": {},
   "outputs": [],
   "source": [
    "m['method'] = 'PINN_' + m['pde_name']\n",
    "\n",
    "direct_m = m[m.pde_name == 'helmholtz'].copy()\n",
    "direct_m['method'] = 'direct_helmholtz'\n",
    "for col in m.columns:\n",
    "    if col.startswith('direct'):\n",
    "        direct_m[col.replace('direct', 'mu')] = m[col]\n",
    "        \n",
    "hh_fem_m = m[m.pde_name == 'helmholtz'].copy()\n",
    "hh_fem_m['method'] = 'FEM_helmholtz'\n",
    "for col in m.columns:\n",
    "    if col.startswith('fem'):\n",
    "        hh_fem_m[col.replace('fem', 'mu')] = m[col]\n",
    "\n",
    "ht_fem_m = m[m.pde_name == 'hetero'].copy()\n",
    "ht_fem_m['method'] = 'FEM_hetero'\n",
    "for col in m.columns:\n",
    "    if col.startswith('fem'):\n",
    "        ht_fem_m[col.replace('fem', 'mu')] = m[col]\n",
    "        \n",
    "mm = pd.concat([direct_m, hh_fem_m, ht_fem_m, m])"
   ]
  },
  {
   "cell_type": "code",
   "execution_count": null,
   "metadata": {},
   "outputs": [],
   "source": [
    "mm['mu_pred_MSAE_relative'] = mm['mu_pred_MSAE'] / mm['mu_true_MSAV']\n",
    "mm['mu_pred_MAD_relative'] = mm['mu_pred_MAD'] / mm['mu_true_MAV']"
   ]
  },
  {
   "cell_type": "code",
   "execution_count": null,
   "metadata": {},
   "outputs": [],
   "source": [
    "%autoreload\n",
    "import seaborn as sns\n",
    "import matplotlib.pyplot as plt\n",
    "\n",
    "colors = ps.results.get_color_palette(10, type='deep', min_val=0)\n",
    "blue, orange, green, red, purple, brown, pink, gray, yellow, cyan = colors\n",
    "\n",
    "colors = [blue, yellow, red, cyan, green]\n",
    "sns.set_palette(colors)\n",
    "colors = sns.color_palette()\n",
    "colors"
   ]
  },
  {
   "cell_type": "code",
   "execution_count": null,
   "metadata": {},
   "outputs": [],
   "source": [
    "fig = ps.plot(\n",
    "    mm[~mm.spatial_region.isin({'0.0', 'all'})],\n",
    "    x='method',\n",
    "    y='mu_pred_MAD_relative',\n",
    "    height=3,\n",
    "    width=7,\n",
    "    legend=True,\n",
    "    tight=True,\n",
    "    plot_func=ps.results.barplot\n",
    ")\n",
    "for i, patch in enumerate(fig.axes[0].patches):\n",
    "    plt.setp(patch, facecolor=colors[i])"
   ]
  },
  {
   "cell_type": "code",
   "execution_count": null,
   "metadata": {},
   "outputs": [],
   "source": [
    "fig = ps.plot(\n",
    "    mm[~mm.spatial_region.isin({'0.0', 'all'})],\n",
    "    x='spatial_region',\n",
    "    y='mu_pred_MAD_relative',\n",
    "    hue='method',\n",
    "    height=3,\n",
    "    width=7,\n",
    "    legend=True,\n",
    "    tight=True,\n",
    "    plot_func=ps.results.barplot\n",
    ")"
   ]
  },
  {
   "cell_type": "code",
   "execution_count": null,
   "metadata": {},
   "outputs": [],
   "source": [
    "fig = ps.plot(\n",
    "    mm[~mm.spatial_region.isin({'0.0', 'all'})],\n",
    "    x='example_id',\n",
    "    y='mu_pred_MAD_relative',\n",
    "    hue='method',\n",
    "    height=3,\n",
    "    width=90,\n",
    "    legend=True,\n",
    "    tight=True,\n",
    "    plot_func=ps.results.barplot\n",
    ")"
   ]
  },
  {
   "cell_type": "code",
   "execution_count": null,
   "metadata": {},
   "outputs": [],
   "source": [
    "fig = ps.plot(\n",
    "    mm[(mm.spatial_region == 'all') & (mm.spatial_frequency_bin == 'all')],\n",
    "    x='method',\n",
    "    y='mu_pred_MSAE_relative',\n",
    "    height=7,\n",
    "    width=7,\n",
    "    legend=True,\n",
    "    tight=True,\n",
    "    plot_func=ps.results.barplot\n",
    ")\n",
    "fig.axes[0].set_yscale('log')\n",
    "for i, patch in enumerate(fig.axes[0].patches):\n",
    "    plt.setp(patch, facecolor=colors[i])"
   ]
  },
  {
   "cell_type": "code",
   "execution_count": null,
   "metadata": {
    "scrolled": false
   },
   "outputs": [],
   "source": [
    "%autoreload\n",
    "import mre_pinn\n",
    "\n",
    "image_names = ['wave image', 'ground truth', 'direct_helmholtz', 'FEM_helmholtz', 'FEM_hetero', 'PINN_helmholtz', 'PINN_hetero']\n",
    "\n",
    "def plot_image_grid(example_ids):\n",
    "    n_rows = len(example_ids)\n",
    "    n_cols = len(image_names)\n",
    "    ax_width = 1.2\n",
    "    ax_height = ax_width\n",
    "\n",
    "    fig, axes, cbar_ax = mre_pinn.visual.subplot_grid(n_rows, n_cols, ax_height, ax_width, space=0, pad=(0.35,0.15,0.15,0.25))\n",
    "    for row_idx, example_id in enumerate(example_ids):\n",
    "        example = mre_pinn.data.MREExample.load_xarrays('../data/NAFLD/v3', example_id)\n",
    "        for col_idx, image_name in enumerate(image_names):\n",
    "            ax = axes[row_idx,col_idx]\n",
    "            #ax.text(0.1, 0.1, f'{row_idx}, {col_idx}')\n",
    "            if col_idx == 0:\n",
    "                ax.set_ylabel(example_id, fontsize='medium')\n",
    "            if row_idx == 0:\n",
    "                ax.set_title(image_name, fontsize='small')\n",
    "            ax.set_yticks([])\n",
    "            ax.set_xticks([])\n",
    "\n",
    "            if image_name == 'wave image':\n",
    "                array = example.wave[...,0]\n",
    "                color_kws = mre_pinn.visual.get_color_kws(array)\n",
    "                color_kws['vmin'] = -color_kws['vmax']\n",
    "                array = array.real * example.mre_mask.values[...,0]\n",
    "\n",
    "            elif image_name == 'ground truth':\n",
    "                array = example.mre[...,0]\n",
    "                color_kws = mre_pinn.visual.get_color_kws(array)\n",
    "                color_kws['vmin'] = -color_kws['vmax']\n",
    "                array = np.abs(array) * example.mre_mask.values[...,0]\n",
    "\n",
    "            elif image_name == 'direct_helmholtz':\n",
    "                nc_file = f'2022-11-26_patient_hetero2/train_patient_{example_id}_helmholtz/train_patient_{example_id}_helmholtz_direct.nc'\n",
    "                array = mre_pinn.data.dataset.load_xarray_file(nc_file).sel(variable='direct_pred')[...,0]\n",
    "                color_kws = mre_pinn.visual.get_color_kws(array)\n",
    "                color_kws['vmin'] = -color_kws['vmax']\n",
    "                array = np.abs(array)\n",
    "\n",
    "            elif image_name == 'FEM_helmholtz':\n",
    "                nc_file = f'2022-11-26_patient_hetero2/train_patient_{example_id}_helmholtz/train_patient_{example_id}_helmholtz_fem.nc'\n",
    "                array = mre_pinn.data.dataset.load_xarray_file(nc_file).sel(variable='fem_pred')[...,0]\n",
    "                color_kws = mre_pinn.visual.get_color_kws(array)\n",
    "                color_kws['vmin'] = -color_kws['vmax']\n",
    "                array = np.abs(array)\n",
    "\n",
    "            elif image_name == 'FEM_hetero':\n",
    "                nc_file = f'2022-11-23_patient_init/train_patient_{example_id}_hetero/train_patient_{example_id}_hetero_fem.nc'\n",
    "                array = mre_pinn.data.dataset.load_xarray_file(nc_file).sel(variable='fem_pred')[...,0]\n",
    "                color_kws = mre_pinn.visual.get_color_kws(array)\n",
    "                color_kws['vmin'] = -color_kws['vmax']\n",
    "                array = np.abs(array)\n",
    "\n",
    "            elif image_name == 'PINN_helmholtz':\n",
    "                nc_file = f'2022-11-26_patient_hetero2/train_patient_{example_id}_helmholtz/train_patient_{example_id}_helmholtz_elastogram.nc'\n",
    "                array = mre_pinn.data.dataset.load_xarray_file(nc_file).sel(variable='mu_pred')[...,0]\n",
    "                color_kws = mre_pinn.visual.get_color_kws(array)\n",
    "                color_kws['vmin'] = -color_kws['vmax']\n",
    "                array = np.abs(array)\n",
    "\n",
    "            elif image_name == 'PINN_hetero':\n",
    "                nc_file = f'2022-11-23_patient_init/train_patient_{example_id}_hetero/train_patient_{example_id}_hetero_elastogram.nc'\n",
    "                array = mre_pinn.data.dataset.load_xarray_file(nc_file).sel(variable='mu_pred')[...,0]\n",
    "                color_kws = mre_pinn.visual.get_color_kws(array)\n",
    "                color_kws['vmin'] = -color_kws['vmax']\n",
    "                array = np.abs(array)\n",
    "\n",
    "            mre_pinn.visual.imshow(ax, array, **color_kws)\n",
    "\n",
    "plot_image_grid(['0006', '0020', '0024', '0029'])\n",
    "plot_image_grid(['0043', '0047', '0126', '0135'])"
   ]
  },
  {
   "cell_type": "code",
   "execution_count": null,
   "metadata": {},
   "outputs": [],
   "source": []
  }
 ],
 "metadata": {
  "kernelspec": {
   "display_name": "MRE-PINN",
   "language": "python",
   "name": "mre-pinn"
  },
  "language_info": {
   "codemirror_mode": {
    "name": "ipython",
    "version": 3
   },
   "file_extension": ".py",
   "mimetype": "text/x-python",
   "name": "python",
   "nbconvert_exporter": "python",
   "pygments_lexer": "ipython3",
   "version": "3.10.6"
  }
 },
 "nbformat": 4,
 "nbformat_minor": 4
}
