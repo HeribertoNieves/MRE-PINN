{
 "cells": [
  {
   "cell_type": "code",
   "execution_count": 1,
   "metadata": {},
   "outputs": [
    {
     "name": "stdout",
     "output_type": "stream",
     "text": [
      "dv001.ib.bridges2.psc.edu\n",
      "/ocean/projects/asc170022p/mtragoza/mre-pinn/IPMI-2023\n"
     ]
    }
   ],
   "source": [
    "%matplotlib notebook\n",
    "%load_ext autoreload\n",
    "%autoreload 1\n",
    "!hostname\n",
    "!pwd"
   ]
  },
  {
   "cell_type": "code",
   "execution_count": 2,
   "metadata": {},
   "outputs": [
    {
     "name": "stderr",
     "output_type": "stream",
     "text": [
      "Using backend: pytorch\n",
      "\n"
     ]
    }
   ],
   "source": [
    "import sys, os\n",
    "import numpy as np\n",
    "import pandas as pd\n",
    "\n",
    "sys.path.append('..')\n",
    "%aimport mre_pinn\n",
    "\n",
    "sys.path.append('../../param_search')\n",
    "%aimport param_search\n",
    "ps = param_search"
   ]
  },
  {
   "cell_type": "markdown",
   "metadata": {},
   "source": [
    "# IPMI 2023 cohort experiment"
   ]
  },
  {
   "cell_type": "code",
   "execution_count": 3,
   "metadata": {},
   "outputs": [
    {
     "data": {
      "text/plain": [
       "'/ocean/projects/asc170022p/mtragoza/mre-pinn/IPMI-2023'"
      ]
     },
     "execution_count": 3,
     "metadata": {},
     "output_type": "execute_result"
    }
   ],
   "source": [
    "%pwd"
   ]
  },
  {
   "cell_type": "code",
   "execution_count": 41,
   "metadata": {},
   "outputs": [
    {
     "data": {
      "text/plain": [
       "96"
      ]
     },
     "execution_count": 41,
     "metadata": {},
     "output_type": "execute_result"
    }
   ],
   "source": [
    "# define the job template and name format\n",
    "\n",
    "template = '''\\\n",
    "#!/bin/bash\n",
    "#SBATCH --job-name={job_name}\n",
    "#SBATCH --account=asc170022p\n",
    "#SBATCH --partition=GPU-shared\n",
    "#SBATCH --gres=gpu:v100-32:1\n",
    "#SBATCH --time=48:00:00\n",
    "#SBATCH -o %J.stdout\n",
    "#SBATCH -e %J.stderr\n",
    "#SBATCH --mail-type=all\n",
    "\n",
    "hostname\n",
    "pwd\n",
    "source activate MRE-PINN\n",
    "\n",
    "python ../../../train_pino.py \\\\\n",
    "    --xarray_dir {xarray_dir} \\\\\n",
    "    --frequency {frequency} \\\\\n",
    "    --pde_name {pde_name} \\\\\n",
    "    --pde_init_weight {pde_init_weight} \\\\\n",
    "    --pde_loss_weight {pde_loss_weight} \\\\\n",
    "    --pde_warmup_iters {pde_warmup_iters}000 \\\\\n",
    "    --pde_step_iters {pde_step_iters}000 \\\\\n",
    "    --learning_rate {learning_rate} \\\\\n",
    "    --conditional {conditional} \\\\\n",
    "    --parallel {parallel} \\\\\n",
    "    --save_prefix {job_name}    \n",
    "'''\n",
    "name = 'train_{data_name}_{conditional}_{parallel}_{pde_name}_{learning_rate:.0e}_{pde_warmup_iters}k_{pde_step_iters}k'\n",
    "\n",
    "# define the parameter space\n",
    "\n",
    "cohort_space = ps.ParamSpace(\n",
    "    data_name='cohort',\n",
    "    xarray_dir='../../../data/NAFLD/v3',\n",
    "    frequency=40,\n",
    "    pde_name=['helmholtz', 'hetero'],\n",
    "    pde_init_weight=1e-18,\n",
    "    pde_loss_weight=1e-16,\n",
    "    pde_warmup_iters=[10, 20],\n",
    "    pde_step_iters=[5, 10],\n",
    "    learning_rate=[1e-4, 5e-5, 2e-5, 1e-5],\n",
    ") * (\n",
    "    ps.ParamSpace(\n",
    "        conditional=[0, 1],\n",
    "        parallel=0\n",
    "    ) + ps.ParamSpace(\n",
    "        conditional=1,\n",
    "        parallel=1\n",
    "    )\n",
    ")\n",
    "\n",
    "param_space = cohort_space\n",
    "len(param_space)"
   ]
  },
  {
   "cell_type": "code",
   "execution_count": 42,
   "metadata": {},
   "outputs": [
    {
     "data": {
      "text/plain": [
       "'train_cohort_0_0_helmholtz_1e-04_10k_5k'"
      ]
     },
     "execution_count": 42,
     "metadata": {},
     "output_type": "execute_result"
    }
   ],
   "source": [
    "name.format(**param_space[0])"
   ]
  },
  {
   "cell_type": "code",
   "execution_count": 43,
   "metadata": {},
   "outputs": [
    {
     "name": "stdout",
     "output_type": "stream",
     "text": [
      "100%|██████████| 96/96 [00:00<00:00, 141.49it/s]\n",
      "[13342305, 13342306, 13342307, 13342308, 13342309, 13342310, 13342311, 13342312, 13342313, 13342314, 13342315, 13342316, 13342317, 13342318, 13342319, 13342320, 13342321, 13342322, 13342323, 13342324, 13342325, 13342326, 13342327, 13342328, 13342329, 13342330, 13342331, 13342332, 13342333, 13342334, 13342335, 13342336, 13342337, 13342338, 13342339, 13342340, 13342341, 13342342, 13342343, 13342344, 13342345, 13342346, 13342347, 13342348, 13342349, 13342350, 13342351, 13342352, 13342353, 13342354, 13342355, 13342356, 13342357, 13342358, 13342359, 13342360, 13342361, 13342362, 13342363, 13342364, 13342365, 13342366, 13342367, 13342368, 13342369, 13342370, 13342371, 13342372, 13342373, 13342374, 13342375, 13342376, 13342377, 13342378, 13342379, 13342380, 13342381, 13342382, 13342383, 13342384, 13342385, 13342386, 13342387, 13342388, 13342389, 13342390, 13342391, 13342392, 13342393, 13342394, 13342395, 13342396, 13342397, 13342398, 13342399, 13342400]\n"
     ]
    }
   ],
   "source": [
    "%autoreload\n",
    "expt_name = '2022-11-28_cohort_init'\n",
    "\n",
    "#jobs = ps.submit(template, name, param_space, work_dir=expt_name, verbose=True)\n",
    "#jobs.to_csv(f'{expt_name}.jobs')"
   ]
  },
  {
   "cell_type": "code",
   "execution_count": 49,
   "metadata": {
    "scrolled": false
   },
   "outputs": [
    {
     "data": {
      "text/html": [
       "<div>\n",
       "<style scoped>\n",
       "    .dataframe tbody tr th:only-of-type {\n",
       "        vertical-align: middle;\n",
       "    }\n",
       "\n",
       "    .dataframe tbody tr th {\n",
       "        vertical-align: top;\n",
       "    }\n",
       "\n",
       "    .dataframe thead th {\n",
       "        text-align: right;\n",
       "    }\n",
       "</style>\n",
       "<table border=\"1\" class=\"dataframe\">\n",
       "  <thead>\n",
       "    <tr style=\"text-align: right;\">\n",
       "      <th></th>\n",
       "      <th>job_name</th>\n",
       "      <th>job_state</th>\n",
       "      <th>node_id</th>\n",
       "      <th>runtime</th>\n",
       "      <th>stdout</th>\n",
       "      <th>stderr</th>\n",
       "    </tr>\n",
       "    <tr>\n",
       "      <th>job_id</th>\n",
       "      <th></th>\n",
       "      <th></th>\n",
       "      <th></th>\n",
       "      <th></th>\n",
       "      <th></th>\n",
       "      <th></th>\n",
       "    </tr>\n",
       "  </thead>\n",
       "  <tbody>\n",
       "    <tr>\n",
       "      <th>13342305</th>\n",
       "      <td>train_cohort_0_0_helmholtz_1e-04_10k_5k</td>\n",
       "      <td>NaN</td>\n",
       "      <td>NaN</td>\n",
       "      <td>NaN</td>\n",
       "      <td>v011.ib.bridges2.psc.edu\\n/ocean/projects/asc1...</td>\n",
       "      <td>Using backend: pytorch\\n\\nWARNING:py.warnings:...</td>\n",
       "    </tr>\n",
       "    <tr>\n",
       "      <th>13342306</th>\n",
       "      <td>train_cohort_1_0_helmholtz_1e-04_10k_5k</td>\n",
       "      <td>RUNNING</td>\n",
       "      <td>v010</td>\n",
       "      <td>11:21:27</td>\n",
       "      <td>v010.ib.bridges2.psc.edu\\n/ocean/projects/asc1...</td>\n",
       "      <td>Using backend: pytorch\\n\\nWARNING:py.warnings:...</td>\n",
       "    </tr>\n",
       "    <tr>\n",
       "      <th>13342307</th>\n",
       "      <td>train_cohort_1_1_helmholtz_1e-04_10k_5k</td>\n",
       "      <td>RUNNING</td>\n",
       "      <td>v015</td>\n",
       "      <td>11:15:25</td>\n",
       "      <td>v015.ib.bridges2.psc.edu\\n/ocean/projects/asc1...</td>\n",
       "      <td>Using backend: pytorch\\n\\nWARNING:py.warnings:...</td>\n",
       "    </tr>\n",
       "    <tr>\n",
       "      <th>13342308</th>\n",
       "      <td>train_cohort_0_0_helmholtz_5e-05_10k_5k</td>\n",
       "      <td>RUNNING</td>\n",
       "      <td>v014</td>\n",
       "      <td>11:15:25</td>\n",
       "      <td>v014.ib.bridges2.psc.edu\\n/ocean/projects/asc1...</td>\n",
       "      <td>Using backend: pytorch\\n\\nWARNING:py.warnings:...</td>\n",
       "    </tr>\n",
       "    <tr>\n",
       "      <th>13342309</th>\n",
       "      <td>train_cohort_1_0_helmholtz_5e-05_10k_5k</td>\n",
       "      <td>RUNNING</td>\n",
       "      <td>v023</td>\n",
       "      <td>4:25:06</td>\n",
       "      <td>v023.ib.bridges2.psc.edu\\n/ocean/projects/asc1...</td>\n",
       "      <td>Using backend: pytorch\\n\\nWARNING:py.warnings:...</td>\n",
       "    </tr>\n",
       "    <tr>\n",
       "      <th>...</th>\n",
       "      <td>...</td>\n",
       "      <td>...</td>\n",
       "      <td>...</td>\n",
       "      <td>...</td>\n",
       "      <td>...</td>\n",
       "      <td>...</td>\n",
       "    </tr>\n",
       "    <tr>\n",
       "      <th>13342396</th>\n",
       "      <td>train_cohort_1_0_hetero_2e-05_20k_10k</td>\n",
       "      <td>PENDING</td>\n",
       "      <td>(Priority)</td>\n",
       "      <td>0:00</td>\n",
       "      <td>NaN</td>\n",
       "      <td>NaN</td>\n",
       "    </tr>\n",
       "    <tr>\n",
       "      <th>13342397</th>\n",
       "      <td>train_cohort_1_1_hetero_2e-05_20k_10k</td>\n",
       "      <td>PENDING</td>\n",
       "      <td>(Priority)</td>\n",
       "      <td>0:00</td>\n",
       "      <td>NaN</td>\n",
       "      <td>NaN</td>\n",
       "    </tr>\n",
       "    <tr>\n",
       "      <th>13342398</th>\n",
       "      <td>train_cohort_0_0_hetero_1e-05_20k_10k</td>\n",
       "      <td>PENDING</td>\n",
       "      <td>(Priority)</td>\n",
       "      <td>0:00</td>\n",
       "      <td>NaN</td>\n",
       "      <td>NaN</td>\n",
       "    </tr>\n",
       "    <tr>\n",
       "      <th>13342399</th>\n",
       "      <td>train_cohort_1_0_hetero_1e-05_20k_10k</td>\n",
       "      <td>PENDING</td>\n",
       "      <td>(Priority)</td>\n",
       "      <td>0:00</td>\n",
       "      <td>NaN</td>\n",
       "      <td>NaN</td>\n",
       "    </tr>\n",
       "    <tr>\n",
       "      <th>13342400</th>\n",
       "      <td>train_cohort_1_1_hetero_1e-05_20k_10k</td>\n",
       "      <td>PENDING</td>\n",
       "      <td>(Priority)</td>\n",
       "      <td>0:00</td>\n",
       "      <td>NaN</td>\n",
       "      <td>NaN</td>\n",
       "    </tr>\n",
       "  </tbody>\n",
       "</table>\n",
       "<p>96 rows × 6 columns</p>\n",
       "</div>"
      ],
      "text/plain": [
       "                                         job_name job_state     node_id  \\\n",
       "job_id                                                                    \n",
       "13342305  train_cohort_0_0_helmholtz_1e-04_10k_5k       NaN         NaN   \n",
       "13342306  train_cohort_1_0_helmholtz_1e-04_10k_5k   RUNNING        v010   \n",
       "13342307  train_cohort_1_1_helmholtz_1e-04_10k_5k   RUNNING        v015   \n",
       "13342308  train_cohort_0_0_helmholtz_5e-05_10k_5k   RUNNING        v014   \n",
       "13342309  train_cohort_1_0_helmholtz_5e-05_10k_5k   RUNNING        v023   \n",
       "...                                           ...       ...         ...   \n",
       "13342396    train_cohort_1_0_hetero_2e-05_20k_10k   PENDING  (Priority)   \n",
       "13342397    train_cohort_1_1_hetero_2e-05_20k_10k   PENDING  (Priority)   \n",
       "13342398    train_cohort_0_0_hetero_1e-05_20k_10k   PENDING  (Priority)   \n",
       "13342399    train_cohort_1_0_hetero_1e-05_20k_10k   PENDING  (Priority)   \n",
       "13342400    train_cohort_1_1_hetero_1e-05_20k_10k   PENDING  (Priority)   \n",
       "\n",
       "           runtime                                             stdout  \\\n",
       "job_id                                                                  \n",
       "13342305       NaN  v011.ib.bridges2.psc.edu\\n/ocean/projects/asc1...   \n",
       "13342306  11:21:27  v010.ib.bridges2.psc.edu\\n/ocean/projects/asc1...   \n",
       "13342307  11:15:25  v015.ib.bridges2.psc.edu\\n/ocean/projects/asc1...   \n",
       "13342308  11:15:25  v014.ib.bridges2.psc.edu\\n/ocean/projects/asc1...   \n",
       "13342309   4:25:06  v023.ib.bridges2.psc.edu\\n/ocean/projects/asc1...   \n",
       "...            ...                                                ...   \n",
       "13342396      0:00                                                NaN   \n",
       "13342397      0:00                                                NaN   \n",
       "13342398      0:00                                                NaN   \n",
       "13342399      0:00                                                NaN   \n",
       "13342400      0:00                                                NaN   \n",
       "\n",
       "                                                     stderr  \n",
       "job_id                                                       \n",
       "13342305  Using backend: pytorch\\n\\nWARNING:py.warnings:...  \n",
       "13342306  Using backend: pytorch\\n\\nWARNING:py.warnings:...  \n",
       "13342307  Using backend: pytorch\\n\\nWARNING:py.warnings:...  \n",
       "13342308  Using backend: pytorch\\n\\nWARNING:py.warnings:...  \n",
       "13342309  Using backend: pytorch\\n\\nWARNING:py.warnings:...  \n",
       "...                                                     ...  \n",
       "13342396                                                NaN  \n",
       "13342397                                                NaN  \n",
       "13342398                                                NaN  \n",
       "13342399                                                NaN  \n",
       "13342400                                                NaN  \n",
       "\n",
       "[96 rows x 6 columns]"
      ]
     },
     "execution_count": 49,
     "metadata": {},
     "output_type": "execute_result"
    }
   ],
   "source": [
    "status_cols = ['job_name', 'job_state', 'node_id', 'runtime', 'stdout', 'stderr']\n",
    "status = ps.status(jobs)\n",
    "status[status_cols]"
   ]
  },
  {
   "cell_type": "code",
   "execution_count": 58,
   "metadata": {
    "scrolled": false
   },
   "outputs": [
    {
     "name": "stdout",
     "output_type": "stream",
     "text": [
      "/home/conda/feedstock_root/build_artifacts/pytorch-recipe_1664412099808/work/aten/src/ATen/native/cuda/IndexKernel.cu:91: operator(): block: [176,0,0], thread: [127,0,0] Assertion `index >= -sizes[i] && index < sizes[i] && \"index out of bounds\"` failed.\n",
      "Traceback (most recent call last):\n",
      "  File \"/ocean/projects/asc170022p/mtragoza/mre-pinn/IPMI-2023/2022-11-28_cohort_init/train_cohort_0_0_helmholtz_1e-04_10k_5k/../../../train_pino.py\", line 15, in <module>\n",
      "    def train(\n",
      "  File \"/ocean/projects/asc170022p/mtragoza/mre-pinn/mre_pinn/utils.py\", line 232, in main\n",
      "    func(**kwargs)\n",
      "  File \"/ocean/projects/asc170022p/mtragoza/mre-pinn/IPMI-2023/2022-11-28_cohort_init/train_cohort_0_0_helmholtz_1e-04_10k_5k/../../../train_pino.py\", line 106, in train\n",
      "    model.benchmark(100)\n",
      "  File \"/ocean/projects/asc170022p/mtragoza/mre-pinn/mre_pinn/training/pino_training.py\", line 212, in benchmark\n",
      "    inputs, targets, aux_vars = self.data.train_next_batch()\n",
      "  File \"/ocean/projects/asc170022p/mtragoza/mre-pinn/mre_pinn/training/pino_training.py\", line 179, in train_next_batch\n",
      "    return self.get_next_batch(\n",
      "  File \"/ocean/projects/asc170022p/mtragoza/mre-pinn/mre_pinn/training/pino_training.py\", line 163, in get_next_batch\n",
      "    input, target, aux = self.get_tensors(dataset, idx, augment, use_mask)\n",
      "  File \"/ocean/projects/asc170022p/mtragoza/mre-pinn/mre_pinn/training/pino_training.py\", line 129, in get_tensors\n",
      "    x, u, mu = x[mask], u[mask], mu[mask]\n",
      "RuntimeError: CUDA error: device-side assert triggered\n",
      "CUDA kernel errors might be asynchronously reported at some other API call,so the stacktrace below might be incorrect.\n",
      "For debugging consider passing CUDA_LAUNCH_BLOCKING=1.\n",
      "\n"
     ]
    }
   ],
   "source": [
    "print('\\n'.join(status.iloc[0].stderr.split('\\n')[-20:]))"
   ]
  },
  {
   "cell_type": "code",
   "execution_count": null,
   "metadata": {},
   "outputs": [],
   "source": [
    "metrics = ps.metrics(jobs)\n",
    "\n",
    "# did all models train to 100k iterations?\n",
    "#assert (metrics.groupby('job_name')['iteration'].max() == 100e3).all()\n",
    "\n",
    "# get the final test evaluations\n",
    "metrics = metrics[metrics.iteration == 100e3]\n",
    "\n",
    "param_cols = ['pde_name', 'example_id'] # experimental parameters\n",
    "index_cols = ['variable_name', 'spatial_frequency_bin', 'spatial_region'] # metric identifiers\n",
    "metric_cols = ['MSAV', 'PSD', 'MAV'] # metric values\n",
    "\n",
    "metrics = metrics.groupby(param_cols + index_cols, sort=False)[metric_cols].mean()\n",
    "metrics = metrics.unstack(level=[len(param_cols)])\n",
    "\n",
    "def metric_map(t):\n",
    "    metric_name, var_name = t\n",
    "    new_col_name = f'{var_name}_{metric_name}'\n",
    "    new_col_name = new_col_name.replace('diff_MSAV', 'pred_MSAE')\n",
    "    new_col_name = new_col_name.replace('pde_diff_MSAV', 'PDE_MSAE')\n",
    "    new_col_name = new_col_name.replace('diff_MAV', 'pred_MAD')\n",
    "    return new_col_name\n",
    "\n",
    "metrics.columns = [metric_map(t) for t in metrics.columns.to_flat_index()]\n",
    "metrics"
   ]
  },
  {
   "cell_type": "code",
   "execution_count": null,
   "metadata": {
    "scrolled": true
   },
   "outputs": [],
   "source": [
    "m = metrics.reset_index()\n",
    "\n",
    "#fig = ps.plot(\n",
    "#    m[m.spatial_region == 'all'],\n",
    "#    x=param_cols,\n",
    "#    y=['u_pred_MSAE', 'mu_pred_MSAE', 'direct_pred_MSAE', 'fem_pred_MSAE'],\n",
    "#    height=2.5,\n",
    "#    width=2.5,\n",
    "#    legend=False,\n",
    "#    tight=True\n",
    "#)"
   ]
  },
  {
   "cell_type": "code",
   "execution_count": null,
   "metadata": {},
   "outputs": [],
   "source": [
    "m.columns"
   ]
  },
  {
   "cell_type": "code",
   "execution_count": null,
   "metadata": {},
   "outputs": [],
   "source": [
    "m['method'] = 'PINN_' + m['pde_name']\n",
    "\n",
    "direct_m = m[m.pde_name == 'helmholtz'].copy()\n",
    "direct_m['method'] = 'direct_helmholtz'\n",
    "for col in m.columns:\n",
    "    if col.startswith('direct'):\n",
    "        direct_m[col.replace('direct', 'mu')] = m[col]\n",
    "        \n",
    "hh_fem_m = m[m.pde_name == 'helmholtz'].copy()\n",
    "hh_fem_m['method'] = 'FEM_helmholtz'\n",
    "for col in m.columns:\n",
    "    if col.startswith('fem'):\n",
    "        hh_fem_m[col.replace('fem', 'mu')] = m[col]\n",
    "\n",
    "ht_fem_m = m[m.pde_name == 'hetero'].copy()\n",
    "ht_fem_m['method'] = 'FEM_hetero'\n",
    "for col in m.columns:\n",
    "    if col.startswith('fem'):\n",
    "        ht_fem_m[col.replace('fem', 'mu')] = m[col]\n",
    "        \n",
    "mm = pd.concat([direct_m, hh_fem_m, ht_fem_m, m])"
   ]
  },
  {
   "cell_type": "code",
   "execution_count": null,
   "metadata": {},
   "outputs": [],
   "source": [
    "mm['mu_pred_MSAE_relative'] = mm['mu_pred_MSAE'] / mm['mu_true_MSAV']\n",
    "mm['mu_pred_MAD_relative'] = mm['mu_pred_MAD'] / mm['mu_true_MAV']"
   ]
  },
  {
   "cell_type": "code",
   "execution_count": null,
   "metadata": {},
   "outputs": [],
   "source": [
    "%autoreload\n",
    "import seaborn as sns\n",
    "import matplotlib.pyplot as plt\n",
    "\n",
    "colors = ps.results.get_color_palette(10, type='deep', min_val=0)\n",
    "blue, orange, green, red, purple, brown, pink, gray, yellow, cyan = colors\n",
    "\n",
    "colors = [blue, yellow, red, cyan, green]\n",
    "sns.set_palette(colors)\n",
    "colors = sns.color_palette()\n",
    "colors"
   ]
  },
  {
   "cell_type": "code",
   "execution_count": null,
   "metadata": {},
   "outputs": [],
   "source": [
    "fig = ps.plot(\n",
    "    mm[~mm.spatial_region.isin({'0.0', 'all'})],\n",
    "    x='method',\n",
    "    y='mu_pred_MAD_relative',\n",
    "    height=3,\n",
    "    width=7,\n",
    "    legend=True,\n",
    "    tight=True,\n",
    "    plot_func=ps.results.barplot\n",
    ")\n",
    "for i, patch in enumerate(fig.axes[0].patches):\n",
    "    plt.setp(patch, facecolor=colors[i])"
   ]
  },
  {
   "cell_type": "code",
   "execution_count": null,
   "metadata": {},
   "outputs": [],
   "source": [
    "fig = ps.plot(\n",
    "    mm[~mm.spatial_region.isin({'0.0', 'all'})],\n",
    "    x='spatial_region',\n",
    "    y='mu_pred_MAD_relative',\n",
    "    hue='method',\n",
    "    height=3,\n",
    "    width=7,\n",
    "    legend=True,\n",
    "    tight=True,\n",
    "    plot_func=ps.results.barplot\n",
    ")"
   ]
  },
  {
   "cell_type": "code",
   "execution_count": null,
   "metadata": {},
   "outputs": [],
   "source": [
    "fig = ps.plot(\n",
    "    mm[~mm.spatial_region.isin({'0.0', 'all'})],\n",
    "    x='example_id',\n",
    "    y='mu_pred_MAD_relative',\n",
    "    hue='method',\n",
    "    height=3,\n",
    "    width=90,\n",
    "    legend=True,\n",
    "    tight=True,\n",
    "    plot_func=ps.results.barplot\n",
    ")"
   ]
  },
  {
   "cell_type": "code",
   "execution_count": null,
   "metadata": {},
   "outputs": [],
   "source": [
    "fig = ps.plot(\n",
    "    mm[(mm.spatial_region == 'all') & (mm.spatial_frequency_bin == 'all')],\n",
    "    x='method',\n",
    "    y='mu_pred_MSAE_relative',\n",
    "    height=7,\n",
    "    width=7,\n",
    "    legend=True,\n",
    "    tight=True,\n",
    "    plot_func=ps.results.barplot\n",
    ")\n",
    "fig.axes[0].set_yscale('log')\n",
    "for i, patch in enumerate(fig.axes[0].patches):\n",
    "    plt.setp(patch, facecolor=colors[i])"
   ]
  },
  {
   "cell_type": "code",
   "execution_count": null,
   "metadata": {
    "scrolled": false
   },
   "outputs": [],
   "source": [
    "%autoreload\n",
    "import mre_pinn\n",
    "\n",
    "image_names = ['wave image', 'ground truth', 'direct_helmholtz', 'FEM_helmholtz', 'FEM_hetero', 'PINN_helmholtz', 'PINN_hetero']\n",
    "\n",
    "def plot_image_grid(example_ids):\n",
    "    n_rows = len(example_ids)\n",
    "    n_cols = len(image_names)\n",
    "    ax_width = 1.2\n",
    "    ax_height = ax_width\n",
    "\n",
    "    fig, axes, cbar_ax = mre_pinn.visual.subplot_grid(n_rows, n_cols, ax_height, ax_width, space=0, pad=(0.35,0.15,0.15,0.25))\n",
    "    for row_idx, example_id in enumerate(example_ids):\n",
    "        example = mre_pinn.data.MREExample.load_xarrays('../data/NAFLD/v3', example_id)\n",
    "        for col_idx, image_name in enumerate(image_names):\n",
    "            ax = axes[row_idx,col_idx]\n",
    "            #ax.text(0.1, 0.1, f'{row_idx}, {col_idx}')\n",
    "            if col_idx == 0:\n",
    "                ax.set_ylabel(example_id, fontsize='medium')\n",
    "            if row_idx == 0:\n",
    "                ax.set_title(image_name, fontsize='small')\n",
    "            ax.set_yticks([])\n",
    "            ax.set_xticks([])\n",
    "\n",
    "            if image_name == 'wave image':\n",
    "                array = example.wave[...,0]\n",
    "                color_kws = mre_pinn.visual.get_color_kws(array)\n",
    "                color_kws['vmin'] = -color_kws['vmax']\n",
    "                array = array.real * example.mre_mask.values[...,0]\n",
    "\n",
    "            elif image_name == 'ground truth':\n",
    "                array = example.mre[...,0]\n",
    "                color_kws = mre_pinn.visual.get_color_kws(array)\n",
    "                color_kws['vmin'] = -color_kws['vmax']\n",
    "                array = np.abs(array) * example.mre_mask.values[...,0]\n",
    "\n",
    "            elif image_name == 'direct_helmholtz':\n",
    "                nc_file = f'2022-11-26_patient_hetero2/train_patient_{example_id}_helmholtz/train_patient_{example_id}_helmholtz_direct.nc'\n",
    "                array = mre_pinn.data.dataset.load_xarray_file(nc_file).sel(variable='direct_pred')[...,0]\n",
    "                color_kws = mre_pinn.visual.get_color_kws(array)\n",
    "                color_kws['vmin'] = -color_kws['vmax']\n",
    "                array = np.abs(array)\n",
    "\n",
    "            elif image_name == 'FEM_helmholtz':\n",
    "                nc_file = f'2022-11-26_patient_hetero2/train_patient_{example_id}_helmholtz/train_patient_{example_id}_helmholtz_fem.nc'\n",
    "                array = mre_pinn.data.dataset.load_xarray_file(nc_file).sel(variable='fem_pred')[...,0]\n",
    "                color_kws = mre_pinn.visual.get_color_kws(array)\n",
    "                color_kws['vmin'] = -color_kws['vmax']\n",
    "                array = np.abs(array)\n",
    "\n",
    "            elif image_name == 'FEM_hetero':\n",
    "                nc_file = f'2022-11-23_patient_init/train_patient_{example_id}_hetero/train_patient_{example_id}_hetero_fem.nc'\n",
    "                array = mre_pinn.data.dataset.load_xarray_file(nc_file).sel(variable='fem_pred')[...,0]\n",
    "                color_kws = mre_pinn.visual.get_color_kws(array)\n",
    "                color_kws['vmin'] = -color_kws['vmax']\n",
    "                array = np.abs(array)\n",
    "\n",
    "            elif image_name == 'PINN_helmholtz':\n",
    "                nc_file = f'2022-11-26_patient_hetero2/train_patient_{example_id}_helmholtz/train_patient_{example_id}_helmholtz_elastogram.nc'\n",
    "                array = mre_pinn.data.dataset.load_xarray_file(nc_file).sel(variable='mu_pred')[...,0]\n",
    "                color_kws = mre_pinn.visual.get_color_kws(array)\n",
    "                color_kws['vmin'] = -color_kws['vmax']\n",
    "                array = np.abs(array)\n",
    "\n",
    "            elif image_name == 'PINN_hetero':\n",
    "                nc_file = f'2022-11-23_patient_init/train_patient_{example_id}_hetero/train_patient_{example_id}_hetero_elastogram.nc'\n",
    "                array = mre_pinn.data.dataset.load_xarray_file(nc_file).sel(variable='mu_pred')[...,0]\n",
    "                color_kws = mre_pinn.visual.get_color_kws(array)\n",
    "                color_kws['vmin'] = -color_kws['vmax']\n",
    "                array = np.abs(array)\n",
    "\n",
    "            mre_pinn.visual.imshow(ax, array, **color_kws)\n",
    "\n",
    "plot_image_grid(['0006', '0020', '0024', '0029'])\n",
    "plot_image_grid(['0043', '0047', '0126', '0135'])"
   ]
  },
  {
   "cell_type": "code",
   "execution_count": null,
   "metadata": {},
   "outputs": [],
   "source": []
  }
 ],
 "metadata": {
  "kernelspec": {
   "display_name": "MRE-PINN",
   "language": "python",
   "name": "mre-pinn"
  },
  "language_info": {
   "codemirror_mode": {
    "name": "ipython",
    "version": 3
   },
   "file_extension": ".py",
   "mimetype": "text/x-python",
   "name": "python",
   "nbconvert_exporter": "python",
   "pygments_lexer": "ipython3",
   "version": "3.10.6"
  }
 },
 "nbformat": 4,
 "nbformat_minor": 4
}
