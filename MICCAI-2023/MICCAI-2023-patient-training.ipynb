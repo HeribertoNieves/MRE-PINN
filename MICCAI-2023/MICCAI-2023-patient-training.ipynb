{
 "cells": [
  {
   "cell_type": "code",
   "execution_count": null,
   "metadata": {},
   "outputs": [],
   "source": [
    "%matplotlib notebook\n",
    "%load_ext autoreload\n",
    "%autoreload 1\n",
    "!hostname\n",
    "!pwd"
   ]
  },
  {
   "cell_type": "code",
   "execution_count": 2,
   "metadata": {},
   "outputs": [
    {
     "name": "stderr",
     "output_type": "stream",
     "text": [
      "Using backend: pytorch\n",
      "\n"
     ]
    },
    {
     "data": {
      "text/plain": [
       "True"
      ]
     },
     "execution_count": 2,
     "metadata": {},
     "output_type": "execute_result"
    }
   ],
   "source": [
    "import sys, os, pathlib\n",
    "import numpy as np\n",
    "import xarray as xr\n",
    "import torch\n",
    "import matplotlib.pyplot as plt\n",
    "import seaborn as sns\n",
    "\n",
    "os.environ['DDEBACKEND'] = 'pytorch'\n",
    "import deepxde\n",
    "\n",
    "sys.path.append('..')\n",
    "%aimport mre_pinn\n",
    "\n",
    "torch.cuda.is_available()"
   ]
  },
  {
   "cell_type": "code",
   "execution_count": null,
   "metadata": {
    "scrolled": true
   },
   "outputs": [],
   "source": [
    "%autoreload\n",
    "cohort = mre_pinn.data.ImagingCohort(['0006'])\n",
    "cohort.load_images()\n",
    "cohort.preprocess()\n",
    "dataset = cohort.to_dataset()\n",
    "dataset.save_xarrays('../data/NAFLD3')"
   ]
  },
  {
   "cell_type": "code",
   "execution_count": 3,
   "metadata": {},
   "outputs": [
    {
     "name": "stdout",
     "output_type": "stream",
     "text": [
      "Loading ../data/NAFLD/v3/0006/wave.nc\n",
      "Loading ../data/NAFLD/v3/0006/mre.nc\n",
      "Loading ../data/NAFLD/v3/0006/mre_mask.nc\n",
      "Loading ../data/NAFLD/v3/0006/anat.nc\n",
      "Loading ../data/NAFLD/v3/0006/anat_mask.nc\n"
     ]
    },
    {
     "name": "stderr",
     "output_type": "stream",
     "text": [
      "WARNING:py.warnings:/ocean/projects/asc170022p/mtragoza/mambaforge/envs/MRE-PINN/lib/python3.10/site-packages/xarray/core/dataarray.py:848: FutureWarning: elementwise comparison failed; returning scalar instead, but in the future will perform elementwise comparison\n",
      "  return key in self.data\n",
      "\n"
     ]
    },
    {
     "data": {
      "text/html": [
       "<div>\n",
       "<style scoped>\n",
       "    .dataframe tbody tr th:only-of-type {\n",
       "        vertical-align: middle;\n",
       "    }\n",
       "\n",
       "    .dataframe tbody tr th {\n",
       "        vertical-align: top;\n",
       "    }\n",
       "\n",
       "    .dataframe thead th {\n",
       "        text-align: right;\n",
       "    }\n",
       "</style>\n",
       "<table border=\"1\" class=\"dataframe\">\n",
       "  <thead>\n",
       "    <tr style=\"text-align: right;\">\n",
       "      <th></th>\n",
       "      <th></th>\n",
       "      <th>size</th>\n",
       "      <th>spacing</th>\n",
       "      <th>origin</th>\n",
       "      <th>limit</th>\n",
       "      <th>center</th>\n",
       "      <th>extent</th>\n",
       "    </tr>\n",
       "    <tr>\n",
       "      <th>variable</th>\n",
       "      <th>dimension</th>\n",
       "      <th></th>\n",
       "      <th></th>\n",
       "      <th></th>\n",
       "      <th></th>\n",
       "      <th></th>\n",
       "      <th></th>\n",
       "    </tr>\n",
       "  </thead>\n",
       "  <tbody>\n",
       "    <tr>\n",
       "      <th rowspan=\"3\" valign=\"top\">wave</th>\n",
       "      <th>x</th>\n",
       "      <td>256</td>\n",
       "      <td>0.002813</td>\n",
       "      <td>-0.413808</td>\n",
       "      <td>0.303405</td>\n",
       "      <td>-0.055202</td>\n",
       "      <td>0.720026</td>\n",
       "    </tr>\n",
       "    <tr>\n",
       "      <th>y</th>\n",
       "      <td>256</td>\n",
       "      <td>0.002813</td>\n",
       "      <td>-0.391718</td>\n",
       "      <td>0.325495</td>\n",
       "      <td>-0.033112</td>\n",
       "      <td>0.720026</td>\n",
       "    </tr>\n",
       "    <tr>\n",
       "      <th>z</th>\n",
       "      <td>4</td>\n",
       "      <td>0.022000</td>\n",
       "      <td>-0.002113</td>\n",
       "      <td>0.063887</td>\n",
       "      <td>0.030887</td>\n",
       "      <td>0.088000</td>\n",
       "    </tr>\n",
       "    <tr>\n",
       "      <th rowspan=\"3\" valign=\"top\">mre</th>\n",
       "      <th>x</th>\n",
       "      <td>256</td>\n",
       "      <td>0.002813</td>\n",
       "      <td>-0.413808</td>\n",
       "      <td>0.303405</td>\n",
       "      <td>-0.055202</td>\n",
       "      <td>0.720026</td>\n",
       "    </tr>\n",
       "    <tr>\n",
       "      <th>y</th>\n",
       "      <td>256</td>\n",
       "      <td>0.002813</td>\n",
       "      <td>-0.391718</td>\n",
       "      <td>0.325495</td>\n",
       "      <td>-0.033112</td>\n",
       "      <td>0.720026</td>\n",
       "    </tr>\n",
       "    <tr>\n",
       "      <th>z</th>\n",
       "      <td>4</td>\n",
       "      <td>0.022000</td>\n",
       "      <td>-0.002113</td>\n",
       "      <td>0.063887</td>\n",
       "      <td>0.030887</td>\n",
       "      <td>0.088000</td>\n",
       "    </tr>\n",
       "    <tr>\n",
       "      <th rowspan=\"3\" valign=\"top\">mre_mask</th>\n",
       "      <th>x</th>\n",
       "      <td>256</td>\n",
       "      <td>0.002813</td>\n",
       "      <td>-0.413808</td>\n",
       "      <td>0.303405</td>\n",
       "      <td>-0.055202</td>\n",
       "      <td>0.720026</td>\n",
       "    </tr>\n",
       "    <tr>\n",
       "      <th>y</th>\n",
       "      <td>256</td>\n",
       "      <td>0.002813</td>\n",
       "      <td>-0.391718</td>\n",
       "      <td>0.325495</td>\n",
       "      <td>-0.033112</td>\n",
       "      <td>0.720026</td>\n",
       "    </tr>\n",
       "    <tr>\n",
       "      <th>z</th>\n",
       "      <td>4</td>\n",
       "      <td>0.022000</td>\n",
       "      <td>-0.002113</td>\n",
       "      <td>0.063887</td>\n",
       "      <td>0.030887</td>\n",
       "      <td>0.088000</td>\n",
       "    </tr>\n",
       "    <tr>\n",
       "      <th rowspan=\"3\" valign=\"top\">anat</th>\n",
       "      <th>x</th>\n",
       "      <td>256</td>\n",
       "      <td>0.002812</td>\n",
       "      <td>-0.413783</td>\n",
       "      <td>0.303379</td>\n",
       "      <td>-0.055202</td>\n",
       "      <td>0.719974</td>\n",
       "    </tr>\n",
       "    <tr>\n",
       "      <th>y</th>\n",
       "      <td>256</td>\n",
       "      <td>0.002812</td>\n",
       "      <td>-0.391693</td>\n",
       "      <td>0.325470</td>\n",
       "      <td>-0.033112</td>\n",
       "      <td>0.719974</td>\n",
       "    </tr>\n",
       "    <tr>\n",
       "      <th>z</th>\n",
       "      <td>16</td>\n",
       "      <td>0.025300</td>\n",
       "      <td>-0.158863</td>\n",
       "      <td>0.220637</td>\n",
       "      <td>0.030887</td>\n",
       "      <td>0.404801</td>\n",
       "    </tr>\n",
       "  </tbody>\n",
       "</table>\n",
       "</div>"
      ],
      "text/plain": [
       "                    size   spacing    origin     limit    center    extent\n",
       "variable dimension                                                        \n",
       "wave     x           256  0.002813 -0.413808  0.303405 -0.055202  0.720026\n",
       "         y           256  0.002813 -0.391718  0.325495 -0.033112  0.720026\n",
       "         z             4  0.022000 -0.002113  0.063887  0.030887  0.088000\n",
       "mre      x           256  0.002813 -0.413808  0.303405 -0.055202  0.720026\n",
       "         y           256  0.002813 -0.391718  0.325495 -0.033112  0.720026\n",
       "         z             4  0.022000 -0.002113  0.063887  0.030887  0.088000\n",
       "mre_mask x           256  0.002813 -0.413808  0.303405 -0.055202  0.720026\n",
       "         y           256  0.002813 -0.391718  0.325495 -0.033112  0.720026\n",
       "         z             4  0.022000 -0.002113  0.063887  0.030887  0.088000\n",
       "anat     x           256  0.002812 -0.413783  0.303379 -0.055202  0.719974\n",
       "         y           256  0.002812 -0.391693  0.325470 -0.033112  0.719974\n",
       "         z            16  0.025300 -0.158863  0.220637  0.030887  0.404801"
      ]
     },
     "execution_count": 3,
     "metadata": {},
     "output_type": "execute_result"
    }
   ],
   "source": [
    "example = mre_pinn.data.MREExample.load_xarrays('../data/NAFLD/v3', '0006', anat=True)\n",
    "example.metadata"
   ]
  },
  {
   "cell_type": "code",
   "execution_count": 4,
   "metadata": {},
   "outputs": [
    {
     "data": {
      "text/html": [
       "<div>\n",
       "<style scoped>\n",
       "    .dataframe tbody tr th:only-of-type {\n",
       "        vertical-align: middle;\n",
       "    }\n",
       "\n",
       "    .dataframe tbody tr th {\n",
       "        vertical-align: top;\n",
       "    }\n",
       "\n",
       "    .dataframe thead th {\n",
       "        text-align: right;\n",
       "    }\n",
       "</style>\n",
       "<table border=\"1\" class=\"dataframe\">\n",
       "  <thead>\n",
       "    <tr style=\"text-align: right;\">\n",
       "      <th></th>\n",
       "      <th></th>\n",
       "      <th>dtype</th>\n",
       "      <th>count</th>\n",
       "      <th>mean</th>\n",
       "      <th>std</th>\n",
       "      <th>min</th>\n",
       "      <th>25%</th>\n",
       "      <th>50%</th>\n",
       "      <th>75%</th>\n",
       "      <th>max</th>\n",
       "    </tr>\n",
       "    <tr>\n",
       "      <th>variable</th>\n",
       "      <th>component</th>\n",
       "      <th></th>\n",
       "      <th></th>\n",
       "      <th></th>\n",
       "      <th></th>\n",
       "      <th></th>\n",
       "      <th></th>\n",
       "      <th></th>\n",
       "      <th></th>\n",
       "      <th></th>\n",
       "    </tr>\n",
       "  </thead>\n",
       "  <tbody>\n",
       "    <tr>\n",
       "      <th>wave</th>\n",
       "      <th>scalar</th>\n",
       "      <td>float64</td>\n",
       "      <td>262144.0</td>\n",
       "      <td>0.000139</td>\n",
       "      <td>0.023588</td>\n",
       "      <td>-0.099609</td>\n",
       "      <td>-0.004492</td>\n",
       "      <td>0.00000</td>\n",
       "      <td>0.004736</td>\n",
       "      <td>0.099609</td>\n",
       "    </tr>\n",
       "    <tr>\n",
       "      <th>mre</th>\n",
       "      <th>scalar</th>\n",
       "      <td>int16</td>\n",
       "      <td>262144.0</td>\n",
       "      <td>1505.871937</td>\n",
       "      <td>1335.735833</td>\n",
       "      <td>0.000000</td>\n",
       "      <td>0.000000</td>\n",
       "      <td>1340.00000</td>\n",
       "      <td>2212.000000</td>\n",
       "      <td>14078.000000</td>\n",
       "    </tr>\n",
       "    <tr>\n",
       "      <th>mre_mask</th>\n",
       "      <th>scalar</th>\n",
       "      <td>float32</td>\n",
       "      <td>262144.0</td>\n",
       "      <td>0.171467</td>\n",
       "      <td>0.376916</td>\n",
       "      <td>0.000000</td>\n",
       "      <td>0.000000</td>\n",
       "      <td>0.00000</td>\n",
       "      <td>0.000000</td>\n",
       "      <td>1.000000</td>\n",
       "    </tr>\n",
       "    <tr>\n",
       "      <th>anat</th>\n",
       "      <th>scalar</th>\n",
       "      <td>float32</td>\n",
       "      <td>5242880.0</td>\n",
       "      <td>153.163483</td>\n",
       "      <td>273.202576</td>\n",
       "      <td>-30.489124</td>\n",
       "      <td>0.015030</td>\n",
       "      <td>31.54632</td>\n",
       "      <td>206.595573</td>\n",
       "      <td>4559.377930</td>\n",
       "    </tr>\n",
       "  </tbody>\n",
       "</table>\n",
       "</div>"
      ],
      "text/plain": [
       "                      dtype      count         mean          std        min  \\\n",
       "variable component                                                            \n",
       "wave     scalar     float64   262144.0     0.000139     0.023588  -0.099609   \n",
       "mre      scalar       int16   262144.0  1505.871937  1335.735833   0.000000   \n",
       "mre_mask scalar     float32   262144.0     0.171467     0.376916   0.000000   \n",
       "anat     scalar     float32  5242880.0   153.163483   273.202576 -30.489124   \n",
       "\n",
       "                         25%         50%          75%           max  \n",
       "variable component                                                   \n",
       "wave     scalar    -0.004492     0.00000     0.004736      0.099609  \n",
       "mre      scalar     0.000000  1340.00000  2212.000000  14078.000000  \n",
       "mre_mask scalar     0.000000     0.00000     0.000000      1.000000  \n",
       "anat     scalar     0.015030    31.54632   206.595573   4559.377930  "
      ]
     },
     "execution_count": 4,
     "metadata": {},
     "output_type": "execute_result"
    }
   ],
   "source": [
    "example.describe()"
   ]
  },
  {
   "cell_type": "code",
   "execution_count": 5,
   "metadata": {},
   "outputs": [
    {
     "name": "stdout",
     "output_type": "stream",
     "text": [
      "Evaluating direct baseline\n",
      "Evaluating FEM baseline\n",
      "100%|██████████| 4/4 [26:27<00:00, 396.92s/it]\n"
     ]
    }
   ],
   "source": [
    "mre_pinn.baseline.eval_direct_baseline(example, frequency=40)\n",
    "mre_pinn.baseline.eval_fem_baseline(example, frequency=40, hetero=True)"
   ]
  },
  {
   "cell_type": "code",
   "execution_count": null,
   "metadata": {},
   "outputs": [],
   "source": [
    "%autoreload\n",
    "pde = mre_pinn.pde.WaveEquation.from_name('hetero', omega=40, detach=True)"
   ]
  },
  {
   "cell_type": "code",
   "execution_count": null,
   "metadata": {},
   "outputs": [],
   "source": [
    "%autoreload\n",
    "pinn = mre_pinn.model.MREPINN(\n",
    "    example,\n",
    "    omega=60,\n",
    "    n_layers=5,\n",
    "    n_hidden=128,\n",
    "    polar_input=True\n",
    ")\n",
    "pinn"
   ]
  },
  {
   "cell_type": "code",
   "execution_count": null,
   "metadata": {},
   "outputs": [],
   "source": [
    "%autoreload\n",
    "model = mre_pinn.training.MREPINNModel(\n",
    "    example, pinn, pde,\n",
    "    loss_weights=[1, 0, 1, 1e-16],\n",
    "    pde_warmup_iters=5000,\n",
    "    pde_step_iters=5000,\n",
    "    pde_init_weight=1e-18,\n",
    "    n_points=1024\n",
    ")\n",
    "model.compile(optimizer='adam', lr=1e-4, loss=mre_pinn.training.losses.msae_loss)"
   ]
  },
  {
   "cell_type": "code",
   "execution_count": null,
   "metadata": {},
   "outputs": [],
   "source": [
    "for t in model.data.get_raw_tensors(device='cpu', patch_size=1):\n",
    "    print(t.dtype, t.shape)"
   ]
  },
  {
   "cell_type": "code",
   "execution_count": null,
   "metadata": {
    "scrolled": false
   },
   "outputs": [],
   "source": [
    "torch.backends.cudnn.enabled = True\n",
    "torch.backends.cudnn.benchmark = False\n",
    "model.benchmark(100)"
   ]
  },
  {
   "cell_type": "code",
   "execution_count": null,
   "metadata": {
    "scrolled": false
   },
   "outputs": [],
   "source": [
    "test_eval = mre_pinn.testing.TestEvaluator(test_every=100, interact=True)\n",
    "test_eval.model = model\n",
    "test_eval.test()"
   ]
  },
  {
   "cell_type": "code",
   "execution_count": null,
   "metadata": {
    "scrolled": false
   },
   "outputs": [],
   "source": [
    "model.train(100000, callbacks=[test_eval])"
   ]
  },
  {
   "cell_type": "code",
   "execution_count": null,
   "metadata": {},
   "outputs": [],
   "source": []
  }
 ],
 "metadata": {
  "kernelspec": {
   "display_name": "MRE-PINN",
   "language": "python",
   "name": "mre-pinn"
  },
  "language_info": {
   "codemirror_mode": {
    "name": "ipython",
    "version": 3
   },
   "file_extension": ".py",
   "mimetype": "text/x-python",
   "name": "python",
   "nbconvert_exporter": "python",
   "pygments_lexer": "ipython3",
   "version": "3.10.6"
  }
 },
 "nbformat": 4,
 "nbformat_minor": 4
}
