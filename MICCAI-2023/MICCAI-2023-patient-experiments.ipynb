{
 "cells": [
  {
   "cell_type": "code",
   "execution_count": 4,
   "metadata": {},
   "outputs": [
    {
     "name": "stdout",
     "output_type": "stream",
     "text": [
      "The autoreload extension is already loaded. To reload it, use:\n",
      "  %reload_ext autoreload\n",
      "dv002.bridges2.psc.edu\n",
      "/ocean/projects/asc170022p/mtragoza/mre-pinn/MICCAI-2023\n"
     ]
    }
   ],
   "source": [
    "%matplotlib notebook\n",
    "%load_ext autoreload\n",
    "%autoreload 1\n",
    "!hostname\n",
    "!pwd"
   ]
  },
  {
   "cell_type": "code",
   "execution_count": 5,
   "metadata": {},
   "outputs": [],
   "source": [
    "import sys, os\n",
    "import numpy as np\n",
    "import pandas as pd\n",
    "\n",
    "sys.path.append('..')\n",
    "%aimport mre_pinn\n",
    "\n",
    "sys.path.append('../../param_search')\n",
    "%aimport param_search\n",
    "ps = param_search"
   ]
  },
  {
   "cell_type": "markdown",
   "metadata": {},
   "source": [
    "# MICCAI 2023 patient experiment"
   ]
  },
  {
   "cell_type": "code",
   "execution_count": 6,
   "metadata": {},
   "outputs": [
    {
     "data": {
      "text/plain": [
       "'/ocean/projects/asc170022p/mtragoza/mre-pinn/MICCAI-2023'"
      ]
     },
     "execution_count": 6,
     "metadata": {},
     "output_type": "execute_result"
    }
   ],
   "source": [
    "%pwd"
   ]
  },
  {
   "cell_type": "code",
   "execution_count": 7,
   "metadata": {},
   "outputs": [
    {
     "data": {
      "text/plain": [
       "620"
      ]
     },
     "execution_count": 7,
     "metadata": {},
     "output_type": "execute_result"
    }
   ],
   "source": [
    "# define the job template and name format\n",
    "\n",
    "template = '''\\\n",
    "#!/bin/bash\n",
    "#SBATCH --job-name={job_name}\n",
    "#SBATCH --account=bio170034p\n",
    "#SBATCH --partition=BatComputer\n",
    "#SBATCH --gres=gpu:1\n",
    "#SBATCH --time=48:00:00\n",
    "#SBATCH -o %J.stdout\n",
    "#SBATCH -e %J.stderr\n",
    "#SBATCH --mail-type=all\n",
    "\n",
    "hostname\n",
    "pwd\n",
    "source activate MRE-PINN\n",
    "\n",
    "python ../../../train.py \\\\\n",
    "    --xarray_dir {xarray_dir} \\\\\n",
    "    --example_id {example_id} \\\\\n",
    "    --frequency {frequency} \\\\\n",
    "    --omega {omega} \\\\\n",
    "    --polar_input {polar_input} \\\\\n",
    "    --pde_name {pde_name} \\\\\n",
    "    --pde_warmup_iters 10000 \\\\\n",
    "    --pde_step_iters 5000 \\\\\n",
    "    --pde_step_factor 10 \\\\\n",
    "    --pde_init_weight {pde_init_weight} \\\\\n",
    "    --pde_loss_weight {pde_loss_weight} \\\\\n",
    "    --a_loss_weight {a_loss_weight} \\\\\n",
    "    --anatomical {anatomical} \\\\\n",
    "    --save_prefix {job_name}    \n",
    "'''\n",
    "name = 'train_{data_name}_{example_id}_{omega}_{pde_name}_{a_loss_weight:.0e}'\n",
    "\n",
    "# define the parameter space\n",
    "\n",
    "param_space = ps.ParamSpace(\n",
    "    data_name='patient',\n",
    "    xarray_dir='../../../data/NAFLD/v3',\n",
    "    example_id=['0006', '0020', '0024', '0029', '0043', '0047', '0126', '0135', '0155', '0164', '0172', '0173', '0210', '0213', '0219', '0222', '0234', '0235', '0291', '0344', '0378', '0384', '0395', '0401', '0415', '0457', '0461', '0491', '0492', '0496', '0509', '0510', '0516', '0525', '0564', '0604', '0612', '0615', '0628', '0639', '0648', '0650', '0653', '0655', '0659', '0693', '0704', '0717', '0727', '0734', '0737', '0740', '0747', '0748', '0898', '0900', '0929', '0931', '0932', '0940', '0954', '0964', '0965', '0979', '0989', '0995', '1028', '1033', '1039', '1045', '1075', '1076', '1077', '1083', '1103', '1106', '1108', '1110', '1119', '1121', '1123', '1134', '1144', '1149', '1205', '1207', '1215', '1217', '1230', '1261', '1271', '1296', '1303', '1311', '1329', '1337', '1341', '1343', '1344', '1382', '1395', '1400', '1404', '1417', '1426', '1427', '1433', '1435', '1448', '1453', '1456', '1464', '1671', '1679', '1694', '1699', '1706', '1712', '1714', '1715', '1720', '1722', '1727', '1736', '1748', '1785', '1786', '1790', '1791', '1793', '1795', '1798', '1806', '1807', '1819', '1829', '1839', '1843', '1851', '1853', '1896', '1899', '1903', '1917', '1935', '1940', '1948', '1967', '1979', '1980', '2001', '2007', '2029', '2034', '2046'],\n",
    "    frequency=40,\n",
    "    omega=[30],\n",
    "    pde_name=['hetero'],\n",
    "    pde_init_weight=1e-18,\n",
    "    pde_loss_weight=1e-16,\n",
    "    a_loss_weight=[0, 1e-4, 1e-2, 1e0],\n",
    "    anatomical=True,\n",
    "    polar_input=1,\n",
    ")\n",
    "\n",
    "len(param_space)"
   ]
  },
  {
   "cell_type": "code",
   "execution_count": 8,
   "metadata": {},
   "outputs": [
    {
     "name": "stdout",
     "output_type": "stream",
     "text": [
      "100%|██████████| 2/2 [00:01<00:00,  1.11it/s]\n",
      "[14492284, 14492285]\n"
     ]
    }
   ],
   "source": [
    "%autoreload\n",
    "\n",
    "expt_name = '2022-2-16_patient_anat' # a_loss_weight\n",
    "\n",
    "jobs = ps.submit(template, name, list(param_space)[:2], work_dir=expt_name, verbose=True)\n",
    "jobs.to_csv(f'{expt_name}.jobs')\n",
    "\n",
    "#jobs = pd.read_csv(f'{expt_name}.jobs')"
   ]
  },
  {
   "cell_type": "code",
   "execution_count": 9,
   "metadata": {
    "scrolled": false
   },
   "outputs": [
    {
     "data": {
      "text/html": [
       "<div>\n",
       "<style scoped>\n",
       "    .dataframe tbody tr th:only-of-type {\n",
       "        vertical-align: middle;\n",
       "    }\n",
       "\n",
       "    .dataframe tbody tr th {\n",
       "        vertical-align: top;\n",
       "    }\n",
       "\n",
       "    .dataframe thead th {\n",
       "        text-align: right;\n",
       "    }\n",
       "</style>\n",
       "<table border=\"1\" class=\"dataframe\">\n",
       "  <thead>\n",
       "    <tr style=\"text-align: right;\">\n",
       "      <th></th>\n",
       "      <th>job_name</th>\n",
       "      <th>job_state</th>\n",
       "      <th>node_id</th>\n",
       "      <th>runtime</th>\n",
       "      <th>stdout</th>\n",
       "      <th>stderr</th>\n",
       "    </tr>\n",
       "    <tr>\n",
       "      <th>job_id</th>\n",
       "      <th></th>\n",
       "      <th></th>\n",
       "      <th></th>\n",
       "      <th></th>\n",
       "      <th></th>\n",
       "      <th></th>\n",
       "    </tr>\n",
       "  </thead>\n",
       "  <tbody>\n",
       "    <tr>\n",
       "      <th>14492284</th>\n",
       "      <td>train_patient_0006_30_hetero_0e+00</td>\n",
       "      <td>PENDING</td>\n",
       "      <td>(None)</td>\n",
       "      <td>0:00</td>\n",
       "      <td>NaN</td>\n",
       "      <td>NaN</td>\n",
       "    </tr>\n",
       "    <tr>\n",
       "      <th>14492285</th>\n",
       "      <td>train_patient_0006_30_hetero_1e-04</td>\n",
       "      <td>PENDING</td>\n",
       "      <td>(None)</td>\n",
       "      <td>0:00</td>\n",
       "      <td>NaN</td>\n",
       "      <td>NaN</td>\n",
       "    </tr>\n",
       "  </tbody>\n",
       "</table>\n",
       "</div>"
      ],
      "text/plain": [
       "                                    job_name job_state node_id runtime  \\\n",
       "job_id                                                                   \n",
       "14492284  train_patient_0006_30_hetero_0e+00   PENDING  (None)    0:00   \n",
       "14492285  train_patient_0006_30_hetero_1e-04   PENDING  (None)    0:00   \n",
       "\n",
       "          stdout  stderr  \n",
       "job_id                    \n",
       "14492284     NaN     NaN  \n",
       "14492285     NaN     NaN  "
      ]
     },
     "execution_count": 9,
     "metadata": {},
     "output_type": "execute_result"
    }
   ],
   "source": [
    "status_cols = ['job_name', 'job_state', 'node_id', 'runtime', 'stdout', 'stderr']\n",
    "status = ps.status(jobs)\n",
    "status[status_cols]"
   ]
  },
  {
   "cell_type": "code",
   "execution_count": null,
   "metadata": {
    "scrolled": false
   },
   "outputs": [],
   "source": [
    "errors = status[status.stderr != 'Using backend: pytorch\\n\\n']\n",
    "len(errors)"
   ]
  },
  {
   "cell_type": "code",
   "execution_count": null,
   "metadata": {},
   "outputs": [],
   "source": [
    "metrics = ps.metrics(jobs[jobs.pde_name != 'hetero2'])\n",
    "\n",
    "# did all models train to 100k iterations?\n",
    "#assert (metrics.groupby('job_name')['iteration'].max() == 100e3).all()\n",
    "\n",
    "# get the final test evaluations\n",
    "metrics = metrics[metrics.iteration == 100e3]\n",
    "\n",
    "param_cols = ['pde_name', 'example_id', 'omega'] # experimental parameters\n",
    "index_cols = ['variable_name', 'spatial_frequency_bin', 'spatial_region'] # metric identifiers\n",
    "metric_cols = ['MSAV', 'PSD', 'MAV', 'R'] # metric values\n",
    "\n",
    "metrics = metrics.groupby(param_cols + index_cols, sort=False)[metric_cols].mean()\n",
    "metrics = metrics.unstack(level=[len(param_cols)])\n",
    "\n",
    "def metric_map(t):\n",
    "    metric_name, var_name = t\n",
    "    new_col_name = f'{var_name}_{metric_name}'\n",
    "    new_col_name = new_col_name.replace('diff_MSAV', 'pred_MSAE')\n",
    "    new_col_name = new_col_name.replace('pde_diff_MSAV', 'PDE_MSAE')\n",
    "    new_col_name = new_col_name.replace('diff_MAV', 'pred_MAD')\n",
    "    return new_col_name\n",
    "\n",
    "metrics.columns = [metric_map(t) for t in metrics.columns.to_flat_index()]\n",
    "metrics"
   ]
  },
  {
   "cell_type": "code",
   "execution_count": null,
   "metadata": {
    "scrolled": true
   },
   "outputs": [],
   "source": [
    "m = metrics.reset_index()\n",
    "\n",
    "#fig = ps.plot(\n",
    "#    m[m.spatial_region == 'all'],\n",
    "#    x=param_cols,\n",
    "#    y=['u_pred_MSAE', 'mu_pred_MSAE', 'direct_pred_MSAE', 'fem_pred_MSAE'],\n",
    "#    height=2.5,\n",
    "#    width=2.5,\n",
    "#    legend=False,\n",
    "#    tight=True\n",
    "#)"
   ]
  },
  {
   "cell_type": "code",
   "execution_count": null,
   "metadata": {},
   "outputs": [],
   "source": [
    "m.columns"
   ]
  },
  {
   "cell_type": "code",
   "execution_count": null,
   "metadata": {},
   "outputs": [],
   "source": [
    "m['method'] = 'PINN_' + m['pde_name']\n",
    "\n",
    "direct_m = m[m.pde_name == 'helmholtz'].copy()\n",
    "direct_m['method'] = 'direct_helmholtz'\n",
    "for col in m.columns:\n",
    "    if col.startswith('direct'):\n",
    "        direct_m[col.replace('direct', 'mu')] = m[col]\n",
    "        \n",
    "hh_fem_m = m[m.pde_name == 'helmholtz'].copy()\n",
    "hh_fem_m['method'] = 'FEM_helmholtz'\n",
    "for col in m.columns:\n",
    "    if col.startswith('fem'):\n",
    "        hh_fem_m[col.replace('fem', 'mu')] = m[col]\n",
    "\n",
    "ht_fem_m = m[m.pde_name == 'hetero'].copy()\n",
    "ht_fem_m['method'] = 'FEM_hetero'\n",
    "for col in m.columns:\n",
    "    if col.startswith('fem'):\n",
    "        ht_fem_m[col.replace('fem', 'mu')] = m[col]\n",
    "        \n",
    "mm = pd.concat([direct_m, hh_fem_m, ht_fem_m, m])\n",
    "\n",
    "method_order = ['direct_helmholtz', 'FEM_helmholtz', 'FEM_hetero', 'PINN_helmholtz', 'PINN_hetero']\n",
    "mm['method_index'] = mm['method'].map(method_order.index)\n",
    "mm = mm.sort_values('method_index')"
   ]
  },
  {
   "cell_type": "code",
   "execution_count": null,
   "metadata": {},
   "outputs": [],
   "source": [
    "import matplotlib as mpl\n",
    "pct_format = mpl.ticker.PercentFormatter()\n",
    "\n",
    "mm['mu_pred_MSAE_relative'] = mm['mu_pred_MSAE'] / mm['mu_true_MSAV'] * 100\n",
    "mm['mu_pred_MAD_relative'] = mm['mu_pred_MAD'] / mm['mu_true_MAV'] * 100"
   ]
  },
  {
   "cell_type": "code",
   "execution_count": null,
   "metadata": {},
   "outputs": [],
   "source": [
    "%autoreload\n",
    "import seaborn as sns\n",
    "import matplotlib.pyplot as plt\n",
    "\n",
    "colors = ps.results.get_color_palette(10, type='deep', min_val=0)\n",
    "blue, orange, green, red, purple, brown, pink, gray, yellow, cyan = colors\n",
    "\n",
    "colors = [blue, yellow, red, cyan, green]\n",
    "#colors = [blue, yellow, cyan]\n",
    "sns.set_palette(colors)\n",
    "colors = sns.color_palette()\n",
    "colors"
   ]
  },
  {
   "cell_type": "code",
   "execution_count": null,
   "metadata": {},
   "outputs": [],
   "source": [
    "mm.spatial_region.unique()"
   ]
  },
  {
   "cell_type": "code",
   "execution_count": null,
   "metadata": {},
   "outputs": [],
   "source": [
    "fig = ps.plot(\n",
    "    mm[~mm.spatial_region.isin({'0.0', 'all'})],\n",
    "    x='method',\n",
    "    y='mu_pred_MAD_relative',\n",
    "    height=3,\n",
    "    width=7,\n",
    "    legend=True,\n",
    "    tight=True,\n",
    "    plot_func=ps.results.barplot\n",
    ")\n",
    "fig.axes[0].set_ylabel('$\\mu$ relative MAD (%)')\n",
    "fig.axes[0].set_ylim(0, 100)\n",
    "fig.axes[0].yaxis.set_major_formatter(pct_format)\n",
    "fig.tight_layout()\n",
    "\n",
    "for i, patch in enumerate(fig.axes[0].patches):\n",
    "    plt.setp(patch, facecolor=colors[i])   \n",
    "\n",
    "for ext in ['png', 'pdf']:\n",
    "    fig.savefig(f'images/patient_method_bar_plot.{ext}', bbox_inches='tight', dpi=200)"
   ]
  },
  {
   "cell_type": "code",
   "execution_count": null,
   "metadata": {},
   "outputs": [],
   "source": [
    "fig = ps.plot(\n",
    "    mm[(mm.spatial_region == 'all') & (mm.spatial_frequency_bin == 'all')].copy(), # across all omegas\n",
    "    x='method',\n",
    "    hue='method',\n",
    "    y='mu_pred_R',\n",
    "    height=3,\n",
    "    width=7,\n",
    "    legend=False,\n",
    "    tight=True,\n",
    "    plot_func=ps.results.barplot\n",
    ")\n",
    "fig.axes[0].set_ylabel('$\\mu$ correlation (R)')\n",
    "fig.axes[0].set_ylim([0, 1])\n",
    "\n",
    "for i, patch in enumerate(fig.axes[0].patches):\n",
    "    plt.setp(patch, facecolor=colors[i])\n",
    "\n",
    "for ext in ['png', 'pdf']:\n",
    "    fig.savefig(f'images/patient_method_R_bar_plot.{ext}', bbox_inches='tight', dpi=200)"
   ]
  },
  {
   "cell_type": "code",
   "execution_count": null,
   "metadata": {},
   "outputs": [],
   "source": [
    "fig = ps.plot(\n",
    "    mm[~mm.spatial_region.isin({'0', 'all'}) & mm.method.str.startswith('PINN')], \n",
    "    x='omega',\n",
    "    y='mu_pred_MAD_relative',\n",
    "    height=5,\n",
    "    width=6,\n",
    "    legend=True,\n",
    "    tight=True,\n",
    "    plot_func=ps.results.barplot\n",
    ")\n",
    "fig.axes[0].set_ylabel('$\\mu$ relative MAD (%)')\n",
    "fig.axes[0].yaxis.set_major_formatter(pct_format)\n",
    "fig.axes[0].set_ylim(0, 100)\n",
    "fig.tight_layout()\n",
    "\n",
    "fig.axes[0].set_xlabel('omega')\n",
    "\n",
    "for ext in ['png', 'pdf']:\n",
    "    fig.savefig(f'images/patient_omega_bar_plot.{ext}', bbox_inches='tight', dpi=200)"
   ]
  },
  {
   "cell_type": "code",
   "execution_count": null,
   "metadata": {},
   "outputs": [],
   "source": [
    "%autoreload\n",
    "\n",
    "blue, orange, green, red, purple, brown, pink, gray, yellow, cyan = sns.color_palette('tab10')\n",
    "\n",
    "mre_pinn.visual.COLORS.update(\n",
    "    red=red,\n",
    "    yellow=yellow,\n",
    "    green=green,\n",
    "    cyan=cyan,\n",
    "    blue=blue\n",
    ")"
   ]
  },
  {
   "cell_type": "code",
   "execution_count": null,
   "metadata": {},
   "outputs": [],
   "source": [
    "example.anat.sizes"
   ]
  },
  {
   "cell_type": "code",
   "execution_count": null,
   "metadata": {
    "scrolled": false
   },
   "outputs": [],
   "source": [
    "example = mre_pinn.data.MREExample.load_xarrays('../data/NAFLD/v3', '0006', anat=True)\n",
    "example.arrays['anat'] = example.anat.sel(z=0.018237183332, method='nearest')\n",
    "example.arrays['anat_mask'] = example.anat_mask.sel(z=0.018237183332, method='nearest')\n",
    "example.view('anat', ax_height=2, space=0.2)\n",
    "plt.gcf().tight_layout()\n",
    "plt.savefig('images/patient_anat.png', dpi=200, bbox_inches='tight')\n",
    "example.view('anat_mask', ax_height=2, space=0.2)\n",
    "plt.gcf().tight_layout()\n",
    "plt.savefig('images/patient_mask.png', dpi=200, bbox_inches='tight')\n",
    "example.view('wave', ax_height=2, space=0.2)\n",
    "plt.gcf().tight_layout()\n",
    "plt.savefig('images/patient_wave.png', dpi=200, bbox_inches='tight')\n",
    "example.view('mre', ax_height=2, space=0.2)\n",
    "plt.gcf().tight_layout()\n",
    "plt.savefig('images/patient_mre.png', dpi=200, bbox_inches='tight')"
   ]
  },
  {
   "cell_type": "code",
   "execution_count": null,
   "metadata": {},
   "outputs": [],
   "source": []
  },
  {
   "cell_type": "code",
   "execution_count": null,
   "metadata": {
    "scrolled": false
   },
   "outputs": [],
   "source": [
    "%autoreload\n",
    "import mre_pinn\n",
    "\n",
    "image_names = ['wave image', 'ground truth', 'direct_helmholtz', 'FEM_helmholtz', 'FEM_hetero', 'PINN_helmholtz', 'PINN_hetero']\n",
    "\n",
    "def plot_image_grid(example_ids):\n",
    "    n_rows = len(example_ids)\n",
    "    n_cols = len(image_names)\n",
    "    ax_width = 1.2\n",
    "    ax_height = ax_width\n",
    "\n",
    "    fig, axes, cbar_ax = mre_pinn.visual.subplot_grid(n_rows, n_cols, ax_height, ax_width, space=0, pad=(0.35,0.15,0.15,0.25))\n",
    "    for row_idx, example_id in enumerate(example_ids):\n",
    "        example = mre_pinn.data.MREExample.load_xarrays('../data/NAFLD/v3', example_id)\n",
    "        for col_idx, image_name in enumerate(image_names):\n",
    "            ax = axes[row_idx,col_idx]\n",
    "            #ax.text(0.1, 0.1, f'{row_idx}, {col_idx}')\n",
    "            if col_idx == 0:\n",
    "                ax.set_ylabel(example_id, fontsize='medium')\n",
    "            if row_idx == 0:\n",
    "                ax.set_title(image_name, fontsize='small')\n",
    "            ax.set_yticks([])\n",
    "            ax.set_xticks([])\n",
    "\n",
    "            if image_name == 'wave image':\n",
    "                array = example.wave[...,0]\n",
    "                color_kws = mre_pinn.visual.get_color_kws(array)\n",
    "                color_kws['vmin'] = -color_kws['vmax']\n",
    "                array = array.real * example.mre_mask.values[...,0]\n",
    "\n",
    "            elif image_name == 'ground truth':\n",
    "                array = example.mre[...,0]\n",
    "                color_kws = mre_pinn.visual.get_color_kws(array)\n",
    "                color_kws['vmin'] = -color_kws['vmax']\n",
    "                array = np.abs(array) * example.mre_mask.values[...,0]\n",
    "\n",
    "            elif image_name == 'direct_helmholtz':\n",
    "                nc_file = f'2022-11-26_patient_hetero2/train_patient_{example_id}_helmholtz/train_patient_{example_id}_helmholtz_direct.nc'\n",
    "                array = mre_pinn.data.dataset.load_xarray_file(nc_file).sel(variable='direct_pred')[...,0]\n",
    "                color_kws = mre_pinn.visual.get_color_kws(array)\n",
    "                color_kws['vmin'] = -color_kws['vmax']\n",
    "                array = np.abs(array)\n",
    "\n",
    "            elif image_name == 'FEM_helmholtz':\n",
    "                nc_file = f'2022-11-26_patient_hetero2/train_patient_{example_id}_helmholtz/train_patient_{example_id}_helmholtz_fem.nc'\n",
    "                array = mre_pinn.data.dataset.load_xarray_file(nc_file).sel(variable='fem_pred')[...,0]\n",
    "                color_kws = mre_pinn.visual.get_color_kws(array)\n",
    "                color_kws['vmin'] = -color_kws['vmax']\n",
    "                array = np.abs(array)\n",
    "\n",
    "            elif image_name == 'FEM_hetero':\n",
    "                nc_file = f'2022-11-23_patient_init/train_patient_{example_id}_hetero/train_patient_{example_id}_hetero_fem.nc'\n",
    "                array = mre_pinn.data.dataset.load_xarray_file(nc_file).sel(variable='fem_pred')[...,0]\n",
    "                color_kws = mre_pinn.visual.get_color_kws(array)\n",
    "                color_kws['vmin'] = -color_kws['vmax']\n",
    "                array = np.abs(array)\n",
    "\n",
    "            elif image_name == 'PINN_helmholtz':\n",
    "                nc_file = f'2022-11-26_patient_hetero2/train_patient_{example_id}_helmholtz/train_patient_{example_id}_helmholtz_elastogram.nc'\n",
    "                array = mre_pinn.data.dataset.load_xarray_file(nc_file).sel(variable='mu_pred')[...,0]\n",
    "                color_kws = mre_pinn.visual.get_color_kws(array)\n",
    "                color_kws['vmin'] = -color_kws['vmax']\n",
    "                array = np.abs(array)\n",
    "\n",
    "            elif image_name == 'PINN_hetero':\n",
    "                nc_file = f'2022-11-23_patient_init/train_patient_{example_id}_hetero/train_patient_{example_id}_hetero_elastogram.nc'\n",
    "                array = mre_pinn.data.dataset.load_xarray_file(nc_file).sel(variable='mu_pred')[...,0]\n",
    "                color_kws = mre_pinn.visual.get_color_kws(array)\n",
    "                color_kws['vmin'] = -color_kws['vmax']\n",
    "                array = np.abs(array)\n",
    "\n",
    "            mre_pinn.visual.imshow(ax, array[:-24,8:-16], **color_kws)\n",
    "    \n",
    "    return fig\n",
    "\n",
    "fig0 = plot_image_grid(['0006', '0020', '0024', '0029'])\n",
    "fig1 = plot_image_grid(['0043', '0047', '0126', '0135'])\n",
    "\n",
    "for ext in ['png', 'pdf']:\n",
    "    fig0.savefig(f'images/patient_example_grid0.{ext}', bbox_inches='tight', dpi=200)\n",
    "    fig1.savefig(f'images/patient_example_grid1.{ext}', bbox_inches='tight', dpi=200)"
   ]
  },
  {
   "cell_type": "code",
   "execution_count": null,
   "metadata": {},
   "outputs": [],
   "source": [
    "example = mre_pinn.data.MREExample.load_xarrays('../data/NAFLD/v3', '0006')\n",
    "example.view()"
   ]
  },
  {
   "cell_type": "code",
   "execution_count": null,
   "metadata": {
    "scrolled": false
   },
   "outputs": [],
   "source": [
    "import xarray as xr\n",
    "u = example.wave\n",
    "x = u.field.points(reshape=False)\n",
    "x = (x - x.mean(axis=(0,1,2), keepdims=True)) / (x.max(axis=(0,1,2), keepdims=True) - x.min(axis=(0,1,2), keepdims=True))\n",
    "x, y, z = x[...,0], x[...,1], x[...,2]\n",
    "r = np.sqrt(x**2 + y**2)\n",
    "sin = y / (r + 1e-3)\n",
    "cos = x / (r + 1e-3)\n",
    "x = np.stack([x, y, z, r, sin, cos], axis=-1)\n",
    "\n",
    "print(x.shape)\n",
    "x_dims = ['x', 'y', 'z', 'component']\n",
    "x_coords = {\n",
    "    'x': u.x,\n",
    "    'y': u.y,\n",
    "    'z': u.z,\n",
    "    'component': ['x', 'y', 'z', 'r', 'sin', 'cos']\n",
    "}\n",
    "x = xr.DataArray(x, coords=x_coords, dims=x_dims)\n",
    "x.name = 'position'\n",
    "mre_pinn.visual.XArrayViewer(x, ax_height=3)"
   ]
  },
  {
   "cell_type": "code",
   "execution_count": null,
   "metadata": {},
   "outputs": [],
   "source": [
    "example.wave.coords"
   ]
  },
  {
   "cell_type": "code",
   "execution_count": null,
   "metadata": {},
   "outputs": [],
   "source": []
  }
 ],
 "metadata": {
  "kernelspec": {
   "display_name": "MRE-PINN",
   "language": "python",
   "name": "mre-pinn"
  },
  "language_info": {
   "codemirror_mode": {
    "name": "ipython",
    "version": 3
   },
   "file_extension": ".py",
   "mimetype": "text/x-python",
   "name": "python",
   "nbconvert_exporter": "python",
   "pygments_lexer": "ipython3",
   "version": "3.10.6"
  }
 },
 "nbformat": 4,
 "nbformat_minor": 4
}
