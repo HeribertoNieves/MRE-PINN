{
 "cells": [
  {
   "cell_type": "code",
   "execution_count": 4,
   "metadata": {},
   "outputs": [
    {
     "name": "stdout",
     "output_type": "stream",
     "text": [
      "The autoreload extension is already loaded. To reload it, use:\n",
      "  %reload_ext autoreload\n",
      "dv002.bridges2.psc.edu\n",
      "/ocean/projects/asc170022p/mtragoza/mre-pinn/MICCAI-2023\n"
     ]
    }
   ],
   "source": [
    "%matplotlib notebook\n",
    "%load_ext autoreload\n",
    "%autoreload 1\n",
    "!hostname\n",
    "!pwd"
   ]
  },
  {
   "cell_type": "code",
   "execution_count": 5,
   "metadata": {},
   "outputs": [],
   "source": [
    "import sys, os\n",
    "import numpy as np\n",
    "import pandas as pd\n",
    "\n",
    "sys.path.append('..')\n",
    "%aimport mre_pinn\n",
    "\n",
    "sys.path.append('../../param_search')\n",
    "%aimport param_search\n",
    "ps = param_search"
   ]
  },
  {
   "cell_type": "markdown",
   "metadata": {},
   "source": [
    "# MICCAI 2023 patient experiment"
   ]
  },
  {
   "cell_type": "code",
   "execution_count": 6,
   "metadata": {},
   "outputs": [
    {
     "data": {
      "text/plain": [
       "'/ocean/projects/asc170022p/mtragoza/mre-pinn/MICCAI-2023'"
      ]
     },
     "execution_count": 6,
     "metadata": {},
     "output_type": "execute_result"
    }
   ],
   "source": [
    "%pwd"
   ]
  },
  {
   "cell_type": "code",
   "execution_count": 14,
   "metadata": {},
   "outputs": [
    {
     "data": {
      "text/plain": [
       "620"
      ]
     },
     "execution_count": 14,
     "metadata": {},
     "output_type": "execute_result"
    }
   ],
   "source": [
    "# define the job template and name format\n",
    "\n",
    "template = '''\\\n",
    "#!/bin/bash\n",
    "#SBATCH --job-name={job_name}\n",
    "#SBATCH --account=bio170034p\n",
    "#SBATCH --partition=BatComputer\n",
    "#SBATCH --gres=gpu:1\n",
    "#SBATCH --time=48:00:00\n",
    "#SBATCH -o %J.stdout\n",
    "#SBATCH -e %J.stderr\n",
    "#SBATCH --mail-type=all\n",
    "\n",
    "hostname\n",
    "pwd\n",
    "source activate MRE-PINN\n",
    "\n",
    "python ../../../train.py \\\\\n",
    "    --xarray_dir {xarray_dir} \\\\\n",
    "    --example_id {example_id} \\\\\n",
    "    --frequency {frequency} \\\\\n",
    "    --omega {omega} \\\\\n",
    "    --polar_input {polar_input} \\\\\n",
    "    --pde_name {pde_name} \\\\\n",
    "    --pde_warmup_iters 10000 \\\\\n",
    "    --pde_step_iters 5000 \\\\\n",
    "    --pde_step_factor 10 \\\\\n",
    "    --pde_init_weight {pde_init_weight} \\\\\n",
    "    --pde_loss_weight {pde_loss_weight} \\\\\n",
    "    --a_loss_weight {a_loss_weight} \\\\\n",
    "    --anatomical {anatomical} \\\\\n",
    "    --save_prefix {job_name}    \n",
    "'''\n",
    "name = 'train_{data_name}_{example_id}_{omega}_{pde_name}_{a_loss_weight:.0e}'\n",
    "\n",
    "# define the parameter space\n",
    "\n",
    "param_space = ps.ParamSpace(\n",
    "    data_name='patient',\n",
    "    xarray_dir='../../../data/NAFLD/v4',\n",
    "    example_id=['0006', '0020', '0024', '0029', '0043', '0047', '0126', '0135', '0155', '0164', '0172', '0173', '0210', '0213', '0219', '0222', '0234', '0235', '0291', '0344', '0378', '0384', '0395', '0401', '0415', '0457', '0461', '0491', '0492', '0496', '0509', '0510', '0516', '0525', '0564', '0604', '0612', '0615', '0628', '0639', '0648', '0650', '0653', '0655', '0659', '0693', '0704', '0717', '0727', '0734', '0737', '0740', '0747', '0748', '0898', '0900', '0929', '0931', '0932', '0940', '0954', '0964', '0965', '0979', '0989', '0995', '1028', '1033', '1039', '1045', '1075', '1076', '1077', '1083', '1103', '1106', '1108', '1110', '1119', '1121', '1123', '1134', '1144', '1149', '1205', '1207', '1215', '1217', '1230', '1261', '1271', '1296', '1303', '1311', '1329', '1337', '1341', '1343', '1344', '1382', '1395', '1400', '1404', '1417', '1426', '1427', '1433', '1435', '1448', '1453', '1456', '1464', '1671', '1679', '1694', '1699', '1706', '1712', '1714', '1715', '1720', '1722', '1727', '1736', '1748', '1785', '1786', '1790', '1791', '1793', '1795', '1798', '1806', '1807', '1819', '1829', '1839', '1843', '1851', '1853', '1896', '1899', '1903', '1917', '1935', '1940', '1948', '1967', '1979', '1980', '2001', '2007', '2029', '2034', '2046'],\n",
    "    frequency=40,\n",
    "    omega=[30],\n",
    "    pde_name=['hetero'],\n",
    "    pde_init_weight=1e-18,\n",
    "    pde_loss_weight=1e-16,\n",
    "    a_loss_weight=[0, 1e-4, 1e-2, 1e0],\n",
    "    anatomical=True,\n",
    "    polar_input=1,\n",
    ")\n",
    "\n",
    "len(param_space)"
   ]
  },
  {
   "cell_type": "code",
   "execution_count": 16,
   "metadata": {},
   "outputs": [
    {
     "name": "stdout",
     "output_type": "stream",
     "text": [
      "100%|██████████| 620/620 [00:33<00:00, 18.78it/s]\n",
      "[14498265, 14498266, 14498267, 14498268, 14498269, 14498270, 14498271, 14498272, 14498273, 14498274, 14498275, 14498276, 14498277, 14498278, 14498279, 14498280, 14498281, 14498282, 14498283, 14498284, 14498285, 14498286, 14498287, 14498288, 14498289, 14498290, 14498291, 14498292, 14498293, 14498294, 14498295, 14498296, 14498297, 14498298, 14498299, 14498300, 14498301, 14498302, 14498303, 14498304, 14498305, 14498306, 14498307, 14498308, 14498309, 14498310, 14498311, 14498312, 14498313, 14498314, 14498315, 14498316, 14498317, 14498318, 14498319, 14498320, 14498321, 14498322, 14498323, 14498324, 14498325, 14498326, 14498327, 14498328, 14498329, 14498330, 14498331, 14498332, 14498333, 14498334, 14498335, 14498336, 14498337, 14498338, 14498339, 14498340, 14498341, 14498342, 14498343, 14498344, 14498345, 14498346, 14498347, 14498348, 14498349, 14498350, 14498351, 14498352, 14498353, 14498354, 14498355, 14498356, 14498357, 14498358, 14498359, 14498360, 14498361, 14498362, 14498363, 14498364, 14498365, 14498366, 14498367, 14498368, 14498369, 14498370, 14498371, 14498372, 14498373, 14498374, 14498375, 14498376, 14498377, 14498378, 14498379, 14498380, 14498381, 14498382, 14498383, 14498384, 14498385, 14498386, 14498387, 14498388, 14498389, 14498390, 14498391, 14498392, 14498393, 14498394, 14498395, 14498396, 14498397, 14498398, 14498399, 14498400, 14498401, 14498402, 14498403, 14498404, 14498405, 14498406, 14498407, 14498408, 14498409, 14498410, 14498411, 14498412, 14498413, 14498414, 14498415, 14498416, 14498417, 14498418, 14498419, 14498420, 14498421, 14498422, 14498423, 14498424, 14498425, 14498426, 14498427, 14498428, 14498429, 14498430, 14498431, 14498432, 14498433, 14498434, 14498435, 14498436, 14498437, 14498438, 14498439, 14498440, 14498441, 14498442, 14498443, 14498444, 14498445, 14498446, 14498447, 14498448, 14498449, 14498450, 14498451, 14498452, 14498453, 14498454, 14498455, 14498456, 14498457, 14498458, 14498459, 14498460, 14498461, 14498462, 14498463, 14498464, 14498465, 14498466, 14498467, 14498468, 14498469, 14498470, 14498471, 14498472, 14498473, 14498474, 14498475, 14498476, 14498477, 14498478, 14498479, 14498480, 14498481, 14498482, 14498483, 14498484, 14498485, 14498486, 14498487, 14498488, 14498489, 14498490, 14498491, 14498492, 14498493, 14498494, 14498495, 14498496, 14498497, 14498498, 14498499, 14498500, 14498501, 14498502, 14498503, 14498504, 14498505, 14498506, 14498507, 14498508, 14498509, 14498510, 14498511, 14498512, 14498513, 14498514, 14498515, 14498516, 14498517, 14498518, 14498519, 14498520, 14498521, 14498522, 14498523, 14498524, 14498525, 14498526, 14498527, 14498528, 14498529, 14498530, 14498531, 14498532, 14498533, 14498534, 14498535, 14498536, 14498537, 14498538, 14498539, 14498540, 14498541, 14498542, 14498543, 14498544, 14498545, 14498546, 14498547, 14498548, 14498549, 14498550, 14498551, 14498552, 14498553, 14498554, 14498555, 14498556, 14498557, 14498558, 14498559, 14498560, 14498561, 14498562, 14498563, 14498564, 14498565, 14498566, 14498567, 14498568, 14498569, 14498570, 14498571, 14498572, 14498573, 14498574, 14498575, 14498576, 14498577, 14498578, 14498579, 14498580, 14498581, 14498582, 14498583, 14498584, 14498585, 14498586, 14498587, 14498588, 14498589, 14498590, 14498591, 14498592, 14498593, 14498594, 14498595, 14498596, 14498597, 14498598, 14498599, 14498600, 14498601, 14498602, 14498603, 14498604, 14498605, 14498606, 14498607, 14498608, 14498609, 14498610, 14498611, 14498612, 14498613, 14498614, 14498615, 14498616, 14498617, 14498618, 14498619, 14498620, 14498621, 14498622, 14498623, 14498624, 14498625, 14498626, 14498627, 14498628, 14498629, 14498630, 14498631, 14498632, 14498633, 14498634, 14498635, 14498636, 14498637, 14498638, 14498639, 14498640, 14498641, 14498642, 14498643, 14498644, 14498645, 14498646, 14498647, 14498648, 14498649, 14498650, 14498651, 14498652, 14498653, 14498654, 14498655, 14498656, 14498657, 14498658, 14498659, 14498660, 14498661, 14498662, 14498663, 14498664, 14498665, 14498666, 14498667, 14498668, 14498669, 14498670, 14498671, 14498672, 14498673, 14498674, 14498675, 14498676, 14498677, 14498678, 14498679, 14498680, 14498681, 14498682, 14498683, 14498684, 14498685, 14498686, 14498687, 14498688, 14498689, 14498690, 14498691, 14498692, 14498693, 14498694, 14498695, 14498696, 14498697, 14498698, 14498699, 14498700, 14498701, 14498702, 14498703, 14498704, 14498705, 14498706, 14498707, 14498708, 14498709, 14498710, 14498711, 14498712, 14498713, 14498714, 14498715, 14498716, 14498717, 14498718, 14498719, 14498720, 14498721, 14498722, 14498723, 14498724, 14498725, 14498726, 14498727, 14498728, 14498729, 14498730, 14498731, 14498732, 14498733, 14498734, 14498735, 14498736, 14498737, 14498738, 14498739, 14498740, 14498741, 14498742, 14498743, 14498744, 14498745, 14498746, 14498747, 14498748, 14498749, 14498750, 14498751, 14498752, 14498753, 14498754, 14498755, 14498756, 14498757, 14498758, 14498759, 14498760, 14498761, 14498762, 14498763, 14498764, 14498765, 14498766, 14498767, 14498768, 14498769, 14498770, 14498771, 14498772, 14498773, 14498774, 14498775, 14498776, 14498777, 14498778, 14498779, 14498780, 14498782, 14498783, 14498784, 14498785, 14498786, 14498787, 14498788, 14498789, 14498790, 14498791, 14498792, 14498793, 14498794, 14498795, 14498796, 14498797, 14498798, 14498799, 14498800, 14498801, 14498802, 14498803, 14498804, 14498805, 14498806, 14498807, 14498808, 14498809, 14498810, 14498811, 14498812, 14498813, 14498814, 14498815, 14498816, 14498817, 14498818, 14498819, 14498820, 14498821, 14498822, 14498823, 14498824, 14498825, 14498826, 14498827, 14498828, 14498829, 14498830, 14498831, 14498832, 14498833, 14498834, 14498835, 14498836, 14498837, 14498838, 14498839, 14498840, 14498841, 14498842, 14498843, 14498844, 14498845, 14498846, 14498847, 14498848, 14498849, 14498850, 14498851, 14498852, 14498853, 14498854, 14498855, 14498856, 14498857, 14498858, 14498859, 14498860, 14498861, 14498862, 14498863, 14498864, 14498865, 14498866, 14498867, 14498868, 14498869, 14498870, 14498871, 14498872, 14498873, 14498874, 14498875, 14498876, 14498877, 14498878, 14498879, 14498880, 14498881, 14498882, 14498883, 14498884, 14498885]\n"
     ]
    }
   ],
   "source": [
    "%autoreload\n",
    "\n",
    "expt_name = '2022-2-16_patient_anat' # a_loss_weight\n",
    "\n",
    "#jobs = ps.submit(template, name, param_space, work_dir=expt_name, verbose=True)\n",
    "#jobs.to_csv(f'{expt_name}.jobs')\n",
    "\n",
    "jobs = pd.read_csv(f'{expt_name}.jobs')"
   ]
  },
  {
   "cell_type": "code",
   "execution_count": 17,
   "metadata": {
    "scrolled": false
   },
   "outputs": [
    {
     "data": {
      "text/html": [
       "<div>\n",
       "<style scoped>\n",
       "    .dataframe tbody tr th:only-of-type {\n",
       "        vertical-align: middle;\n",
       "    }\n",
       "\n",
       "    .dataframe tbody tr th {\n",
       "        vertical-align: top;\n",
       "    }\n",
       "\n",
       "    .dataframe thead th {\n",
       "        text-align: right;\n",
       "    }\n",
       "</style>\n",
       "<table border=\"1\" class=\"dataframe\">\n",
       "  <thead>\n",
       "    <tr style=\"text-align: right;\">\n",
       "      <th></th>\n",
       "      <th>job_name</th>\n",
       "      <th>job_state</th>\n",
       "      <th>node_id</th>\n",
       "      <th>runtime</th>\n",
       "      <th>stdout</th>\n",
       "      <th>stderr</th>\n",
       "    </tr>\n",
       "    <tr>\n",
       "      <th>job_id</th>\n",
       "      <th></th>\n",
       "      <th></th>\n",
       "      <th></th>\n",
       "      <th></th>\n",
       "      <th></th>\n",
       "      <th></th>\n",
       "    </tr>\n",
       "  </thead>\n",
       "  <tbody>\n",
       "    <tr>\n",
       "      <th>14498265</th>\n",
       "      <td>train_patient_0006_30_hetero_0e+00</td>\n",
       "      <td>RUNNING</td>\n",
       "      <td>dv004</td>\n",
       "      <td>31:45</td>\n",
       "      <td>dv004.bridges2.psc.edu\\n/ocean/projects/asc170...</td>\n",
       "      <td>Using backend: pytorch\\n\\nWARNING:py.warnings:...</td>\n",
       "    </tr>\n",
       "    <tr>\n",
       "      <th>14498266</th>\n",
       "      <td>train_patient_0006_30_hetero_1e-04</td>\n",
       "      <td>RUNNING</td>\n",
       "      <td>dv004</td>\n",
       "      <td>31:45</td>\n",
       "      <td>dv004.bridges2.psc.edu\\n/ocean/projects/asc170...</td>\n",
       "      <td>Using backend: pytorch\\n\\n</td>\n",
       "    </tr>\n",
       "    <tr>\n",
       "      <th>14498267</th>\n",
       "      <td>train_patient_0006_30_hetero_1e-02</td>\n",
       "      <td>RUNNING</td>\n",
       "      <td>dv004</td>\n",
       "      <td>31:45</td>\n",
       "      <td>dv004.bridges2.psc.edu\\n/ocean/projects/asc170...</td>\n",
       "      <td>Using backend: pytorch\\n\\n</td>\n",
       "    </tr>\n",
       "    <tr>\n",
       "      <th>14498268</th>\n",
       "      <td>train_patient_0006_30_hetero_1e+00</td>\n",
       "      <td>RUNNING</td>\n",
       "      <td>dv001</td>\n",
       "      <td>27:40</td>\n",
       "      <td>dv001.ib.bridges2.psc.edu\\n/ocean/projects/asc...</td>\n",
       "      <td>Using backend: pytorch\\n\\n</td>\n",
       "    </tr>\n",
       "    <tr>\n",
       "      <th>14498269</th>\n",
       "      <td>train_patient_0020_30_hetero_0e+00</td>\n",
       "      <td>PENDING</td>\n",
       "      <td>(Priority)</td>\n",
       "      <td>0:00</td>\n",
       "      <td>NaN</td>\n",
       "      <td>NaN</td>\n",
       "    </tr>\n",
       "    <tr>\n",
       "      <th>...</th>\n",
       "      <td>...</td>\n",
       "      <td>...</td>\n",
       "      <td>...</td>\n",
       "      <td>...</td>\n",
       "      <td>...</td>\n",
       "      <td>...</td>\n",
       "    </tr>\n",
       "    <tr>\n",
       "      <th>14498881</th>\n",
       "      <td>train_patient_2034_30_hetero_1e+00</td>\n",
       "      <td>PENDING</td>\n",
       "      <td>(Priority)</td>\n",
       "      <td>0:00</td>\n",
       "      <td>NaN</td>\n",
       "      <td>NaN</td>\n",
       "    </tr>\n",
       "    <tr>\n",
       "      <th>14498882</th>\n",
       "      <td>train_patient_2046_30_hetero_0e+00</td>\n",
       "      <td>PENDING</td>\n",
       "      <td>(Priority)</td>\n",
       "      <td>0:00</td>\n",
       "      <td>NaN</td>\n",
       "      <td>NaN</td>\n",
       "    </tr>\n",
       "    <tr>\n",
       "      <th>14498883</th>\n",
       "      <td>train_patient_2046_30_hetero_1e-04</td>\n",
       "      <td>PENDING</td>\n",
       "      <td>(Priority)</td>\n",
       "      <td>0:00</td>\n",
       "      <td>NaN</td>\n",
       "      <td>NaN</td>\n",
       "    </tr>\n",
       "    <tr>\n",
       "      <th>14498884</th>\n",
       "      <td>train_patient_2046_30_hetero_1e-02</td>\n",
       "      <td>PENDING</td>\n",
       "      <td>(Priority)</td>\n",
       "      <td>0:00</td>\n",
       "      <td>NaN</td>\n",
       "      <td>NaN</td>\n",
       "    </tr>\n",
       "    <tr>\n",
       "      <th>14498885</th>\n",
       "      <td>train_patient_2046_30_hetero_1e+00</td>\n",
       "      <td>PENDING</td>\n",
       "      <td>(Priority)</td>\n",
       "      <td>0:00</td>\n",
       "      <td>NaN</td>\n",
       "      <td>NaN</td>\n",
       "    </tr>\n",
       "  </tbody>\n",
       "</table>\n",
       "<p>620 rows × 6 columns</p>\n",
       "</div>"
      ],
      "text/plain": [
       "                                    job_name job_state     node_id runtime  \\\n",
       "job_id                                                                       \n",
       "14498265  train_patient_0006_30_hetero_0e+00   RUNNING       dv004   31:45   \n",
       "14498266  train_patient_0006_30_hetero_1e-04   RUNNING       dv004   31:45   \n",
       "14498267  train_patient_0006_30_hetero_1e-02   RUNNING       dv004   31:45   \n",
       "14498268  train_patient_0006_30_hetero_1e+00   RUNNING       dv001   27:40   \n",
       "14498269  train_patient_0020_30_hetero_0e+00   PENDING  (Priority)    0:00   \n",
       "...                                      ...       ...         ...     ...   \n",
       "14498881  train_patient_2034_30_hetero_1e+00   PENDING  (Priority)    0:00   \n",
       "14498882  train_patient_2046_30_hetero_0e+00   PENDING  (Priority)    0:00   \n",
       "14498883  train_patient_2046_30_hetero_1e-04   PENDING  (Priority)    0:00   \n",
       "14498884  train_patient_2046_30_hetero_1e-02   PENDING  (Priority)    0:00   \n",
       "14498885  train_patient_2046_30_hetero_1e+00   PENDING  (Priority)    0:00   \n",
       "\n",
       "                                                     stdout  \\\n",
       "job_id                                                        \n",
       "14498265  dv004.bridges2.psc.edu\\n/ocean/projects/asc170...   \n",
       "14498266  dv004.bridges2.psc.edu\\n/ocean/projects/asc170...   \n",
       "14498267  dv004.bridges2.psc.edu\\n/ocean/projects/asc170...   \n",
       "14498268  dv001.ib.bridges2.psc.edu\\n/ocean/projects/asc...   \n",
       "14498269                                                NaN   \n",
       "...                                                     ...   \n",
       "14498881                                                NaN   \n",
       "14498882                                                NaN   \n",
       "14498883                                                NaN   \n",
       "14498884                                                NaN   \n",
       "14498885                                                NaN   \n",
       "\n",
       "                                                     stderr  \n",
       "job_id                                                       \n",
       "14498265  Using backend: pytorch\\n\\nWARNING:py.warnings:...  \n",
       "14498266                         Using backend: pytorch\\n\\n  \n",
       "14498267                         Using backend: pytorch\\n\\n  \n",
       "14498268                         Using backend: pytorch\\n\\n  \n",
       "14498269                                                NaN  \n",
       "...                                                     ...  \n",
       "14498881                                                NaN  \n",
       "14498882                                                NaN  \n",
       "14498883                                                NaN  \n",
       "14498884                                                NaN  \n",
       "14498885                                                NaN  \n",
       "\n",
       "[620 rows x 6 columns]"
      ]
     },
     "execution_count": 17,
     "metadata": {},
     "output_type": "execute_result"
    }
   ],
   "source": [
    "status_cols = ['job_name', 'job_state', 'node_id', 'runtime', 'stdout', 'stderr']\n",
    "status = ps.status(jobs)\n",
    "status[status_cols]"
   ]
  },
  {
   "cell_type": "code",
   "execution_count": null,
   "metadata": {
    "scrolled": false
   },
   "outputs": [],
   "source": [
    "errors = status[status.stderr != 'Using backend: pytorch\\n\\n']\n",
    "len(errors)"
   ]
  },
  {
   "cell_type": "code",
   "execution_count": null,
   "metadata": {},
   "outputs": [],
   "source": [
    "metrics = ps.metrics(jobs[jobs.pde_name != 'hetero2'])\n",
    "\n",
    "# did all models train to 100k iterations?\n",
    "#assert (metrics.groupby('job_name')['iteration'].max() == 100e3).all()\n",
    "\n",
    "# get the final test evaluations\n",
    "metrics = metrics[metrics.iteration == 100e3]\n",
    "\n",
    "param_cols = ['pde_name', 'example_id', 'omega'] # experimental parameters\n",
    "index_cols = ['variable_name', 'spatial_frequency_bin', 'spatial_region'] # metric identifiers\n",
    "metric_cols = ['MSAV', 'PSD', 'MAV', 'R'] # metric values\n",
    "\n",
    "metrics = metrics.groupby(param_cols + index_cols, sort=False)[metric_cols].mean()\n",
    "metrics = metrics.unstack(level=[len(param_cols)])\n",
    "\n",
    "def metric_map(t):\n",
    "    metric_name, var_name = t\n",
    "    new_col_name = f'{var_name}_{metric_name}'\n",
    "    new_col_name = new_col_name.replace('diff_MSAV', 'pred_MSAE')\n",
    "    new_col_name = new_col_name.replace('pde_diff_MSAV', 'PDE_MSAE')\n",
    "    new_col_name = new_col_name.replace('diff_MAV', 'pred_MAD')\n",
    "    return new_col_name\n",
    "\n",
    "metrics.columns = [metric_map(t) for t in metrics.columns.to_flat_index()]\n",
    "metrics"
   ]
  },
  {
   "cell_type": "code",
   "execution_count": null,
   "metadata": {
    "scrolled": true
   },
   "outputs": [],
   "source": [
    "m = metrics.reset_index()\n",
    "\n",
    "#fig = ps.plot(\n",
    "#    m[m.spatial_region == 'all'],\n",
    "#    x=param_cols,\n",
    "#    y=['u_pred_MSAE', 'mu_pred_MSAE', 'direct_pred_MSAE', 'fem_pred_MSAE'],\n",
    "#    height=2.5,\n",
    "#    width=2.5,\n",
    "#    legend=False,\n",
    "#    tight=True\n",
    "#)"
   ]
  },
  {
   "cell_type": "code",
   "execution_count": null,
   "metadata": {},
   "outputs": [],
   "source": [
    "m.columns"
   ]
  },
  {
   "cell_type": "code",
   "execution_count": null,
   "metadata": {},
   "outputs": [],
   "source": [
    "m['method'] = 'PINN_' + m['pde_name']\n",
    "\n",
    "direct_m = m[m.pde_name == 'helmholtz'].copy()\n",
    "direct_m['method'] = 'direct_helmholtz'\n",
    "for col in m.columns:\n",
    "    if col.startswith('direct'):\n",
    "        direct_m[col.replace('direct', 'mu')] = m[col]\n",
    "        \n",
    "hh_fem_m = m[m.pde_name == 'helmholtz'].copy()\n",
    "hh_fem_m['method'] = 'FEM_helmholtz'\n",
    "for col in m.columns:\n",
    "    if col.startswith('fem'):\n",
    "        hh_fem_m[col.replace('fem', 'mu')] = m[col]\n",
    "\n",
    "ht_fem_m = m[m.pde_name == 'hetero'].copy()\n",
    "ht_fem_m['method'] = 'FEM_hetero'\n",
    "for col in m.columns:\n",
    "    if col.startswith('fem'):\n",
    "        ht_fem_m[col.replace('fem', 'mu')] = m[col]\n",
    "        \n",
    "mm = pd.concat([direct_m, hh_fem_m, ht_fem_m, m])\n",
    "\n",
    "method_order = ['direct_helmholtz', 'FEM_helmholtz', 'FEM_hetero', 'PINN_helmholtz', 'PINN_hetero']\n",
    "mm['method_index'] = mm['method'].map(method_order.index)\n",
    "mm = mm.sort_values('method_index')"
   ]
  },
  {
   "cell_type": "code",
   "execution_count": null,
   "metadata": {},
   "outputs": [],
   "source": [
    "import matplotlib as mpl\n",
    "pct_format = mpl.ticker.PercentFormatter()\n",
    "\n",
    "mm['mu_pred_MSAE_relative'] = mm['mu_pred_MSAE'] / mm['mu_true_MSAV'] * 100\n",
    "mm['mu_pred_MAD_relative'] = mm['mu_pred_MAD'] / mm['mu_true_MAV'] * 100"
   ]
  },
  {
   "cell_type": "code",
   "execution_count": null,
   "metadata": {},
   "outputs": [],
   "source": [
    "%autoreload\n",
    "import seaborn as sns\n",
    "import matplotlib.pyplot as plt\n",
    "\n",
    "colors = ps.results.get_color_palette(10, type='deep', min_val=0)\n",
    "blue, orange, green, red, purple, brown, pink, gray, yellow, cyan = colors\n",
    "\n",
    "colors = [blue, yellow, red, cyan, green]\n",
    "#colors = [blue, yellow, cyan]\n",
    "sns.set_palette(colors)\n",
    "colors = sns.color_palette()\n",
    "colors"
   ]
  },
  {
   "cell_type": "code",
   "execution_count": null,
   "metadata": {},
   "outputs": [],
   "source": [
    "mm.spatial_region.unique()"
   ]
  },
  {
   "cell_type": "code",
   "execution_count": null,
   "metadata": {},
   "outputs": [],
   "source": [
    "fig = ps.plot(\n",
    "    mm[~mm.spatial_region.isin({'0.0', 'all'})],\n",
    "    x='method',\n",
    "    y='mu_pred_MAD_relative',\n",
    "    height=3,\n",
    "    width=7,\n",
    "    legend=True,\n",
    "    tight=True,\n",
    "    plot_func=ps.results.barplot\n",
    ")\n",
    "fig.axes[0].set_ylabel('$\\mu$ relative MAD (%)')\n",
    "fig.axes[0].set_ylim(0, 100)\n",
    "fig.axes[0].yaxis.set_major_formatter(pct_format)\n",
    "fig.tight_layout()\n",
    "\n",
    "for i, patch in enumerate(fig.axes[0].patches):\n",
    "    plt.setp(patch, facecolor=colors[i])   \n",
    "\n",
    "for ext in ['png', 'pdf']:\n",
    "    fig.savefig(f'images/patient_method_bar_plot.{ext}', bbox_inches='tight', dpi=200)"
   ]
  },
  {
   "cell_type": "code",
   "execution_count": null,
   "metadata": {},
   "outputs": [],
   "source": [
    "fig = ps.plot(\n",
    "    mm[(mm.spatial_region == 'all') & (mm.spatial_frequency_bin == 'all')].copy(), # across all omegas\n",
    "    x='method',\n",
    "    hue='method',\n",
    "    y='mu_pred_R',\n",
    "    height=3,\n",
    "    width=7,\n",
    "    legend=False,\n",
    "    tight=True,\n",
    "    plot_func=ps.results.barplot\n",
    ")\n",
    "fig.axes[0].set_ylabel('$\\mu$ correlation (R)')\n",
    "fig.axes[0].set_ylim([0, 1])\n",
    "\n",
    "for i, patch in enumerate(fig.axes[0].patches):\n",
    "    plt.setp(patch, facecolor=colors[i])\n",
    "\n",
    "for ext in ['png', 'pdf']:\n",
    "    fig.savefig(f'images/patient_method_R_bar_plot.{ext}', bbox_inches='tight', dpi=200)"
   ]
  },
  {
   "cell_type": "code",
   "execution_count": null,
   "metadata": {},
   "outputs": [],
   "source": [
    "fig = ps.plot(\n",
    "    mm[~mm.spatial_region.isin({'0', 'all'}) & mm.method.str.startswith('PINN')], \n",
    "    x='omega',\n",
    "    y='mu_pred_MAD_relative',\n",
    "    height=5,\n",
    "    width=6,\n",
    "    legend=True,\n",
    "    tight=True,\n",
    "    plot_func=ps.results.barplot\n",
    ")\n",
    "fig.axes[0].set_ylabel('$\\mu$ relative MAD (%)')\n",
    "fig.axes[0].yaxis.set_major_formatter(pct_format)\n",
    "fig.axes[0].set_ylim(0, 100)\n",
    "fig.tight_layout()\n",
    "\n",
    "fig.axes[0].set_xlabel('omega')\n",
    "\n",
    "for ext in ['png', 'pdf']:\n",
    "    fig.savefig(f'images/patient_omega_bar_plot.{ext}', bbox_inches='tight', dpi=200)"
   ]
  },
  {
   "cell_type": "code",
   "execution_count": null,
   "metadata": {},
   "outputs": [],
   "source": [
    "%autoreload\n",
    "\n",
    "blue, orange, green, red, purple, brown, pink, gray, yellow, cyan = sns.color_palette('tab10')\n",
    "\n",
    "mre_pinn.visual.COLORS.update(\n",
    "    red=red,\n",
    "    yellow=yellow,\n",
    "    green=green,\n",
    "    cyan=cyan,\n",
    "    blue=blue\n",
    ")"
   ]
  },
  {
   "cell_type": "code",
   "execution_count": null,
   "metadata": {},
   "outputs": [],
   "source": [
    "example.anat.sizes"
   ]
  },
  {
   "cell_type": "code",
   "execution_count": null,
   "metadata": {
    "scrolled": false
   },
   "outputs": [],
   "source": [
    "example = mre_pinn.data.MREExample.load_xarrays('../data/NAFLD/v3', '0006', anat=True)\n",
    "example.arrays['anat'] = example.anat.sel(z=0.018237183332, method='nearest')\n",
    "example.arrays['anat_mask'] = example.anat_mask.sel(z=0.018237183332, method='nearest')\n",
    "example.view('anat', ax_height=2, space=0.2)\n",
    "plt.gcf().tight_layout()\n",
    "plt.savefig('images/patient_anat.png', dpi=200, bbox_inches='tight')\n",
    "example.view('anat_mask', ax_height=2, space=0.2)\n",
    "plt.gcf().tight_layout()\n",
    "plt.savefig('images/patient_mask.png', dpi=200, bbox_inches='tight')\n",
    "example.view('wave', ax_height=2, space=0.2)\n",
    "plt.gcf().tight_layout()\n",
    "plt.savefig('images/patient_wave.png', dpi=200, bbox_inches='tight')\n",
    "example.view('mre', ax_height=2, space=0.2)\n",
    "plt.gcf().tight_layout()\n",
    "plt.savefig('images/patient_mre.png', dpi=200, bbox_inches='tight')"
   ]
  },
  {
   "cell_type": "code",
   "execution_count": null,
   "metadata": {},
   "outputs": [],
   "source": []
  },
  {
   "cell_type": "code",
   "execution_count": null,
   "metadata": {
    "scrolled": false
   },
   "outputs": [],
   "source": [
    "%autoreload\n",
    "import mre_pinn\n",
    "\n",
    "image_names = ['wave image', 'ground truth', 'direct_helmholtz', 'FEM_helmholtz', 'FEM_hetero', 'PINN_helmholtz', 'PINN_hetero']\n",
    "\n",
    "def plot_image_grid(example_ids):\n",
    "    n_rows = len(example_ids)\n",
    "    n_cols = len(image_names)\n",
    "    ax_width = 1.2\n",
    "    ax_height = ax_width\n",
    "\n",
    "    fig, axes, cbar_ax = mre_pinn.visual.subplot_grid(n_rows, n_cols, ax_height, ax_width, space=0, pad=(0.35,0.15,0.15,0.25))\n",
    "    for row_idx, example_id in enumerate(example_ids):\n",
    "        example = mre_pinn.data.MREExample.load_xarrays('../data/NAFLD/v3', example_id)\n",
    "        for col_idx, image_name in enumerate(image_names):\n",
    "            ax = axes[row_idx,col_idx]\n",
    "            #ax.text(0.1, 0.1, f'{row_idx}, {col_idx}')\n",
    "            if col_idx == 0:\n",
    "                ax.set_ylabel(example_id, fontsize='medium')\n",
    "            if row_idx == 0:\n",
    "                ax.set_title(image_name, fontsize='small')\n",
    "            ax.set_yticks([])\n",
    "            ax.set_xticks([])\n",
    "\n",
    "            if image_name == 'wave image':\n",
    "                array = example.wave[...,0]\n",
    "                color_kws = mre_pinn.visual.get_color_kws(array)\n",
    "                color_kws['vmin'] = -color_kws['vmax']\n",
    "                array = array.real * example.mre_mask.values[...,0]\n",
    "\n",
    "            elif image_name == 'ground truth':\n",
    "                array = example.mre[...,0]\n",
    "                color_kws = mre_pinn.visual.get_color_kws(array)\n",
    "                color_kws['vmin'] = -color_kws['vmax']\n",
    "                array = np.abs(array) * example.mre_mask.values[...,0]\n",
    "\n",
    "            elif image_name == 'direct_helmholtz':\n",
    "                nc_file = f'2022-11-26_patient_hetero2/train_patient_{example_id}_helmholtz/train_patient_{example_id}_helmholtz_direct.nc'\n",
    "                array = mre_pinn.data.dataset.load_xarray_file(nc_file).sel(variable='direct_pred')[...,0]\n",
    "                color_kws = mre_pinn.visual.get_color_kws(array)\n",
    "                color_kws['vmin'] = -color_kws['vmax']\n",
    "                array = np.abs(array)\n",
    "\n",
    "            elif image_name == 'FEM_helmholtz':\n",
    "                nc_file = f'2022-11-26_patient_hetero2/train_patient_{example_id}_helmholtz/train_patient_{example_id}_helmholtz_fem.nc'\n",
    "                array = mre_pinn.data.dataset.load_xarray_file(nc_file).sel(variable='fem_pred')[...,0]\n",
    "                color_kws = mre_pinn.visual.get_color_kws(array)\n",
    "                color_kws['vmin'] = -color_kws['vmax']\n",
    "                array = np.abs(array)\n",
    "\n",
    "            elif image_name == 'FEM_hetero':\n",
    "                nc_file = f'2022-11-23_patient_init/train_patient_{example_id}_hetero/train_patient_{example_id}_hetero_fem.nc'\n",
    "                array = mre_pinn.data.dataset.load_xarray_file(nc_file).sel(variable='fem_pred')[...,0]\n",
    "                color_kws = mre_pinn.visual.get_color_kws(array)\n",
    "                color_kws['vmin'] = -color_kws['vmax']\n",
    "                array = np.abs(array)\n",
    "\n",
    "            elif image_name == 'PINN_helmholtz':\n",
    "                nc_file = f'2022-11-26_patient_hetero2/train_patient_{example_id}_helmholtz/train_patient_{example_id}_helmholtz_elastogram.nc'\n",
    "                array = mre_pinn.data.dataset.load_xarray_file(nc_file).sel(variable='mu_pred')[...,0]\n",
    "                color_kws = mre_pinn.visual.get_color_kws(array)\n",
    "                color_kws['vmin'] = -color_kws['vmax']\n",
    "                array = np.abs(array)\n",
    "\n",
    "            elif image_name == 'PINN_hetero':\n",
    "                nc_file = f'2022-11-23_patient_init/train_patient_{example_id}_hetero/train_patient_{example_id}_hetero_elastogram.nc'\n",
    "                array = mre_pinn.data.dataset.load_xarray_file(nc_file).sel(variable='mu_pred')[...,0]\n",
    "                color_kws = mre_pinn.visual.get_color_kws(array)\n",
    "                color_kws['vmin'] = -color_kws['vmax']\n",
    "                array = np.abs(array)\n",
    "\n",
    "            mre_pinn.visual.imshow(ax, array[:-24,8:-16], **color_kws)\n",
    "    \n",
    "    return fig\n",
    "\n",
    "fig0 = plot_image_grid(['0006', '0020', '0024', '0029'])\n",
    "fig1 = plot_image_grid(['0043', '0047', '0126', '0135'])\n",
    "\n",
    "for ext in ['png', 'pdf']:\n",
    "    fig0.savefig(f'images/patient_example_grid0.{ext}', bbox_inches='tight', dpi=200)\n",
    "    fig1.savefig(f'images/patient_example_grid1.{ext}', bbox_inches='tight', dpi=200)"
   ]
  },
  {
   "cell_type": "code",
   "execution_count": null,
   "metadata": {},
   "outputs": [],
   "source": [
    "example = mre_pinn.data.MREExample.load_xarrays('../data/NAFLD/v3', '0006')\n",
    "example.view()"
   ]
  },
  {
   "cell_type": "code",
   "execution_count": null,
   "metadata": {
    "scrolled": false
   },
   "outputs": [],
   "source": [
    "import xarray as xr\n",
    "u = example.wave\n",
    "x = u.field.points(reshape=False)\n",
    "x = (x - x.mean(axis=(0,1,2), keepdims=True)) / (x.max(axis=(0,1,2), keepdims=True) - x.min(axis=(0,1,2), keepdims=True))\n",
    "x, y, z = x[...,0], x[...,1], x[...,2]\n",
    "r = np.sqrt(x**2 + y**2)\n",
    "sin = y / (r + 1e-3)\n",
    "cos = x / (r + 1e-3)\n",
    "x = np.stack([x, y, z, r, sin, cos], axis=-1)\n",
    "\n",
    "print(x.shape)\n",
    "x_dims = ['x', 'y', 'z', 'component']\n",
    "x_coords = {\n",
    "    'x': u.x,\n",
    "    'y': u.y,\n",
    "    'z': u.z,\n",
    "    'component': ['x', 'y', 'z', 'r', 'sin', 'cos']\n",
    "}\n",
    "x = xr.DataArray(x, coords=x_coords, dims=x_dims)\n",
    "x.name = 'position'\n",
    "mre_pinn.visual.XArrayViewer(x, ax_height=3)"
   ]
  },
  {
   "cell_type": "code",
   "execution_count": null,
   "metadata": {},
   "outputs": [],
   "source": [
    "example.wave.coords"
   ]
  },
  {
   "cell_type": "code",
   "execution_count": null,
   "metadata": {},
   "outputs": [],
   "source": []
  }
 ],
 "metadata": {
  "kernelspec": {
   "display_name": "MRE-PINN",
   "language": "python",
   "name": "mre-pinn"
  },
  "language_info": {
   "codemirror_mode": {
    "name": "ipython",
    "version": 3
   },
   "file_extension": ".py",
   "mimetype": "text/x-python",
   "name": "python",
   "nbconvert_exporter": "python",
   "pygments_lexer": "ipython3",
   "version": "3.10.6"
  }
 },
 "nbformat": 4,
 "nbformat_minor": 4
}
