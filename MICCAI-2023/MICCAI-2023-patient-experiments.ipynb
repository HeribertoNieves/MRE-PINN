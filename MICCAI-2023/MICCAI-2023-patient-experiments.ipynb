{
 "cells": [
  {
   "cell_type": "code",
   "execution_count": 1,
   "metadata": {},
   "outputs": [
    {
     "name": "stdout",
     "output_type": "stream",
     "text": [
      "dv002.bridges2.psc.edu\n",
      "/ocean/projects/asc170022p/mtragoza/mre-pinn/MICCAI-2023\n"
     ]
    }
   ],
   "source": [
    "%matplotlib notebook\n",
    "%load_ext autoreload\n",
    "%autoreload 1\n",
    "!hostname\n",
    "!pwd"
   ]
  },
  {
   "cell_type": "code",
   "execution_count": 2,
   "metadata": {},
   "outputs": [
    {
     "name": "stderr",
     "output_type": "stream",
     "text": [
      "Using backend: pytorch\n",
      "\n"
     ]
    }
   ],
   "source": [
    "import sys, os\n",
    "import numpy as np\n",
    "import pandas as pd\n",
    "\n",
    "sys.path.append('..')\n",
    "%aimport mre_pinn\n",
    "\n",
    "sys.path.append('../../param_search')\n",
    "%aimport param_search\n",
    "ps = param_search"
   ]
  },
  {
   "cell_type": "markdown",
   "metadata": {},
   "source": [
    "# MICCAI 2023 patient experiment"
   ]
  },
  {
   "cell_type": "code",
   "execution_count": 3,
   "metadata": {},
   "outputs": [
    {
     "data": {
      "text/plain": [
       "'/ocean/projects/asc170022p/mtragoza/mre-pinn/MICCAI-2023'"
      ]
     },
     "execution_count": 3,
     "metadata": {},
     "output_type": "execute_result"
    }
   ],
   "source": [
    "%pwd"
   ]
  },
  {
   "cell_type": "code",
   "execution_count": 4,
   "metadata": {},
   "outputs": [
    {
     "data": {
      "text/plain": [
       "620"
      ]
     },
     "execution_count": 4,
     "metadata": {},
     "output_type": "execute_result"
    }
   ],
   "source": [
    "# define the job template and name format\n",
    "\n",
    "template = '''\\\n",
    "#!/bin/bash\n",
    "#SBATCH --job-name={job_name}\n",
    "#SBATCH --account=bio170034p\n",
    "#SBATCH --partition=BatComputer\n",
    "#SBATCH --gres=gpu:1\n",
    "#SBATCH --time=48:00:00\n",
    "#SBATCH -o %J.stdout\n",
    "#SBATCH -e %J.stderr\n",
    "#SBATCH --mail-type=all\n",
    "\n",
    "hostname\n",
    "pwd\n",
    "source activate MRE-PINN\n",
    "\n",
    "python ../../../train.py \\\\\n",
    "    --xarray_dir {xarray_dir} \\\\\n",
    "    --example_id {example_id} \\\\\n",
    "    --frequency {frequency} \\\\\n",
    "    --omega {omega} \\\\\n",
    "    --polar_input {polar_input} \\\\\n",
    "    --pde_name {pde_name} \\\\\n",
    "    --pde_warmup_iters 10000 \\\\\n",
    "    --pde_step_iters 5000 \\\\\n",
    "    --pde_step_factor 10 \\\\\n",
    "    --pde_init_weight {pde_init_weight} \\\\\n",
    "    --pde_loss_weight {pde_loss_weight} \\\\\n",
    "    --a_loss_weight {a_loss_weight} \\\\\n",
    "    --anatomical {anatomical} \\\\\n",
    "    --save_prefix {job_name}    \n",
    "'''\n",
    "name = 'train_{data_name}_{example_id}_{omega}_{pde_name}_{a_loss_weight:.0e}'\n",
    "\n",
    "# define the parameter space\n",
    "\n",
    "param_space = ps.ParamSpace(\n",
    "    data_name='patient',\n",
    "    xarray_dir='../../../data/NAFLD/v4',\n",
    "    example_id=['0006', '0020', '0024', '0029', '0043', '0047', '0126', '0135', '0155', '0164', '0172', '0173', '0210', '0213', '0219', '0222', '0234', '0235', '0291', '0344', '0378', '0384', '0395', '0401', '0415', '0457', '0461', '0491', '0492', '0496', '0509', '0510', '0516', '0525', '0564', '0604', '0612', '0615', '0628', '0639', '0648', '0650', '0653', '0655', '0659', '0693', '0704', '0717', '0727', '0734', '0737', '0740', '0747', '0748', '0898', '0900', '0929', '0931', '0932', '0940', '0954', '0964', '0965', '0979', '0989', '0995', '1028', '1033', '1039', '1045', '1075', '1076', '1077', '1083', '1103', '1106', '1108', '1110', '1119', '1121', '1123', '1134', '1144', '1149', '1205', '1207', '1215', '1217', '1230', '1261', '1271', '1296', '1303', '1311', '1329', '1337', '1341', '1343', '1344', '1382', '1395', '1400', '1404', '1417', '1426', '1427', '1433', '1435', '1448', '1453', '1456', '1464', '1671', '1679', '1694', '1699', '1706', '1712', '1714', '1715', '1720', '1722', '1727', '1736', '1748', '1785', '1786', '1790', '1791', '1793', '1795', '1798', '1806', '1807', '1819', '1829', '1839', '1843', '1851', '1853', '1896', '1899', '1903', '1917', '1935', '1940', '1948', '1967', '1979', '1980', '2001', '2007', '2029', '2034', '2046'],\n",
    "    frequency=40,\n",
    "    omega=[30],\n",
    "    pde_name=['hetero'],\n",
    "    pde_init_weight=1e-18,\n",
    "    pde_loss_weight=1e-16,\n",
    "    a_loss_weight=[0, 1e-4, 1e-2, 1e0],\n",
    "    anatomical=True,\n",
    "    polar_input=1,\n",
    ")\n",
    "\n",
    "len(param_space)"
   ]
  },
  {
   "cell_type": "code",
   "execution_count": 5,
   "metadata": {},
   "outputs": [
    {
     "name": "stdout",
     "output_type": "stream",
     "text": [
      "100%|██████████| 620/620 [00:24<00:00, 25.36it/s]\n",
      "[14528598, 14528599, 14528600, 14528601, 14528602, 14528603, 14528604, 14528605, 14528606, 14528607, 14528608, 14528609, 14528610, 14528611, 14528612, 14528613, 14528614, 14528615, 14528616, 14528617, 14528618, 14528619, 14528620, 14528621, 14528622, 14528623, 14528624, 14528625, 14528626, 14528627, 14528628, 14528629, 14528630, 14528631, 14528632, 14528633, 14528634, 14528635, 14528636, 14528637, 14528638, 14528639, 14528640, 14528641, 14528642, 14528643, 14528644, 14528645, 14528646, 14528647, 14528648, 14528649, 14528650, 14528651, 14528652, 14528653, 14528654, 14528655, 14528656, 14528657, 14528658, 14528659, 14528660, 14528661, 14528662, 14528663, 14528664, 14528665, 14528666, 14528667, 14528668, 14528669, 14528670, 14528671, 14528672, 14528673, 14528674, 14528675, 14528676, 14528677, 14528678, 14528679, 14528680, 14528681, 14528682, 14528683, 14528684, 14528685, 14528686, 14528687, 14528688, 14528689, 14528690, 14528691, 14528692, 14528693, 14528694, 14528695, 14528696, 14528697, 14528698, 14528699, 14528700, 14528701, 14528702, 14528703, 14528704, 14528705, 14528706, 14528707, 14528708, 14528709, 14528710, 14528711, 14528712, 14528713, 14528714, 14528715, 14528716, 14528717, 14528718, 14528719, 14528720, 14528721, 14528722, 14528723, 14528724, 14528725, 14528726, 14528727, 14528728, 14528729, 14528730, 14528731, 14528732, 14528733, 14528734, 14528735, 14528736, 14528737, 14528738, 14528739, 14528740, 14528741, 14528742, 14528743, 14528744, 14528745, 14528746, 14528747, 14528748, 14528749, 14528750, 14528751, 14528752, 14528753, 14528754, 14528755, 14528756, 14528757, 14528758, 14528759, 14528760, 14528761, 14528762, 14528763, 14528764, 14528765, 14528766, 14528767, 14528768, 14528769, 14528770, 14528771, 14528772, 14528773, 14528774, 14528775, 14528776, 14528777, 14528778, 14528779, 14528780, 14528781, 14528782, 14528783, 14528784, 14528785, 14528786, 14528787, 14528788, 14528789, 14528790, 14528791, 14528792, 14528793, 14528794, 14528795, 14528796, 14528797, 14528798, 14528799, 14528800, 14528801, 14528802, 14528803, 14528804, 14528805, 14528806, 14528807, 14528808, 14528809, 14528810, 14528811, 14528812, 14528813, 14528814, 14528815, 14528816, 14528817, 14528818, 14528819, 14528820, 14528821, 14528822, 14528823, 14528824, 14528825, 14528826, 14528827, 14528828, 14528829, 14528830, 14528831, 14528832, 14528833, 14528834, 14528835, 14528836, 14528837, 14528838, 14528839, 14528840, 14528841, 14528842, 14528843, 14528844, 14528845, 14528846, 14528847, 14528848, 14528849, 14528850, 14528851, 14528852, 14528853, 14528854, 14528855, 14528856, 14528857, 14528858, 14528859, 14528860, 14528861, 14528862, 14528863, 14528865, 14528866, 14528867, 14528868, 14528869, 14528870, 14528871, 14528872, 14528873, 14528874, 14528875, 14528876, 14528877, 14528878, 14528879, 14528880, 14528881, 14528882, 14528883, 14528884, 14528885, 14528886, 14528887, 14528888, 14528889, 14528890, 14528891, 14528892, 14528893, 14528894, 14528895, 14528896, 14528897, 14528898, 14528899, 14528900, 14528901, 14528902, 14528903, 14528904, 14528905, 14528906, 14528907, 14528908, 14528909, 14528910, 14528911, 14528912, 14528913, 14528914, 14528915, 14528916, 14528917, 14528918, 14528919, 14528920, 14528921, 14528922, 14528923, 14528924, 14528925, 14528926, 14528927, 14528928, 14528929, 14528930, 14528931, 14528932, 14528933, 14528934, 14528935, 14528936, 14528937, 14528938, 14528939, 14528940, 14528941, 14528942, 14528943, 14528944, 14528945, 14528946, 14528947, 14528948, 14528949, 14528950, 14528951, 14528952, 14528953, 14528954, 14528955, 14528956, 14528957, 14528958, 14528959, 14528960, 14528961, 14528962, 14528963, 14528964, 14528965, 14528966, 14528967, 14528968, 14528969, 14528970, 14528971, 14528972, 14528973, 14528974, 14528975, 14528976, 14528977, 14528978, 14528979, 14528980, 14528981, 14528982, 14528983, 14528984, 14528985, 14528986, 14528987, 14528988, 14528989, 14528990, 14528991, 14528992, 14528993, 14528994, 14528995, 14528996, 14528997, 14528998, 14528999, 14529000, 14529001, 14529002, 14529003, 14529004, 14529005, 14529006, 14529007, 14529008, 14529009, 14529010, 14529011, 14529012, 14529013, 14529014, 14529015, 14529016, 14529017, 14529018, 14529019, 14529020, 14529021, 14529022, 14529023, 14529024, 14529025, 14529026, 14529027, 14529028, 14529029, 14529030, 14529031, 14529032, 14529033, 14529034, 14529035, 14529036, 14529037, 14529038, 14529039, 14529040, 14529041, 14529042, 14529043, 14529044, 14529045, 14529046, 14529047, 14529048, 14529049, 14529050, 14529051, 14529052, 14529053, 14529054, 14529055, 14529056, 14529057, 14529058, 14529059, 14529060, 14529061, 14529062, 14529063, 14529064, 14529065, 14529066, 14529067, 14529068, 14529069, 14529070, 14529071, 14529072, 14529073, 14529074, 14529075, 14529076, 14529077, 14529078, 14529079, 14529080, 14529081, 14529082, 14529083, 14529084, 14529085, 14529086, 14529087, 14529088, 14529089, 14529090, 14529091, 14529092, 14529093, 14529094, 14529095, 14529096, 14529097, 14529098, 14529099, 14529100, 14529101, 14529102, 14529103, 14529104, 14529105, 14529106, 14529107, 14529108, 14529109, 14529110, 14529111, 14529112, 14529113, 14529114, 14529115, 14529116, 14529117, 14529118, 14529119, 14529120, 14529121, 14529122, 14529123, 14529124, 14529125, 14529126, 14529127, 14529128, 14529129, 14529130, 14529131, 14529132, 14529133, 14529134, 14529135, 14529136, 14529137, 14529138, 14529139, 14529140, 14529141, 14529142, 14529143, 14529144, 14529145, 14529146, 14529147, 14529148, 14529149, 14529150, 14529151, 14529152, 14529153, 14529154, 14529155, 14529156, 14529157, 14529158, 14529159, 14529160, 14529161, 14529162, 14529163, 14529164, 14529165, 14529166, 14529167, 14529168, 14529169, 14529170, 14529171, 14529172, 14529173, 14529174, 14529175, 14529176, 14529177, 14529178, 14529179, 14529180, 14529181, 14529182, 14529183, 14529184, 14529185, 14529186, 14529187, 14529188, 14529189, 14529190, 14529191, 14529192, 14529193, 14529194, 14529195, 14529196, 14529197, 14529198, 14529199, 14529200, 14529201, 14529202, 14529203, 14529204, 14529205, 14529206, 14529207, 14529208, 14529209, 14529210, 14529211, 14529212, 14529213, 14529214, 14529215, 14529216, 14529217, 14529218]\n"
     ]
    }
   ],
   "source": [
    "%autoreload\n",
    "\n",
    "expt_name = '2023-2-16_patient_anat' # a_loss_weight\n",
    "\n",
    "#jobs = ps.submit(template, name, param_space, work_dir=expt_name, verbose=True)\n",
    "#jobs.to_csv(f'{expt_name}.jobs')\n",
    "\n",
    "jobs = pd.read_csv(f'{expt_name}.jobs')"
   ]
  },
  {
   "cell_type": "code",
   "execution_count": 6,
   "metadata": {
    "scrolled": false
   },
   "outputs": [
    {
     "data": {
      "text/html": [
       "<div>\n",
       "<style scoped>\n",
       "    .dataframe tbody tr th:only-of-type {\n",
       "        vertical-align: middle;\n",
       "    }\n",
       "\n",
       "    .dataframe tbody tr th {\n",
       "        vertical-align: top;\n",
       "    }\n",
       "\n",
       "    .dataframe thead th {\n",
       "        text-align: right;\n",
       "    }\n",
       "</style>\n",
       "<table border=\"1\" class=\"dataframe\">\n",
       "  <thead>\n",
       "    <tr style=\"text-align: right;\">\n",
       "      <th></th>\n",
       "      <th>job_name</th>\n",
       "      <th>job_state</th>\n",
       "      <th>node_id</th>\n",
       "      <th>runtime</th>\n",
       "      <th>stdout</th>\n",
       "      <th>stderr</th>\n",
       "    </tr>\n",
       "    <tr>\n",
       "      <th>job_id</th>\n",
       "      <th></th>\n",
       "      <th></th>\n",
       "      <th></th>\n",
       "      <th></th>\n",
       "      <th></th>\n",
       "      <th></th>\n",
       "    </tr>\n",
       "  </thead>\n",
       "  <tbody>\n",
       "    <tr>\n",
       "      <th>14528598</th>\n",
       "      <td>train_patient_0006_30_hetero_0e+00</td>\n",
       "      <td>RUNNING</td>\n",
       "      <td>dv002</td>\n",
       "      <td>1:46:58</td>\n",
       "      <td>dv002.bridges2.psc.edu\\n/ocean/projects/asc170...</td>\n",
       "      <td>Using backend: pytorch\\n\\nWARNING:py.warnings:...</td>\n",
       "    </tr>\n",
       "    <tr>\n",
       "      <th>14528599</th>\n",
       "      <td>train_patient_0006_30_hetero_1e-04</td>\n",
       "      <td>RUNNING</td>\n",
       "      <td>dv003</td>\n",
       "      <td>17:06</td>\n",
       "      <td>dv003.bridges2.psc.edu\\n/ocean/projects/asc170...</td>\n",
       "      <td>Using backend: pytorch\\n\\n</td>\n",
       "    </tr>\n",
       "    <tr>\n",
       "      <th>14528600</th>\n",
       "      <td>train_patient_0006_30_hetero_1e-02</td>\n",
       "      <td>RUNNING</td>\n",
       "      <td>dv003</td>\n",
       "      <td>17:06</td>\n",
       "      <td>dv003.bridges2.psc.edu\\n/ocean/projects/asc170...</td>\n",
       "      <td>Using backend: pytorch\\n\\n</td>\n",
       "    </tr>\n",
       "    <tr>\n",
       "      <th>14528601</th>\n",
       "      <td>train_patient_0006_30_hetero_1e+00</td>\n",
       "      <td>RUNNING</td>\n",
       "      <td>dv003</td>\n",
       "      <td>17:06</td>\n",
       "      <td>dv003.bridges2.psc.edu\\n/ocean/projects/asc170...</td>\n",
       "      <td>Using backend: pytorch\\n\\n</td>\n",
       "    </tr>\n",
       "    <tr>\n",
       "      <th>14528602</th>\n",
       "      <td>train_patient_0020_30_hetero_0e+00</td>\n",
       "      <td>RUNNING</td>\n",
       "      <td>dv003</td>\n",
       "      <td>17:06</td>\n",
       "      <td>dv003.bridges2.psc.edu\\n/ocean/projects/asc170...</td>\n",
       "      <td>Using backend: pytorch\\n\\n</td>\n",
       "    </tr>\n",
       "    <tr>\n",
       "      <th>...</th>\n",
       "      <td>...</td>\n",
       "      <td>...</td>\n",
       "      <td>...</td>\n",
       "      <td>...</td>\n",
       "      <td>...</td>\n",
       "      <td>...</td>\n",
       "    </tr>\n",
       "    <tr>\n",
       "      <th>14529214</th>\n",
       "      <td>train_patient_2034_30_hetero_1e+00</td>\n",
       "      <td>PENDING</td>\n",
       "      <td>(Priority)</td>\n",
       "      <td>0:00</td>\n",
       "      <td>NaN</td>\n",
       "      <td>NaN</td>\n",
       "    </tr>\n",
       "    <tr>\n",
       "      <th>14529215</th>\n",
       "      <td>train_patient_2046_30_hetero_0e+00</td>\n",
       "      <td>PENDING</td>\n",
       "      <td>(Priority)</td>\n",
       "      <td>0:00</td>\n",
       "      <td>NaN</td>\n",
       "      <td>NaN</td>\n",
       "    </tr>\n",
       "    <tr>\n",
       "      <th>14529216</th>\n",
       "      <td>train_patient_2046_30_hetero_1e-04</td>\n",
       "      <td>PENDING</td>\n",
       "      <td>(Priority)</td>\n",
       "      <td>0:00</td>\n",
       "      <td>NaN</td>\n",
       "      <td>NaN</td>\n",
       "    </tr>\n",
       "    <tr>\n",
       "      <th>14529217</th>\n",
       "      <td>train_patient_2046_30_hetero_1e-02</td>\n",
       "      <td>PENDING</td>\n",
       "      <td>(Priority)</td>\n",
       "      <td>0:00</td>\n",
       "      <td>NaN</td>\n",
       "      <td>NaN</td>\n",
       "    </tr>\n",
       "    <tr>\n",
       "      <th>14529218</th>\n",
       "      <td>train_patient_2046_30_hetero_1e+00</td>\n",
       "      <td>PENDING</td>\n",
       "      <td>(Priority)</td>\n",
       "      <td>0:00</td>\n",
       "      <td>NaN</td>\n",
       "      <td>NaN</td>\n",
       "    </tr>\n",
       "  </tbody>\n",
       "</table>\n",
       "<p>620 rows × 6 columns</p>\n",
       "</div>"
      ],
      "text/plain": [
       "                                    job_name job_state     node_id  runtime  \\\n",
       "job_id                                                                        \n",
       "14528598  train_patient_0006_30_hetero_0e+00   RUNNING       dv002  1:46:58   \n",
       "14528599  train_patient_0006_30_hetero_1e-04   RUNNING       dv003    17:06   \n",
       "14528600  train_patient_0006_30_hetero_1e-02   RUNNING       dv003    17:06   \n",
       "14528601  train_patient_0006_30_hetero_1e+00   RUNNING       dv003    17:06   \n",
       "14528602  train_patient_0020_30_hetero_0e+00   RUNNING       dv003    17:06   \n",
       "...                                      ...       ...         ...      ...   \n",
       "14529214  train_patient_2034_30_hetero_1e+00   PENDING  (Priority)     0:00   \n",
       "14529215  train_patient_2046_30_hetero_0e+00   PENDING  (Priority)     0:00   \n",
       "14529216  train_patient_2046_30_hetero_1e-04   PENDING  (Priority)     0:00   \n",
       "14529217  train_patient_2046_30_hetero_1e-02   PENDING  (Priority)     0:00   \n",
       "14529218  train_patient_2046_30_hetero_1e+00   PENDING  (Priority)     0:00   \n",
       "\n",
       "                                                     stdout  \\\n",
       "job_id                                                        \n",
       "14528598  dv002.bridges2.psc.edu\\n/ocean/projects/asc170...   \n",
       "14528599  dv003.bridges2.psc.edu\\n/ocean/projects/asc170...   \n",
       "14528600  dv003.bridges2.psc.edu\\n/ocean/projects/asc170...   \n",
       "14528601  dv003.bridges2.psc.edu\\n/ocean/projects/asc170...   \n",
       "14528602  dv003.bridges2.psc.edu\\n/ocean/projects/asc170...   \n",
       "...                                                     ...   \n",
       "14529214                                                NaN   \n",
       "14529215                                                NaN   \n",
       "14529216                                                NaN   \n",
       "14529217                                                NaN   \n",
       "14529218                                                NaN   \n",
       "\n",
       "                                                     stderr  \n",
       "job_id                                                       \n",
       "14528598  Using backend: pytorch\\n\\nWARNING:py.warnings:...  \n",
       "14528599                         Using backend: pytorch\\n\\n  \n",
       "14528600                         Using backend: pytorch\\n\\n  \n",
       "14528601                         Using backend: pytorch\\n\\n  \n",
       "14528602                         Using backend: pytorch\\n\\n  \n",
       "...                                                     ...  \n",
       "14529214                                                NaN  \n",
       "14529215                                                NaN  \n",
       "14529216                                                NaN  \n",
       "14529217                                                NaN  \n",
       "14529218                                                NaN  \n",
       "\n",
       "[620 rows x 6 columns]"
      ]
     },
     "execution_count": 6,
     "metadata": {},
     "output_type": "execute_result"
    }
   ],
   "source": [
    "status_cols = ['job_name', 'job_state', 'node_id', 'runtime', 'stdout', 'stderr']\n",
    "status = ps.status(jobs)\n",
    "status[status_cols]"
   ]
  },
  {
   "cell_type": "code",
   "execution_count": null,
   "metadata": {
    "scrolled": false
   },
   "outputs": [],
   "source": [
    "errors = status[status.stderr != 'Using backend: pytorch\\n\\n']\n",
    "len(errors)"
   ]
  },
  {
   "cell_type": "code",
   "execution_count": null,
   "metadata": {},
   "outputs": [],
   "source": [
    "metrics = ps.metrics(jobs[jobs.pde_name != 'hetero2'])\n",
    "\n",
    "# did all models train to 100k iterations?\n",
    "#assert (metrics.groupby('job_name')['iteration'].max() == 100e3).all()\n",
    "\n",
    "# get the final test evaluations\n",
    "metrics = metrics[metrics.iteration == 100e3]\n",
    "\n",
    "param_cols = ['pde_name', 'example_id', 'omega'] # experimental parameters\n",
    "index_cols = ['variable_name', 'spatial_frequency_bin', 'spatial_region'] # metric identifiers\n",
    "metric_cols = ['MSAV', 'PSD', 'MAV', 'R'] # metric values\n",
    "\n",
    "metrics = metrics.groupby(param_cols + index_cols, sort=False)[metric_cols].mean()\n",
    "metrics = metrics.unstack(level=[len(param_cols)])\n",
    "\n",
    "def metric_map(t):\n",
    "    metric_name, var_name = t\n",
    "    new_col_name = f'{var_name}_{metric_name}'\n",
    "    new_col_name = new_col_name.replace('diff_MSAV', 'pred_MSAE')\n",
    "    new_col_name = new_col_name.replace('pde_diff_MSAV', 'PDE_MSAE')\n",
    "    new_col_name = new_col_name.replace('diff_MAV', 'pred_MAD')\n",
    "    return new_col_name\n",
    "\n",
    "metrics.columns = [metric_map(t) for t in metrics.columns.to_flat_index()]\n",
    "metrics"
   ]
  },
  {
   "cell_type": "code",
   "execution_count": null,
   "metadata": {
    "scrolled": true
   },
   "outputs": [],
   "source": [
    "m = metrics.reset_index()\n",
    "\n",
    "#fig = ps.plot(\n",
    "#    m[m.spatial_region == 'all'],\n",
    "#    x=param_cols,\n",
    "#    y=['u_pred_MSAE', 'mu_pred_MSAE', 'direct_pred_MSAE', 'fem_pred_MSAE'],\n",
    "#    height=2.5,\n",
    "#    width=2.5,\n",
    "#    legend=False,\n",
    "#    tight=True\n",
    "#)"
   ]
  },
  {
   "cell_type": "code",
   "execution_count": null,
   "metadata": {},
   "outputs": [],
   "source": [
    "m.columns"
   ]
  },
  {
   "cell_type": "code",
   "execution_count": null,
   "metadata": {},
   "outputs": [],
   "source": [
    "m['method'] = 'PINN_' + m['pde_name']\n",
    "\n",
    "direct_m = m[m.pde_name == 'helmholtz'].copy()\n",
    "direct_m['method'] = 'direct_helmholtz'\n",
    "for col in m.columns:\n",
    "    if col.startswith('direct'):\n",
    "        direct_m[col.replace('direct', 'mu')] = m[col]\n",
    "        \n",
    "hh_fem_m = m[m.pde_name == 'helmholtz'].copy()\n",
    "hh_fem_m['method'] = 'FEM_helmholtz'\n",
    "for col in m.columns:\n",
    "    if col.startswith('fem'):\n",
    "        hh_fem_m[col.replace('fem', 'mu')] = m[col]\n",
    "\n",
    "ht_fem_m = m[m.pde_name == 'hetero'].copy()\n",
    "ht_fem_m['method'] = 'FEM_hetero'\n",
    "for col in m.columns:\n",
    "    if col.startswith('fem'):\n",
    "        ht_fem_m[col.replace('fem', 'mu')] = m[col]\n",
    "        \n",
    "mm = pd.concat([direct_m, hh_fem_m, ht_fem_m, m])\n",
    "\n",
    "method_order = ['direct_helmholtz', 'FEM_helmholtz', 'FEM_hetero', 'PINN_helmholtz', 'PINN_hetero']\n",
    "mm['method_index'] = mm['method'].map(method_order.index)\n",
    "mm = mm.sort_values('method_index')"
   ]
  },
  {
   "cell_type": "code",
   "execution_count": null,
   "metadata": {},
   "outputs": [],
   "source": [
    "import matplotlib as mpl\n",
    "pct_format = mpl.ticker.PercentFormatter()\n",
    "\n",
    "mm['mu_pred_MSAE_relative'] = mm['mu_pred_MSAE'] / mm['mu_true_MSAV'] * 100\n",
    "mm['mu_pred_MAD_relative'] = mm['mu_pred_MAD'] / mm['mu_true_MAV'] * 100"
   ]
  },
  {
   "cell_type": "code",
   "execution_count": null,
   "metadata": {},
   "outputs": [],
   "source": [
    "%autoreload\n",
    "import seaborn as sns\n",
    "import matplotlib.pyplot as plt\n",
    "\n",
    "colors = ps.results.get_color_palette(10, type='deep', min_val=0)\n",
    "blue, orange, green, red, purple, brown, pink, gray, yellow, cyan = colors\n",
    "\n",
    "colors = [blue, yellow, red, cyan, green]\n",
    "#colors = [blue, yellow, cyan]\n",
    "sns.set_palette(colors)\n",
    "colors = sns.color_palette()\n",
    "colors"
   ]
  },
  {
   "cell_type": "code",
   "execution_count": null,
   "metadata": {},
   "outputs": [],
   "source": [
    "mm.spatial_region.unique()"
   ]
  },
  {
   "cell_type": "code",
   "execution_count": null,
   "metadata": {},
   "outputs": [],
   "source": [
    "fig = ps.plot(\n",
    "    mm[~mm.spatial_region.isin({'0.0', 'all'})],\n",
    "    x='method',\n",
    "    y='mu_pred_MAD_relative',\n",
    "    height=3,\n",
    "    width=7,\n",
    "    legend=True,\n",
    "    tight=True,\n",
    "    plot_func=ps.results.barplot\n",
    ")\n",
    "fig.axes[0].set_ylabel('$\\mu$ relative MAD (%)')\n",
    "fig.axes[0].set_ylim(0, 100)\n",
    "fig.axes[0].yaxis.set_major_formatter(pct_format)\n",
    "fig.tight_layout()\n",
    "\n",
    "for i, patch in enumerate(fig.axes[0].patches):\n",
    "    plt.setp(patch, facecolor=colors[i])   \n",
    "\n",
    "for ext in ['png', 'pdf']:\n",
    "    fig.savefig(f'images/patient_method_bar_plot.{ext}', bbox_inches='tight', dpi=200)"
   ]
  },
  {
   "cell_type": "code",
   "execution_count": null,
   "metadata": {},
   "outputs": [],
   "source": [
    "fig = ps.plot(\n",
    "    mm[(mm.spatial_region == 'all') & (mm.spatial_frequency_bin == 'all')].copy(), # across all omegas\n",
    "    x='method',\n",
    "    hue='method',\n",
    "    y='mu_pred_R',\n",
    "    height=3,\n",
    "    width=7,\n",
    "    legend=False,\n",
    "    tight=True,\n",
    "    plot_func=ps.results.barplot\n",
    ")\n",
    "fig.axes[0].set_ylabel('$\\mu$ correlation (R)')\n",
    "fig.axes[0].set_ylim([0, 1])\n",
    "\n",
    "for i, patch in enumerate(fig.axes[0].patches):\n",
    "    plt.setp(patch, facecolor=colors[i])\n",
    "\n",
    "for ext in ['png', 'pdf']:\n",
    "    fig.savefig(f'images/patient_method_R_bar_plot.{ext}', bbox_inches='tight', dpi=200)"
   ]
  },
  {
   "cell_type": "code",
   "execution_count": null,
   "metadata": {},
   "outputs": [],
   "source": [
    "fig = ps.plot(\n",
    "    mm[~mm.spatial_region.isin({'0', 'all'}) & mm.method.str.startswith('PINN')], \n",
    "    x='omega',\n",
    "    y='mu_pred_MAD_relative',\n",
    "    height=5,\n",
    "    width=6,\n",
    "    legend=True,\n",
    "    tight=True,\n",
    "    plot_func=ps.results.barplot\n",
    ")\n",
    "fig.axes[0].set_ylabel('$\\mu$ relative MAD (%)')\n",
    "fig.axes[0].yaxis.set_major_formatter(pct_format)\n",
    "fig.axes[0].set_ylim(0, 100)\n",
    "fig.tight_layout()\n",
    "\n",
    "fig.axes[0].set_xlabel('omega')\n",
    "\n",
    "for ext in ['png', 'pdf']:\n",
    "    fig.savefig(f'images/patient_omega_bar_plot.{ext}', bbox_inches='tight', dpi=200)"
   ]
  },
  {
   "cell_type": "code",
   "execution_count": null,
   "metadata": {},
   "outputs": [],
   "source": [
    "%autoreload\n",
    "\n",
    "blue, orange, green, red, purple, brown, pink, gray, yellow, cyan = sns.color_palette('tab10')\n",
    "\n",
    "mre_pinn.visual.COLORS.update(\n",
    "    red=red,\n",
    "    yellow=yellow,\n",
    "    green=green,\n",
    "    cyan=cyan,\n",
    "    blue=blue\n",
    ")"
   ]
  },
  {
   "cell_type": "code",
   "execution_count": null,
   "metadata": {},
   "outputs": [],
   "source": [
    "example.anat.sizes"
   ]
  },
  {
   "cell_type": "code",
   "execution_count": null,
   "metadata": {
    "scrolled": false
   },
   "outputs": [],
   "source": [
    "example = mre_pinn.data.MREExample.load_xarrays('../data/NAFLD/v3', '0006', anat=True)\n",
    "example.arrays['anat'] = example.anat.sel(z=0.018237183332, method='nearest')\n",
    "example.arrays['anat_mask'] = example.anat_mask.sel(z=0.018237183332, method='nearest')\n",
    "example.view('anat', ax_height=2, space=0.2)\n",
    "plt.gcf().tight_layout()\n",
    "plt.savefig('images/patient_anat.png', dpi=200, bbox_inches='tight')\n",
    "example.view('anat_mask', ax_height=2, space=0.2)\n",
    "plt.gcf().tight_layout()\n",
    "plt.savefig('images/patient_mask.png', dpi=200, bbox_inches='tight')\n",
    "example.view('wave', ax_height=2, space=0.2)\n",
    "plt.gcf().tight_layout()\n",
    "plt.savefig('images/patient_wave.png', dpi=200, bbox_inches='tight')\n",
    "example.view('mre', ax_height=2, space=0.2)\n",
    "plt.gcf().tight_layout()\n",
    "plt.savefig('images/patient_mre.png', dpi=200, bbox_inches='tight')"
   ]
  },
  {
   "cell_type": "code",
   "execution_count": null,
   "metadata": {},
   "outputs": [],
   "source": []
  },
  {
   "cell_type": "code",
   "execution_count": null,
   "metadata": {
    "scrolled": false
   },
   "outputs": [],
   "source": [
    "%autoreload\n",
    "import mre_pinn\n",
    "\n",
    "image_names = ['wave image', 'ground truth', 'direct_helmholtz', 'FEM_helmholtz', 'FEM_hetero', 'PINN_helmholtz', 'PINN_hetero']\n",
    "\n",
    "def plot_image_grid(example_ids):\n",
    "    n_rows = len(example_ids)\n",
    "    n_cols = len(image_names)\n",
    "    ax_width = 1.2\n",
    "    ax_height = ax_width\n",
    "\n",
    "    fig, axes, cbar_ax = mre_pinn.visual.subplot_grid(n_rows, n_cols, ax_height, ax_width, space=0, pad=(0.35,0.15,0.15,0.25))\n",
    "    for row_idx, example_id in enumerate(example_ids):\n",
    "        example = mre_pinn.data.MREExample.load_xarrays('../data/NAFLD/v3', example_id)\n",
    "        for col_idx, image_name in enumerate(image_names):\n",
    "            ax = axes[row_idx,col_idx]\n",
    "            #ax.text(0.1, 0.1, f'{row_idx}, {col_idx}')\n",
    "            if col_idx == 0:\n",
    "                ax.set_ylabel(example_id, fontsize='medium')\n",
    "            if row_idx == 0:\n",
    "                ax.set_title(image_name, fontsize='small')\n",
    "            ax.set_yticks([])\n",
    "            ax.set_xticks([])\n",
    "\n",
    "            if image_name == 'wave image':\n",
    "                array = example.wave[...,0]\n",
    "                color_kws = mre_pinn.visual.get_color_kws(array)\n",
    "                color_kws['vmin'] = -color_kws['vmax']\n",
    "                array = array.real * example.mre_mask.values[...,0]\n",
    "\n",
    "            elif image_name == 'ground truth':\n",
    "                array = example.mre[...,0]\n",
    "                color_kws = mre_pinn.visual.get_color_kws(array)\n",
    "                color_kws['vmin'] = -color_kws['vmax']\n",
    "                array = np.abs(array) * example.mre_mask.values[...,0]\n",
    "\n",
    "            elif image_name == 'direct_helmholtz':\n",
    "                nc_file = f'2022-11-26_patient_hetero2/train_patient_{example_id}_helmholtz/train_patient_{example_id}_helmholtz_direct.nc'\n",
    "                array = mre_pinn.data.dataset.load_xarray_file(nc_file).sel(variable='direct_pred')[...,0]\n",
    "                color_kws = mre_pinn.visual.get_color_kws(array)\n",
    "                color_kws['vmin'] = -color_kws['vmax']\n",
    "                array = np.abs(array)\n",
    "\n",
    "            elif image_name == 'FEM_helmholtz':\n",
    "                nc_file = f'2022-11-26_patient_hetero2/train_patient_{example_id}_helmholtz/train_patient_{example_id}_helmholtz_fem.nc'\n",
    "                array = mre_pinn.data.dataset.load_xarray_file(nc_file).sel(variable='fem_pred')[...,0]\n",
    "                color_kws = mre_pinn.visual.get_color_kws(array)\n",
    "                color_kws['vmin'] = -color_kws['vmax']\n",
    "                array = np.abs(array)\n",
    "\n",
    "            elif image_name == 'FEM_hetero':\n",
    "                nc_file = f'2022-11-23_patient_init/train_patient_{example_id}_hetero/train_patient_{example_id}_hetero_fem.nc'\n",
    "                array = mre_pinn.data.dataset.load_xarray_file(nc_file).sel(variable='fem_pred')[...,0]\n",
    "                color_kws = mre_pinn.visual.get_color_kws(array)\n",
    "                color_kws['vmin'] = -color_kws['vmax']\n",
    "                array = np.abs(array)\n",
    "\n",
    "            elif image_name == 'PINN_helmholtz':\n",
    "                nc_file = f'2022-11-26_patient_hetero2/train_patient_{example_id}_helmholtz/train_patient_{example_id}_helmholtz_elastogram.nc'\n",
    "                array = mre_pinn.data.dataset.load_xarray_file(nc_file).sel(variable='mu_pred')[...,0]\n",
    "                color_kws = mre_pinn.visual.get_color_kws(array)\n",
    "                color_kws['vmin'] = -color_kws['vmax']\n",
    "                array = np.abs(array)\n",
    "\n",
    "            elif image_name == 'PINN_hetero':\n",
    "                nc_file = f'2022-11-23_patient_init/train_patient_{example_id}_hetero/train_patient_{example_id}_hetero_elastogram.nc'\n",
    "                array = mre_pinn.data.dataset.load_xarray_file(nc_file).sel(variable='mu_pred')[...,0]\n",
    "                color_kws = mre_pinn.visual.get_color_kws(array)\n",
    "                color_kws['vmin'] = -color_kws['vmax']\n",
    "                array = np.abs(array)\n",
    "\n",
    "            mre_pinn.visual.imshow(ax, array[:-24,8:-16], **color_kws)\n",
    "    \n",
    "    return fig\n",
    "\n",
    "fig0 = plot_image_grid(['0006', '0020', '0024', '0029'])\n",
    "fig1 = plot_image_grid(['0043', '0047', '0126', '0135'])\n",
    "\n",
    "for ext in ['png', 'pdf']:\n",
    "    fig0.savefig(f'images/patient_example_grid0.{ext}', bbox_inches='tight', dpi=200)\n",
    "    fig1.savefig(f'images/patient_example_grid1.{ext}', bbox_inches='tight', dpi=200)"
   ]
  },
  {
   "cell_type": "code",
   "execution_count": null,
   "metadata": {},
   "outputs": [],
   "source": [
    "example = mre_pinn.data.MREExample.load_xarrays('../data/NAFLD/v3', '0006')\n",
    "example.view()"
   ]
  },
  {
   "cell_type": "code",
   "execution_count": null,
   "metadata": {
    "scrolled": false
   },
   "outputs": [],
   "source": [
    "import xarray as xr\n",
    "u = example.wave\n",
    "x = u.field.points(reshape=False)\n",
    "x = (x - x.mean(axis=(0,1,2), keepdims=True)) / (x.max(axis=(0,1,2), keepdims=True) - x.min(axis=(0,1,2), keepdims=True))\n",
    "x, y, z = x[...,0], x[...,1], x[...,2]\n",
    "r = np.sqrt(x**2 + y**2)\n",
    "sin = y / (r + 1e-3)\n",
    "cos = x / (r + 1e-3)\n",
    "x = np.stack([x, y, z, r, sin, cos], axis=-1)\n",
    "\n",
    "print(x.shape)\n",
    "x_dims = ['x', 'y', 'z', 'component']\n",
    "x_coords = {\n",
    "    'x': u.x,\n",
    "    'y': u.y,\n",
    "    'z': u.z,\n",
    "    'component': ['x', 'y', 'z', 'r', 'sin', 'cos']\n",
    "}\n",
    "x = xr.DataArray(x, coords=x_coords, dims=x_dims)\n",
    "x.name = 'position'\n",
    "mre_pinn.visual.XArrayViewer(x, ax_height=3)"
   ]
  },
  {
   "cell_type": "code",
   "execution_count": null,
   "metadata": {},
   "outputs": [],
   "source": [
    "example.wave.coords"
   ]
  },
  {
   "cell_type": "code",
   "execution_count": null,
   "metadata": {},
   "outputs": [],
   "source": []
  }
 ],
 "metadata": {
  "kernelspec": {
   "display_name": "MRE-PINN",
   "language": "python",
   "name": "mre-pinn"
  },
  "language_info": {
   "codemirror_mode": {
    "name": "ipython",
    "version": 3
   },
   "file_extension": ".py",
   "mimetype": "text/x-python",
   "name": "python",
   "nbconvert_exporter": "python",
   "pygments_lexer": "ipython3",
   "version": "3.10.6"
  }
 },
 "nbformat": 4,
 "nbformat_minor": 4
}
